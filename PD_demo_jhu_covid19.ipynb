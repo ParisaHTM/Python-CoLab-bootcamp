{
  "nbformat": 4,
  "nbformat_minor": 0,
  "metadata": {
    "kernelspec": {
      "display_name": "Python 3",
      "language": "python",
      "name": "python3"
    },
    "language_info": {
      "codemirror_mode": {
        "name": "ipython",
        "version": 3
      },
      "file_extension": ".py",
      "mimetype": "text/x-python",
      "name": "python",
      "nbconvert_exporter": "python",
      "pygments_lexer": "ipython3",
      "version": "3.7.4"
    },
    "colab": {
      "name": "PD-demo-jhu-covid19.ipynb",
      "provenance": [],
      "collapsed_sections": [],
      "toc_visible": true
    }
  },
  "cells": [
    {
      "cell_type": "code",
      "metadata": {
        "id": "GnP8fyh4xiAE",
        "colab_type": "code",
        "colab": {}
      },
      "source": [
        "### Import libraries\n",
        "import pandas as pd # primary data structure library"
      ],
      "execution_count": 1,
      "outputs": []
    },
    {
      "cell_type": "markdown",
      "metadata": {
        "id": "I5qHZo9wxiAI",
        "colab_type": "text"
      },
      "source": [
        "# Downloading Data "
      ]
    },
    {
      "cell_type": "code",
      "metadata": {
        "id": "SNyBWZKvx8K_",
        "colab_type": "code",
        "colab": {
          "base_uri": "https://localhost:8080/",
          "height": 151
        },
        "outputId": "b710e68e-6815-47e0-b662-716f36c7b223"
      },
      "source": [
        "! git clone https://github.com/CSSEGISandData/COVID-19.git"
      ],
      "execution_count": 2,
      "outputs": [
        {
          "output_type": "stream",
          "text": [
            "Cloning into 'COVID-19'...\n",
            "remote: Enumerating objects: 40, done.\u001b[K\n",
            "remote: Counting objects: 100% (40/40), done.\u001b[K\n",
            "remote: Compressing objects: 100% (30/30), done.\u001b[K\n",
            "remote: Total 53115 (delta 14), reused 23 (delta 10), pack-reused 53075\u001b[K\n",
            "Receiving objects: 100% (53115/53115), 433.18 MiB | 28.90 MiB/s, done.\n",
            "Resolving deltas: 100% (33367/33367), done.\n",
            "Checking out files: 100% (634/634), done.\n"
          ],
          "name": "stdout"
        }
      ]
    },
    {
      "cell_type": "markdown",
      "metadata": {
        "id": "9b4CBTtzxiAI",
        "colab_type": "text"
      },
      "source": [
        "This data is collected from repository for the 2019 Novel Coronavirus Visual Dashboard operated by the Johns Hopkins University Center for Systems Science and Engineering (JHU CSSE).https://github.com/CSSEGISandData/COVID-19"
      ]
    },
    {
      "cell_type": "code",
      "metadata": {
        "id": "O2wayAo5xiAJ",
        "colab_type": "code",
        "colab": {}
      },
      "source": [
        "### Select data path\n",
        "fullpath1= '/content/COVID-19/csse_covid_19_data/csse_covid_19_time_series/time_series_covid19_confirmed_US.csv'\n",
        "\n",
        "df1 = pd.read_csv(fullpath1, error_bad_lines=False)\n",
        "\n",
        "fullpath2 = '/content/COVID-19/csse_covid_19_data/csse_covid_19_time_series/time_series_covid19_confirmed_global.csv'\n",
        "\n",
        "df2 = pd.read_csv(fullpath2, error_bad_lines=False)"
      ],
      "execution_count": 3,
      "outputs": []
    },
    {
      "cell_type": "markdown",
      "metadata": {
        "id": "kDg4ZO9UxiAL",
        "colab_type": "text"
      },
      "source": [
        "# Exploring USA Data cases"
      ]
    },
    {
      "cell_type": "code",
      "metadata": {
        "id": "t2mZYd_yCc9m",
        "colab_type": "code",
        "colab": {
          "base_uri": "https://localhost:8080/",
          "height": 34
        },
        "outputId": "ad155744-9ab8-4062-c82f-a8112f3d597e"
      },
      "source": [
        "df1.shape"
      ],
      "execution_count": 4,
      "outputs": [
        {
          "output_type": "execute_result",
          "data": {
            "text/plain": [
              "(3340, 254)"
            ]
          },
          "metadata": {
            "tags": []
          },
          "execution_count": 4
        }
      ]
    },
    {
      "cell_type": "markdown",
      "metadata": {
        "id": "_btAEh9rxiAL",
        "colab_type": "text"
      },
      "source": [
        "view the dataframe"
      ]
    },
    {
      "cell_type": "code",
      "metadata": {
        "scrolled": true,
        "id": "gqWEqfLHxiAM",
        "colab_type": "code",
        "colab": {
          "base_uri": "https://localhost:8080/",
          "height": 328
        },
        "outputId": "b66f5359-275d-4790-e667-9f808611e2e1"
      },
      "source": [
        "df1.head()"
      ],
      "execution_count": 5,
      "outputs": [
        {
          "output_type": "execute_result",
          "data": {
            "text/html": [
              "<div>\n",
              "<style scoped>\n",
              "    .dataframe tbody tr th:only-of-type {\n",
              "        vertical-align: middle;\n",
              "    }\n",
              "\n",
              "    .dataframe tbody tr th {\n",
              "        vertical-align: top;\n",
              "    }\n",
              "\n",
              "    .dataframe thead th {\n",
              "        text-align: right;\n",
              "    }\n",
              "</style>\n",
              "<table border=\"1\" class=\"dataframe\">\n",
              "  <thead>\n",
              "    <tr style=\"text-align: right;\">\n",
              "      <th></th>\n",
              "      <th>UID</th>\n",
              "      <th>iso2</th>\n",
              "      <th>iso3</th>\n",
              "      <th>code3</th>\n",
              "      <th>FIPS</th>\n",
              "      <th>Admin2</th>\n",
              "      <th>Province_State</th>\n",
              "      <th>Country_Region</th>\n",
              "      <th>Lat</th>\n",
              "      <th>Long_</th>\n",
              "      <th>Combined_Key</th>\n",
              "      <th>1/22/20</th>\n",
              "      <th>1/23/20</th>\n",
              "      <th>1/24/20</th>\n",
              "      <th>1/25/20</th>\n",
              "      <th>1/26/20</th>\n",
              "      <th>1/27/20</th>\n",
              "      <th>1/28/20</th>\n",
              "      <th>1/29/20</th>\n",
              "      <th>1/30/20</th>\n",
              "      <th>1/31/20</th>\n",
              "      <th>2/1/20</th>\n",
              "      <th>2/2/20</th>\n",
              "      <th>2/3/20</th>\n",
              "      <th>2/4/20</th>\n",
              "      <th>2/5/20</th>\n",
              "      <th>2/6/20</th>\n",
              "      <th>2/7/20</th>\n",
              "      <th>2/8/20</th>\n",
              "      <th>2/9/20</th>\n",
              "      <th>2/10/20</th>\n",
              "      <th>2/11/20</th>\n",
              "      <th>2/12/20</th>\n",
              "      <th>2/13/20</th>\n",
              "      <th>2/14/20</th>\n",
              "      <th>2/15/20</th>\n",
              "      <th>2/16/20</th>\n",
              "      <th>2/17/20</th>\n",
              "      <th>2/18/20</th>\n",
              "      <th>2/19/20</th>\n",
              "      <th>...</th>\n",
              "      <th>8/12/20</th>\n",
              "      <th>8/13/20</th>\n",
              "      <th>8/14/20</th>\n",
              "      <th>8/15/20</th>\n",
              "      <th>8/16/20</th>\n",
              "      <th>8/17/20</th>\n",
              "      <th>8/18/20</th>\n",
              "      <th>8/19/20</th>\n",
              "      <th>8/20/20</th>\n",
              "      <th>8/21/20</th>\n",
              "      <th>8/22/20</th>\n",
              "      <th>8/23/20</th>\n",
              "      <th>8/24/20</th>\n",
              "      <th>8/25/20</th>\n",
              "      <th>8/26/20</th>\n",
              "      <th>8/27/20</th>\n",
              "      <th>8/28/20</th>\n",
              "      <th>8/29/20</th>\n",
              "      <th>8/30/20</th>\n",
              "      <th>8/31/20</th>\n",
              "      <th>9/1/20</th>\n",
              "      <th>9/2/20</th>\n",
              "      <th>9/3/20</th>\n",
              "      <th>9/4/20</th>\n",
              "      <th>9/5/20</th>\n",
              "      <th>9/6/20</th>\n",
              "      <th>9/7/20</th>\n",
              "      <th>9/8/20</th>\n",
              "      <th>9/9/20</th>\n",
              "      <th>9/10/20</th>\n",
              "      <th>9/11/20</th>\n",
              "      <th>9/12/20</th>\n",
              "      <th>9/13/20</th>\n",
              "      <th>9/14/20</th>\n",
              "      <th>9/15/20</th>\n",
              "      <th>9/16/20</th>\n",
              "      <th>9/17/20</th>\n",
              "      <th>9/18/20</th>\n",
              "      <th>9/19/20</th>\n",
              "      <th>9/20/20</th>\n",
              "    </tr>\n",
              "  </thead>\n",
              "  <tbody>\n",
              "    <tr>\n",
              "      <th>0</th>\n",
              "      <td>84001001</td>\n",
              "      <td>US</td>\n",
              "      <td>USA</td>\n",
              "      <td>840</td>\n",
              "      <td>1001.0</td>\n",
              "      <td>Autauga</td>\n",
              "      <td>Alabama</td>\n",
              "      <td>US</td>\n",
              "      <td>32.539527</td>\n",
              "      <td>-86.644082</td>\n",
              "      <td>Autauga, Alabama, US</td>\n",
              "      <td>0</td>\n",
              "      <td>0</td>\n",
              "      <td>0</td>\n",
              "      <td>0</td>\n",
              "      <td>0</td>\n",
              "      <td>0</td>\n",
              "      <td>0</td>\n",
              "      <td>0</td>\n",
              "      <td>0</td>\n",
              "      <td>0</td>\n",
              "      <td>0</td>\n",
              "      <td>0</td>\n",
              "      <td>0</td>\n",
              "      <td>0</td>\n",
              "      <td>0</td>\n",
              "      <td>0</td>\n",
              "      <td>0</td>\n",
              "      <td>0</td>\n",
              "      <td>0</td>\n",
              "      <td>0</td>\n",
              "      <td>0</td>\n",
              "      <td>0</td>\n",
              "      <td>0</td>\n",
              "      <td>0</td>\n",
              "      <td>0</td>\n",
              "      <td>0</td>\n",
              "      <td>0</td>\n",
              "      <td>0</td>\n",
              "      <td>0</td>\n",
              "      <td>...</td>\n",
              "      <td>1188</td>\n",
              "      <td>1196</td>\n",
              "      <td>1196</td>\n",
              "      <td>1206</td>\n",
              "      <td>1218</td>\n",
              "      <td>1219</td>\n",
              "      <td>1235</td>\n",
              "      <td>1241</td>\n",
              "      <td>1240</td>\n",
              "      <td>1255</td>\n",
              "      <td>1264</td>\n",
              "      <td>1266</td>\n",
              "      <td>1286</td>\n",
              "      <td>1286</td>\n",
              "      <td>1281</td>\n",
              "      <td>1284</td>\n",
              "      <td>1296</td>\n",
              "      <td>1309</td>\n",
              "      <td>1345</td>\n",
              "      <td>1348</td>\n",
              "      <td>1354</td>\n",
              "      <td>1345</td>\n",
              "      <td>1349</td>\n",
              "      <td>1355</td>\n",
              "      <td>1371</td>\n",
              "      <td>1377</td>\n",
              "      <td>1383</td>\n",
              "      <td>1385</td>\n",
              "      <td>1398</td>\n",
              "      <td>1413</td>\n",
              "      <td>1420</td>\n",
              "      <td>1432</td>\n",
              "      <td>1442</td>\n",
              "      <td>1447</td>\n",
              "      <td>1463</td>\n",
              "      <td>1619</td>\n",
              "      <td>1624</td>\n",
              "      <td>1664</td>\n",
              "      <td>1673</td>\n",
              "      <td>1690</td>\n",
              "    </tr>\n",
              "    <tr>\n",
              "      <th>1</th>\n",
              "      <td>84001003</td>\n",
              "      <td>US</td>\n",
              "      <td>USA</td>\n",
              "      <td>840</td>\n",
              "      <td>1003.0</td>\n",
              "      <td>Baldwin</td>\n",
              "      <td>Alabama</td>\n",
              "      <td>US</td>\n",
              "      <td>30.727750</td>\n",
              "      <td>-87.722071</td>\n",
              "      <td>Baldwin, Alabama, US</td>\n",
              "      <td>0</td>\n",
              "      <td>0</td>\n",
              "      <td>0</td>\n",
              "      <td>0</td>\n",
              "      <td>0</td>\n",
              "      <td>0</td>\n",
              "      <td>0</td>\n",
              "      <td>0</td>\n",
              "      <td>0</td>\n",
              "      <td>0</td>\n",
              "      <td>0</td>\n",
              "      <td>0</td>\n",
              "      <td>0</td>\n",
              "      <td>0</td>\n",
              "      <td>0</td>\n",
              "      <td>0</td>\n",
              "      <td>0</td>\n",
              "      <td>0</td>\n",
              "      <td>0</td>\n",
              "      <td>0</td>\n",
              "      <td>0</td>\n",
              "      <td>0</td>\n",
              "      <td>0</td>\n",
              "      <td>0</td>\n",
              "      <td>0</td>\n",
              "      <td>0</td>\n",
              "      <td>0</td>\n",
              "      <td>0</td>\n",
              "      <td>0</td>\n",
              "      <td>...</td>\n",
              "      <td>3710</td>\n",
              "      <td>3744</td>\n",
              "      <td>3791</td>\n",
              "      <td>3839</td>\n",
              "      <td>3877</td>\n",
              "      <td>3888</td>\n",
              "      <td>3906</td>\n",
              "      <td>3931</td>\n",
              "      <td>3957</td>\n",
              "      <td>3997</td>\n",
              "      <td>4037</td>\n",
              "      <td>4069</td>\n",
              "      <td>4083</td>\n",
              "      <td>4100</td>\n",
              "      <td>4166</td>\n",
              "      <td>4199</td>\n",
              "      <td>4230</td>\n",
              "      <td>4307</td>\n",
              "      <td>4402</td>\n",
              "      <td>4422</td>\n",
              "      <td>4445</td>\n",
              "      <td>4458</td>\n",
              "      <td>4495</td>\n",
              "      <td>4513</td>\n",
              "      <td>4542</td>\n",
              "      <td>4569</td>\n",
              "      <td>4586</td>\n",
              "      <td>4609</td>\n",
              "      <td>4639</td>\n",
              "      <td>4678</td>\n",
              "      <td>4722</td>\n",
              "      <td>4752</td>\n",
              "      <td>4781</td>\n",
              "      <td>4800</td>\n",
              "      <td>4812</td>\n",
              "      <td>5003</td>\n",
              "      <td>5021</td>\n",
              "      <td>5033</td>\n",
              "      <td>5047</td>\n",
              "      <td>5061</td>\n",
              "    </tr>\n",
              "    <tr>\n",
              "      <th>2</th>\n",
              "      <td>84001005</td>\n",
              "      <td>US</td>\n",
              "      <td>USA</td>\n",
              "      <td>840</td>\n",
              "      <td>1005.0</td>\n",
              "      <td>Barbour</td>\n",
              "      <td>Alabama</td>\n",
              "      <td>US</td>\n",
              "      <td>31.868263</td>\n",
              "      <td>-85.387129</td>\n",
              "      <td>Barbour, Alabama, US</td>\n",
              "      <td>0</td>\n",
              "      <td>0</td>\n",
              "      <td>0</td>\n",
              "      <td>0</td>\n",
              "      <td>0</td>\n",
              "      <td>0</td>\n",
              "      <td>0</td>\n",
              "      <td>0</td>\n",
              "      <td>0</td>\n",
              "      <td>0</td>\n",
              "      <td>0</td>\n",
              "      <td>0</td>\n",
              "      <td>0</td>\n",
              "      <td>0</td>\n",
              "      <td>0</td>\n",
              "      <td>0</td>\n",
              "      <td>0</td>\n",
              "      <td>0</td>\n",
              "      <td>0</td>\n",
              "      <td>0</td>\n",
              "      <td>0</td>\n",
              "      <td>0</td>\n",
              "      <td>0</td>\n",
              "      <td>0</td>\n",
              "      <td>0</td>\n",
              "      <td>0</td>\n",
              "      <td>0</td>\n",
              "      <td>0</td>\n",
              "      <td>0</td>\n",
              "      <td>...</td>\n",
              "      <td>581</td>\n",
              "      <td>586</td>\n",
              "      <td>590</td>\n",
              "      <td>598</td>\n",
              "      <td>604</td>\n",
              "      <td>605</td>\n",
              "      <td>606</td>\n",
              "      <td>613</td>\n",
              "      <td>619</td>\n",
              "      <td>622</td>\n",
              "      <td>626</td>\n",
              "      <td>629</td>\n",
              "      <td>633</td>\n",
              "      <td>628</td>\n",
              "      <td>616</td>\n",
              "      <td>614</td>\n",
              "      <td>620</td>\n",
              "      <td>624</td>\n",
              "      <td>628</td>\n",
              "      <td>628</td>\n",
              "      <td>629</td>\n",
              "      <td>617</td>\n",
              "      <td>614</td>\n",
              "      <td>616</td>\n",
              "      <td>616</td>\n",
              "      <td>616</td>\n",
              "      <td>617</td>\n",
              "      <td>617</td>\n",
              "      <td>618</td>\n",
              "      <td>618</td>\n",
              "      <td>618</td>\n",
              "      <td>620</td>\n",
              "      <td>622</td>\n",
              "      <td>626</td>\n",
              "      <td>629</td>\n",
              "      <td>809</td>\n",
              "      <td>809</td>\n",
              "      <td>824</td>\n",
              "      <td>830</td>\n",
              "      <td>835</td>\n",
              "    </tr>\n",
              "    <tr>\n",
              "      <th>3</th>\n",
              "      <td>84001007</td>\n",
              "      <td>US</td>\n",
              "      <td>USA</td>\n",
              "      <td>840</td>\n",
              "      <td>1007.0</td>\n",
              "      <td>Bibb</td>\n",
              "      <td>Alabama</td>\n",
              "      <td>US</td>\n",
              "      <td>32.996421</td>\n",
              "      <td>-87.125115</td>\n",
              "      <td>Bibb, Alabama, US</td>\n",
              "      <td>0</td>\n",
              "      <td>0</td>\n",
              "      <td>0</td>\n",
              "      <td>0</td>\n",
              "      <td>0</td>\n",
              "      <td>0</td>\n",
              "      <td>0</td>\n",
              "      <td>0</td>\n",
              "      <td>0</td>\n",
              "      <td>0</td>\n",
              "      <td>0</td>\n",
              "      <td>0</td>\n",
              "      <td>0</td>\n",
              "      <td>0</td>\n",
              "      <td>0</td>\n",
              "      <td>0</td>\n",
              "      <td>0</td>\n",
              "      <td>0</td>\n",
              "      <td>0</td>\n",
              "      <td>0</td>\n",
              "      <td>0</td>\n",
              "      <td>0</td>\n",
              "      <td>0</td>\n",
              "      <td>0</td>\n",
              "      <td>0</td>\n",
              "      <td>0</td>\n",
              "      <td>0</td>\n",
              "      <td>0</td>\n",
              "      <td>0</td>\n",
              "      <td>...</td>\n",
              "      <td>453</td>\n",
              "      <td>457</td>\n",
              "      <td>465</td>\n",
              "      <td>469</td>\n",
              "      <td>469</td>\n",
              "      <td>474</td>\n",
              "      <td>476</td>\n",
              "      <td>490</td>\n",
              "      <td>494</td>\n",
              "      <td>501</td>\n",
              "      <td>503</td>\n",
              "      <td>510</td>\n",
              "      <td>510</td>\n",
              "      <td>511</td>\n",
              "      <td>513</td>\n",
              "      <td>515</td>\n",
              "      <td>517</td>\n",
              "      <td>523</td>\n",
              "      <td>533</td>\n",
              "      <td>535</td>\n",
              "      <td>538</td>\n",
              "      <td>541</td>\n",
              "      <td>542</td>\n",
              "      <td>545</td>\n",
              "      <td>550</td>\n",
              "      <td>555</td>\n",
              "      <td>557</td>\n",
              "      <td>562</td>\n",
              "      <td>564</td>\n",
              "      <td>566</td>\n",
              "      <td>574</td>\n",
              "      <td>576</td>\n",
              "      <td>578</td>\n",
              "      <td>581</td>\n",
              "      <td>580</td>\n",
              "      <td>612</td>\n",
              "      <td>617</td>\n",
              "      <td>619</td>\n",
              "      <td>628</td>\n",
              "      <td>632</td>\n",
              "    </tr>\n",
              "    <tr>\n",
              "      <th>4</th>\n",
              "      <td>84001009</td>\n",
              "      <td>US</td>\n",
              "      <td>USA</td>\n",
              "      <td>840</td>\n",
              "      <td>1009.0</td>\n",
              "      <td>Blount</td>\n",
              "      <td>Alabama</td>\n",
              "      <td>US</td>\n",
              "      <td>33.982109</td>\n",
              "      <td>-86.567906</td>\n",
              "      <td>Blount, Alabama, US</td>\n",
              "      <td>0</td>\n",
              "      <td>0</td>\n",
              "      <td>0</td>\n",
              "      <td>0</td>\n",
              "      <td>0</td>\n",
              "      <td>0</td>\n",
              "      <td>0</td>\n",
              "      <td>0</td>\n",
              "      <td>0</td>\n",
              "      <td>0</td>\n",
              "      <td>0</td>\n",
              "      <td>0</td>\n",
              "      <td>0</td>\n",
              "      <td>0</td>\n",
              "      <td>0</td>\n",
              "      <td>0</td>\n",
              "      <td>0</td>\n",
              "      <td>0</td>\n",
              "      <td>0</td>\n",
              "      <td>0</td>\n",
              "      <td>0</td>\n",
              "      <td>0</td>\n",
              "      <td>0</td>\n",
              "      <td>0</td>\n",
              "      <td>0</td>\n",
              "      <td>0</td>\n",
              "      <td>0</td>\n",
              "      <td>0</td>\n",
              "      <td>0</td>\n",
              "      <td>...</td>\n",
              "      <td>825</td>\n",
              "      <td>835</td>\n",
              "      <td>848</td>\n",
              "      <td>854</td>\n",
              "      <td>860</td>\n",
              "      <td>863</td>\n",
              "      <td>887</td>\n",
              "      <td>901</td>\n",
              "      <td>912</td>\n",
              "      <td>930</td>\n",
              "      <td>931</td>\n",
              "      <td>934</td>\n",
              "      <td>946</td>\n",
              "      <td>967</td>\n",
              "      <td>968</td>\n",
              "      <td>979</td>\n",
              "      <td>983</td>\n",
              "      <td>1004</td>\n",
              "      <td>1025</td>\n",
              "      <td>1034</td>\n",
              "      <td>1045</td>\n",
              "      <td>1036</td>\n",
              "      <td>1037</td>\n",
              "      <td>1049</td>\n",
              "      <td>1062</td>\n",
              "      <td>1065</td>\n",
              "      <td>1070</td>\n",
              "      <td>1071</td>\n",
              "      <td>1082</td>\n",
              "      <td>1099</td>\n",
              "      <td>1109</td>\n",
              "      <td>1114</td>\n",
              "      <td>1121</td>\n",
              "      <td>1128</td>\n",
              "      <td>1139</td>\n",
              "      <td>1487</td>\n",
              "      <td>1504</td>\n",
              "      <td>1527</td>\n",
              "      <td>1542</td>\n",
              "      <td>1551</td>\n",
              "    </tr>\n",
              "  </tbody>\n",
              "</table>\n",
              "<p>5 rows × 254 columns</p>\n",
              "</div>"
            ],
            "text/plain": [
              "        UID iso2 iso3  code3  ...  9/17/20 9/18/20 9/19/20 9/20/20\n",
              "0  84001001   US  USA    840  ...     1624    1664    1673    1690\n",
              "1  84001003   US  USA    840  ...     5021    5033    5047    5061\n",
              "2  84001005   US  USA    840  ...      809     824     830     835\n",
              "3  84001007   US  USA    840  ...      617     619     628     632\n",
              "4  84001009   US  USA    840  ...     1504    1527    1542    1551\n",
              "\n",
              "[5 rows x 254 columns]"
            ]
          },
          "metadata": {
            "tags": []
          },
          "execution_count": 5
        }
      ]
    },
    {
      "cell_type": "markdown",
      "metadata": {
        "id": "mchAkn2DK2wg",
        "colab_type": "text"
      },
      "source": [
        "How to find out the columns?"
      ]
    },
    {
      "cell_type": "code",
      "metadata": {
        "id": "TiOhaE3FA81u",
        "colab_type": "code",
        "colab": {
          "base_uri": "https://localhost:8080/",
          "height": 118
        },
        "outputId": "33bdaf77-ce25-46fd-ed63-c38b3fc007be"
      },
      "source": [
        "df1.columns"
      ],
      "execution_count": 6,
      "outputs": [
        {
          "output_type": "execute_result",
          "data": {
            "text/plain": [
              "Index(['UID', 'iso2', 'iso3', 'code3', 'FIPS', 'Admin2', 'Province_State',\n",
              "       'Country_Region', 'Lat', 'Long_',\n",
              "       ...\n",
              "       '9/11/20', '9/12/20', '9/13/20', '9/14/20', '9/15/20', '9/16/20',\n",
              "       '9/17/20', '9/18/20', '9/19/20', '9/20/20'],\n",
              "      dtype='object', length=254)"
            ]
          },
          "metadata": {
            "tags": []
          },
          "execution_count": 6
        }
      ]
    },
    {
      "cell_type": "code",
      "metadata": {
        "id": "30ygvmyMCQBt",
        "colab_type": "code",
        "colab": {
          "base_uri": "https://localhost:8080/",
          "height": 328
        },
        "outputId": "9bfbeb2d-feb4-4230-e886-4ad61bd5fa89"
      },
      "source": [
        "df1.tail()"
      ],
      "execution_count": 7,
      "outputs": [
        {
          "output_type": "execute_result",
          "data": {
            "text/html": [
              "<div>\n",
              "<style scoped>\n",
              "    .dataframe tbody tr th:only-of-type {\n",
              "        vertical-align: middle;\n",
              "    }\n",
              "\n",
              "    .dataframe tbody tr th {\n",
              "        vertical-align: top;\n",
              "    }\n",
              "\n",
              "    .dataframe thead th {\n",
              "        text-align: right;\n",
              "    }\n",
              "</style>\n",
              "<table border=\"1\" class=\"dataframe\">\n",
              "  <thead>\n",
              "    <tr style=\"text-align: right;\">\n",
              "      <th></th>\n",
              "      <th>UID</th>\n",
              "      <th>iso2</th>\n",
              "      <th>iso3</th>\n",
              "      <th>code3</th>\n",
              "      <th>FIPS</th>\n",
              "      <th>Admin2</th>\n",
              "      <th>Province_State</th>\n",
              "      <th>Country_Region</th>\n",
              "      <th>Lat</th>\n",
              "      <th>Long_</th>\n",
              "      <th>Combined_Key</th>\n",
              "      <th>1/22/20</th>\n",
              "      <th>1/23/20</th>\n",
              "      <th>1/24/20</th>\n",
              "      <th>1/25/20</th>\n",
              "      <th>1/26/20</th>\n",
              "      <th>1/27/20</th>\n",
              "      <th>1/28/20</th>\n",
              "      <th>1/29/20</th>\n",
              "      <th>1/30/20</th>\n",
              "      <th>1/31/20</th>\n",
              "      <th>2/1/20</th>\n",
              "      <th>2/2/20</th>\n",
              "      <th>2/3/20</th>\n",
              "      <th>2/4/20</th>\n",
              "      <th>2/5/20</th>\n",
              "      <th>2/6/20</th>\n",
              "      <th>2/7/20</th>\n",
              "      <th>2/8/20</th>\n",
              "      <th>2/9/20</th>\n",
              "      <th>2/10/20</th>\n",
              "      <th>2/11/20</th>\n",
              "      <th>2/12/20</th>\n",
              "      <th>2/13/20</th>\n",
              "      <th>2/14/20</th>\n",
              "      <th>2/15/20</th>\n",
              "      <th>2/16/20</th>\n",
              "      <th>2/17/20</th>\n",
              "      <th>2/18/20</th>\n",
              "      <th>2/19/20</th>\n",
              "      <th>...</th>\n",
              "      <th>8/12/20</th>\n",
              "      <th>8/13/20</th>\n",
              "      <th>8/14/20</th>\n",
              "      <th>8/15/20</th>\n",
              "      <th>8/16/20</th>\n",
              "      <th>8/17/20</th>\n",
              "      <th>8/18/20</th>\n",
              "      <th>8/19/20</th>\n",
              "      <th>8/20/20</th>\n",
              "      <th>8/21/20</th>\n",
              "      <th>8/22/20</th>\n",
              "      <th>8/23/20</th>\n",
              "      <th>8/24/20</th>\n",
              "      <th>8/25/20</th>\n",
              "      <th>8/26/20</th>\n",
              "      <th>8/27/20</th>\n",
              "      <th>8/28/20</th>\n",
              "      <th>8/29/20</th>\n",
              "      <th>8/30/20</th>\n",
              "      <th>8/31/20</th>\n",
              "      <th>9/1/20</th>\n",
              "      <th>9/2/20</th>\n",
              "      <th>9/3/20</th>\n",
              "      <th>9/4/20</th>\n",
              "      <th>9/5/20</th>\n",
              "      <th>9/6/20</th>\n",
              "      <th>9/7/20</th>\n",
              "      <th>9/8/20</th>\n",
              "      <th>9/9/20</th>\n",
              "      <th>9/10/20</th>\n",
              "      <th>9/11/20</th>\n",
              "      <th>9/12/20</th>\n",
              "      <th>9/13/20</th>\n",
              "      <th>9/14/20</th>\n",
              "      <th>9/15/20</th>\n",
              "      <th>9/16/20</th>\n",
              "      <th>9/17/20</th>\n",
              "      <th>9/18/20</th>\n",
              "      <th>9/19/20</th>\n",
              "      <th>9/20/20</th>\n",
              "    </tr>\n",
              "  </thead>\n",
              "  <tbody>\n",
              "    <tr>\n",
              "      <th>3335</th>\n",
              "      <td>84056039</td>\n",
              "      <td>US</td>\n",
              "      <td>USA</td>\n",
              "      <td>840</td>\n",
              "      <td>56039.0</td>\n",
              "      <td>Teton</td>\n",
              "      <td>Wyoming</td>\n",
              "      <td>US</td>\n",
              "      <td>43.935225</td>\n",
              "      <td>-110.589080</td>\n",
              "      <td>Teton, Wyoming, US</td>\n",
              "      <td>0</td>\n",
              "      <td>0</td>\n",
              "      <td>0</td>\n",
              "      <td>0</td>\n",
              "      <td>0</td>\n",
              "      <td>0</td>\n",
              "      <td>0</td>\n",
              "      <td>0</td>\n",
              "      <td>0</td>\n",
              "      <td>0</td>\n",
              "      <td>0</td>\n",
              "      <td>0</td>\n",
              "      <td>0</td>\n",
              "      <td>0</td>\n",
              "      <td>0</td>\n",
              "      <td>0</td>\n",
              "      <td>0</td>\n",
              "      <td>0</td>\n",
              "      <td>0</td>\n",
              "      <td>0</td>\n",
              "      <td>0</td>\n",
              "      <td>0</td>\n",
              "      <td>0</td>\n",
              "      <td>0</td>\n",
              "      <td>0</td>\n",
              "      <td>0</td>\n",
              "      <td>0</td>\n",
              "      <td>0</td>\n",
              "      <td>0</td>\n",
              "      <td>...</td>\n",
              "      <td>373</td>\n",
              "      <td>375</td>\n",
              "      <td>383</td>\n",
              "      <td>385</td>\n",
              "      <td>389</td>\n",
              "      <td>390</td>\n",
              "      <td>393</td>\n",
              "      <td>394</td>\n",
              "      <td>398</td>\n",
              "      <td>399</td>\n",
              "      <td>401</td>\n",
              "      <td>409</td>\n",
              "      <td>409</td>\n",
              "      <td>412</td>\n",
              "      <td>417</td>\n",
              "      <td>417</td>\n",
              "      <td>424</td>\n",
              "      <td>425</td>\n",
              "      <td>429</td>\n",
              "      <td>430</td>\n",
              "      <td>430</td>\n",
              "      <td>433</td>\n",
              "      <td>435</td>\n",
              "      <td>440</td>\n",
              "      <td>440</td>\n",
              "      <td>447</td>\n",
              "      <td>447</td>\n",
              "      <td>450</td>\n",
              "      <td>451</td>\n",
              "      <td>453</td>\n",
              "      <td>462</td>\n",
              "      <td>465</td>\n",
              "      <td>470</td>\n",
              "      <td>476</td>\n",
              "      <td>478</td>\n",
              "      <td>481</td>\n",
              "      <td>487</td>\n",
              "      <td>490</td>\n",
              "      <td>493</td>\n",
              "      <td>498</td>\n",
              "    </tr>\n",
              "    <tr>\n",
              "      <th>3336</th>\n",
              "      <td>84056041</td>\n",
              "      <td>US</td>\n",
              "      <td>USA</td>\n",
              "      <td>840</td>\n",
              "      <td>56041.0</td>\n",
              "      <td>Uinta</td>\n",
              "      <td>Wyoming</td>\n",
              "      <td>US</td>\n",
              "      <td>41.287818</td>\n",
              "      <td>-110.547578</td>\n",
              "      <td>Uinta, Wyoming, US</td>\n",
              "      <td>0</td>\n",
              "      <td>0</td>\n",
              "      <td>0</td>\n",
              "      <td>0</td>\n",
              "      <td>0</td>\n",
              "      <td>0</td>\n",
              "      <td>0</td>\n",
              "      <td>0</td>\n",
              "      <td>0</td>\n",
              "      <td>0</td>\n",
              "      <td>0</td>\n",
              "      <td>0</td>\n",
              "      <td>0</td>\n",
              "      <td>0</td>\n",
              "      <td>0</td>\n",
              "      <td>0</td>\n",
              "      <td>0</td>\n",
              "      <td>0</td>\n",
              "      <td>0</td>\n",
              "      <td>0</td>\n",
              "      <td>0</td>\n",
              "      <td>0</td>\n",
              "      <td>0</td>\n",
              "      <td>0</td>\n",
              "      <td>0</td>\n",
              "      <td>0</td>\n",
              "      <td>0</td>\n",
              "      <td>0</td>\n",
              "      <td>0</td>\n",
              "      <td>...</td>\n",
              "      <td>278</td>\n",
              "      <td>278</td>\n",
              "      <td>277</td>\n",
              "      <td>276</td>\n",
              "      <td>276</td>\n",
              "      <td>277</td>\n",
              "      <td>278</td>\n",
              "      <td>283</td>\n",
              "      <td>283</td>\n",
              "      <td>283</td>\n",
              "      <td>283</td>\n",
              "      <td>283</td>\n",
              "      <td>283</td>\n",
              "      <td>283</td>\n",
              "      <td>289</td>\n",
              "      <td>289</td>\n",
              "      <td>292</td>\n",
              "      <td>292</td>\n",
              "      <td>295</td>\n",
              "      <td>298</td>\n",
              "      <td>301</td>\n",
              "      <td>303</td>\n",
              "      <td>305</td>\n",
              "      <td>308</td>\n",
              "      <td>308</td>\n",
              "      <td>308</td>\n",
              "      <td>308</td>\n",
              "      <td>309</td>\n",
              "      <td>308</td>\n",
              "      <td>310</td>\n",
              "      <td>310</td>\n",
              "      <td>310</td>\n",
              "      <td>311</td>\n",
              "      <td>312</td>\n",
              "      <td>312</td>\n",
              "      <td>323</td>\n",
              "      <td>327</td>\n",
              "      <td>327</td>\n",
              "      <td>330</td>\n",
              "      <td>334</td>\n",
              "    </tr>\n",
              "    <tr>\n",
              "      <th>3337</th>\n",
              "      <td>84090056</td>\n",
              "      <td>US</td>\n",
              "      <td>USA</td>\n",
              "      <td>840</td>\n",
              "      <td>90056.0</td>\n",
              "      <td>Unassigned</td>\n",
              "      <td>Wyoming</td>\n",
              "      <td>US</td>\n",
              "      <td>0.000000</td>\n",
              "      <td>0.000000</td>\n",
              "      <td>Unassigned, Wyoming, US</td>\n",
              "      <td>0</td>\n",
              "      <td>0</td>\n",
              "      <td>0</td>\n",
              "      <td>0</td>\n",
              "      <td>0</td>\n",
              "      <td>0</td>\n",
              "      <td>0</td>\n",
              "      <td>0</td>\n",
              "      <td>0</td>\n",
              "      <td>0</td>\n",
              "      <td>0</td>\n",
              "      <td>0</td>\n",
              "      <td>0</td>\n",
              "      <td>0</td>\n",
              "      <td>0</td>\n",
              "      <td>0</td>\n",
              "      <td>0</td>\n",
              "      <td>0</td>\n",
              "      <td>0</td>\n",
              "      <td>0</td>\n",
              "      <td>0</td>\n",
              "      <td>0</td>\n",
              "      <td>0</td>\n",
              "      <td>0</td>\n",
              "      <td>0</td>\n",
              "      <td>0</td>\n",
              "      <td>0</td>\n",
              "      <td>0</td>\n",
              "      <td>0</td>\n",
              "      <td>...</td>\n",
              "      <td>0</td>\n",
              "      <td>0</td>\n",
              "      <td>0</td>\n",
              "      <td>0</td>\n",
              "      <td>0</td>\n",
              "      <td>0</td>\n",
              "      <td>0</td>\n",
              "      <td>0</td>\n",
              "      <td>0</td>\n",
              "      <td>0</td>\n",
              "      <td>0</td>\n",
              "      <td>0</td>\n",
              "      <td>0</td>\n",
              "      <td>0</td>\n",
              "      <td>0</td>\n",
              "      <td>53</td>\n",
              "      <td>53</td>\n",
              "      <td>73</td>\n",
              "      <td>73</td>\n",
              "      <td>73</td>\n",
              "      <td>73</td>\n",
              "      <td>0</td>\n",
              "      <td>0</td>\n",
              "      <td>0</td>\n",
              "      <td>0</td>\n",
              "      <td>0</td>\n",
              "      <td>0</td>\n",
              "      <td>0</td>\n",
              "      <td>0</td>\n",
              "      <td>0</td>\n",
              "      <td>0</td>\n",
              "      <td>0</td>\n",
              "      <td>2</td>\n",
              "      <td>2</td>\n",
              "      <td>2</td>\n",
              "      <td>0</td>\n",
              "      <td>0</td>\n",
              "      <td>1</td>\n",
              "      <td>1</td>\n",
              "      <td>1</td>\n",
              "    </tr>\n",
              "    <tr>\n",
              "      <th>3338</th>\n",
              "      <td>84056043</td>\n",
              "      <td>US</td>\n",
              "      <td>USA</td>\n",
              "      <td>840</td>\n",
              "      <td>56043.0</td>\n",
              "      <td>Washakie</td>\n",
              "      <td>Wyoming</td>\n",
              "      <td>US</td>\n",
              "      <td>43.904516</td>\n",
              "      <td>-107.680187</td>\n",
              "      <td>Washakie, Wyoming, US</td>\n",
              "      <td>0</td>\n",
              "      <td>0</td>\n",
              "      <td>0</td>\n",
              "      <td>0</td>\n",
              "      <td>0</td>\n",
              "      <td>0</td>\n",
              "      <td>0</td>\n",
              "      <td>0</td>\n",
              "      <td>0</td>\n",
              "      <td>0</td>\n",
              "      <td>0</td>\n",
              "      <td>0</td>\n",
              "      <td>0</td>\n",
              "      <td>0</td>\n",
              "      <td>0</td>\n",
              "      <td>0</td>\n",
              "      <td>0</td>\n",
              "      <td>0</td>\n",
              "      <td>0</td>\n",
              "      <td>0</td>\n",
              "      <td>0</td>\n",
              "      <td>0</td>\n",
              "      <td>0</td>\n",
              "      <td>0</td>\n",
              "      <td>0</td>\n",
              "      <td>0</td>\n",
              "      <td>0</td>\n",
              "      <td>0</td>\n",
              "      <td>0</td>\n",
              "      <td>...</td>\n",
              "      <td>82</td>\n",
              "      <td>86</td>\n",
              "      <td>96</td>\n",
              "      <td>97</td>\n",
              "      <td>97</td>\n",
              "      <td>100</td>\n",
              "      <td>102</td>\n",
              "      <td>104</td>\n",
              "      <td>106</td>\n",
              "      <td>106</td>\n",
              "      <td>107</td>\n",
              "      <td>108</td>\n",
              "      <td>108</td>\n",
              "      <td>108</td>\n",
              "      <td>108</td>\n",
              "      <td>108</td>\n",
              "      <td>108</td>\n",
              "      <td>108</td>\n",
              "      <td>108</td>\n",
              "      <td>108</td>\n",
              "      <td>108</td>\n",
              "      <td>109</td>\n",
              "      <td>109</td>\n",
              "      <td>110</td>\n",
              "      <td>110</td>\n",
              "      <td>111</td>\n",
              "      <td>111</td>\n",
              "      <td>111</td>\n",
              "      <td>111</td>\n",
              "      <td>111</td>\n",
              "      <td>111</td>\n",
              "      <td>111</td>\n",
              "      <td>111</td>\n",
              "      <td>111</td>\n",
              "      <td>111</td>\n",
              "      <td>111</td>\n",
              "      <td>112</td>\n",
              "      <td>113</td>\n",
              "      <td>113</td>\n",
              "      <td>113</td>\n",
              "    </tr>\n",
              "    <tr>\n",
              "      <th>3339</th>\n",
              "      <td>84056045</td>\n",
              "      <td>US</td>\n",
              "      <td>USA</td>\n",
              "      <td>840</td>\n",
              "      <td>56045.0</td>\n",
              "      <td>Weston</td>\n",
              "      <td>Wyoming</td>\n",
              "      <td>US</td>\n",
              "      <td>43.839612</td>\n",
              "      <td>-104.567488</td>\n",
              "      <td>Weston, Wyoming, US</td>\n",
              "      <td>0</td>\n",
              "      <td>0</td>\n",
              "      <td>0</td>\n",
              "      <td>0</td>\n",
              "      <td>0</td>\n",
              "      <td>0</td>\n",
              "      <td>0</td>\n",
              "      <td>0</td>\n",
              "      <td>0</td>\n",
              "      <td>0</td>\n",
              "      <td>0</td>\n",
              "      <td>0</td>\n",
              "      <td>0</td>\n",
              "      <td>0</td>\n",
              "      <td>0</td>\n",
              "      <td>0</td>\n",
              "      <td>0</td>\n",
              "      <td>0</td>\n",
              "      <td>0</td>\n",
              "      <td>0</td>\n",
              "      <td>0</td>\n",
              "      <td>0</td>\n",
              "      <td>0</td>\n",
              "      <td>0</td>\n",
              "      <td>0</td>\n",
              "      <td>0</td>\n",
              "      <td>0</td>\n",
              "      <td>0</td>\n",
              "      <td>0</td>\n",
              "      <td>...</td>\n",
              "      <td>5</td>\n",
              "      <td>5</td>\n",
              "      <td>5</td>\n",
              "      <td>7</td>\n",
              "      <td>7</td>\n",
              "      <td>8</td>\n",
              "      <td>8</td>\n",
              "      <td>12</td>\n",
              "      <td>0</td>\n",
              "      <td>11</td>\n",
              "      <td>11</td>\n",
              "      <td>11</td>\n",
              "      <td>11</td>\n",
              "      <td>11</td>\n",
              "      <td>11</td>\n",
              "      <td>11</td>\n",
              "      <td>11</td>\n",
              "      <td>11</td>\n",
              "      <td>11</td>\n",
              "      <td>11</td>\n",
              "      <td>11</td>\n",
              "      <td>19</td>\n",
              "      <td>20</td>\n",
              "      <td>20</td>\n",
              "      <td>20</td>\n",
              "      <td>20</td>\n",
              "      <td>20</td>\n",
              "      <td>20</td>\n",
              "      <td>21</td>\n",
              "      <td>21</td>\n",
              "      <td>21</td>\n",
              "      <td>23</td>\n",
              "      <td>23</td>\n",
              "      <td>23</td>\n",
              "      <td>23</td>\n",
              "      <td>23</td>\n",
              "      <td>23</td>\n",
              "      <td>23</td>\n",
              "      <td>23</td>\n",
              "      <td>23</td>\n",
              "    </tr>\n",
              "  </tbody>\n",
              "</table>\n",
              "<p>5 rows × 254 columns</p>\n",
              "</div>"
            ],
            "text/plain": [
              "           UID iso2 iso3  code3  ...  9/17/20 9/18/20 9/19/20 9/20/20\n",
              "3335  84056039   US  USA    840  ...      487     490     493     498\n",
              "3336  84056041   US  USA    840  ...      327     327     330     334\n",
              "3337  84090056   US  USA    840  ...        0       1       1       1\n",
              "3338  84056043   US  USA    840  ...      112     113     113     113\n",
              "3339  84056045   US  USA    840  ...       23      23      23      23\n",
              "\n",
              "[5 rows x 254 columns]"
            ]
          },
          "metadata": {
            "tags": []
          },
          "execution_count": 7
        }
      ]
    },
    {
      "cell_type": "code",
      "metadata": {
        "id": "4qDl5G_PkdU8",
        "colab_type": "code",
        "colab": {
          "base_uri": "https://localhost:8080/",
          "height": 118
        },
        "outputId": "d7ecd99b-6013-450b-8434-97028d51eb9e"
      },
      "source": [
        "df1['Admin2'][3335:3340]"
      ],
      "execution_count": 8,
      "outputs": [
        {
          "output_type": "execute_result",
          "data": {
            "text/plain": [
              "3335         Teton\n",
              "3336         Uinta\n",
              "3337    Unassigned\n",
              "3338      Washakie\n",
              "3339        Weston\n",
              "Name: Admin2, dtype: object"
            ]
          },
          "metadata": {
            "tags": []
          },
          "execution_count": 8
        }
      ]
    },
    {
      "cell_type": "code",
      "metadata": {
        "id": "_hDDhVhbkl6y",
        "colab_type": "code",
        "colab": {
          "base_uri": "https://localhost:8080/",
          "height": 195
        },
        "outputId": "89927969-98a1-4319-f8f9-81b4c5cfd518"
      },
      "source": [
        "df1.iloc[3335:3340, 4:7]"
      ],
      "execution_count": 9,
      "outputs": [
        {
          "output_type": "execute_result",
          "data": {
            "text/html": [
              "<div>\n",
              "<style scoped>\n",
              "    .dataframe tbody tr th:only-of-type {\n",
              "        vertical-align: middle;\n",
              "    }\n",
              "\n",
              "    .dataframe tbody tr th {\n",
              "        vertical-align: top;\n",
              "    }\n",
              "\n",
              "    .dataframe thead th {\n",
              "        text-align: right;\n",
              "    }\n",
              "</style>\n",
              "<table border=\"1\" class=\"dataframe\">\n",
              "  <thead>\n",
              "    <tr style=\"text-align: right;\">\n",
              "      <th></th>\n",
              "      <th>FIPS</th>\n",
              "      <th>Admin2</th>\n",
              "      <th>Province_State</th>\n",
              "    </tr>\n",
              "  </thead>\n",
              "  <tbody>\n",
              "    <tr>\n",
              "      <th>3335</th>\n",
              "      <td>56039.0</td>\n",
              "      <td>Teton</td>\n",
              "      <td>Wyoming</td>\n",
              "    </tr>\n",
              "    <tr>\n",
              "      <th>3336</th>\n",
              "      <td>56041.0</td>\n",
              "      <td>Uinta</td>\n",
              "      <td>Wyoming</td>\n",
              "    </tr>\n",
              "    <tr>\n",
              "      <th>3337</th>\n",
              "      <td>90056.0</td>\n",
              "      <td>Unassigned</td>\n",
              "      <td>Wyoming</td>\n",
              "    </tr>\n",
              "    <tr>\n",
              "      <th>3338</th>\n",
              "      <td>56043.0</td>\n",
              "      <td>Washakie</td>\n",
              "      <td>Wyoming</td>\n",
              "    </tr>\n",
              "    <tr>\n",
              "      <th>3339</th>\n",
              "      <td>56045.0</td>\n",
              "      <td>Weston</td>\n",
              "      <td>Wyoming</td>\n",
              "    </tr>\n",
              "  </tbody>\n",
              "</table>\n",
              "</div>"
            ],
            "text/plain": [
              "         FIPS      Admin2 Province_State\n",
              "3335  56039.0       Teton        Wyoming\n",
              "3336  56041.0       Uinta        Wyoming\n",
              "3337  90056.0  Unassigned        Wyoming\n",
              "3338  56043.0    Washakie        Wyoming\n",
              "3339  56045.0      Weston        Wyoming"
            ]
          },
          "metadata": {
            "tags": []
          },
          "execution_count": 9
        }
      ]
    },
    {
      "cell_type": "markdown",
      "metadata": {
        "id": "L5XxRY_7xiAO",
        "colab_type": "text"
      },
      "source": [
        "How to find out dataframe dimensions"
      ]
    },
    {
      "cell_type": "code",
      "metadata": {
        "id": "ZkWGzF_IxiAO",
        "colab_type": "code",
        "colab": {
          "base_uri": "https://localhost:8080/",
          "height": 34
        },
        "outputId": "96f12763-6959-4699-d4b2-9fd90742cc45"
      },
      "source": [
        "print ('dataframe dimensions:', df1.shape)"
      ],
      "execution_count": 10,
      "outputs": [
        {
          "output_type": "stream",
          "text": [
            "dataframe dimensions: (3340, 254)\n"
          ],
          "name": "stdout"
        }
      ]
    },
    {
      "cell_type": "markdown",
      "metadata": {
        "id": "OJmXvuwkLD0o",
        "colab_type": "text"
      },
      "source": [
        "How many \"province states\" are there in this data set?"
      ]
    },
    {
      "cell_type": "code",
      "metadata": {
        "id": "XS3btFeIDZtv",
        "colab_type": "code",
        "colab": {
          "base_uri": "https://localhost:8080/",
          "height": 235
        },
        "outputId": "7f9d4437-9297-49f9-8882-260ece6bc5b3"
      },
      "source": [
        "df1.Province_State.unique()"
      ],
      "execution_count": 11,
      "outputs": [
        {
          "output_type": "execute_result",
          "data": {
            "text/plain": [
              "array(['Alabama', 'Alaska', 'American Samoa', 'Arizona', 'Arkansas',\n",
              "       'California', 'Colorado', 'Connecticut', 'Delaware',\n",
              "       'Diamond Princess', 'District of Columbia', 'Florida', 'Georgia',\n",
              "       'Grand Princess', 'Guam', 'Hawaii', 'Idaho', 'Illinois', 'Indiana',\n",
              "       'Iowa', 'Kansas', 'Kentucky', 'Louisiana', 'Maine', 'Maryland',\n",
              "       'Massachusetts', 'Michigan', 'Minnesota', 'Mississippi',\n",
              "       'Missouri', 'Montana', 'Nebraska', 'Nevada', 'New Hampshire',\n",
              "       'New Jersey', 'New Mexico', 'New York', 'North Carolina',\n",
              "       'North Dakota', 'Northern Mariana Islands', 'Ohio', 'Oklahoma',\n",
              "       'Oregon', 'Pennsylvania', 'Puerto Rico', 'Rhode Island',\n",
              "       'South Carolina', 'South Dakota', 'Tennessee', 'Texas', 'Utah',\n",
              "       'Vermont', 'Virgin Islands', 'Virginia', 'Washington',\n",
              "       'West Virginia', 'Wisconsin', 'Wyoming'], dtype=object)"
            ]
          },
          "metadata": {
            "tags": []
          },
          "execution_count": 11
        }
      ]
    },
    {
      "cell_type": "code",
      "metadata": {
        "id": "njs9vglDLK9y",
        "colab_type": "code",
        "colab": {
          "base_uri": "https://localhost:8080/",
          "height": 34
        },
        "outputId": "9207ab97-d4af-415e-97a8-2c1ef45b3a2c"
      },
      "source": [
        "len(df1.Province_State.unique())"
      ],
      "execution_count": 12,
      "outputs": [
        {
          "output_type": "execute_result",
          "data": {
            "text/plain": [
              "58"
            ]
          },
          "metadata": {
            "tags": []
          },
          "execution_count": 12
        }
      ]
    },
    {
      "cell_type": "markdown",
      "metadata": {
        "id": "2WmZ4Kdjk-nK",
        "colab_type": "text"
      },
      "source": [
        "### Q, what is the larged case value in this data set? "
      ]
    },
    {
      "cell_type": "code",
      "metadata": {
        "id": "vhJFi8EeEwms",
        "colab_type": "code",
        "colab": {
          "base_uri": "https://localhost:8080/",
          "height": 34
        },
        "outputId": "a3f8897c-b541-4cc2-ffce-af6e65e9d23e"
      },
      "source": [
        "df1.iloc[:, 11:].max().max()"
      ],
      "execution_count": 13,
      "outputs": [
        {
          "output_type": "execute_result",
          "data": {
            "text/plain": [
              "260797"
            ]
          },
          "metadata": {
            "tags": []
          },
          "execution_count": 13
        }
      ]
    },
    {
      "cell_type": "markdown",
      "metadata": {
        "id": "ImNsXrutLt4m",
        "colab_type": "text"
      },
      "source": [
        "Find out the largest value for column '9/8/20'"
      ]
    },
    {
      "cell_type": "code",
      "metadata": {
        "id": "F8pO0-l_F2-f",
        "colab_type": "code",
        "colab": {
          "base_uri": "https://localhost:8080/",
          "height": 34
        },
        "outputId": "f0e141ed-7c16-4da9-9709-7b901159e6b4"
      },
      "source": [
        "df1[\"9/13/20\"].max()"
      ],
      "execution_count": 14,
      "outputs": [
        {
          "output_type": "execute_result",
          "data": {
            "text/plain": [
              "253985"
            ]
          },
          "metadata": {
            "tags": []
          },
          "execution_count": 14
        }
      ]
    },
    {
      "cell_type": "code",
      "metadata": {
        "id": "2Kt1G3TmkabN",
        "colab_type": "code",
        "colab": {}
      },
      "source": [
        ""
      ],
      "execution_count": 14,
      "outputs": []
    },
    {
      "cell_type": "markdown",
      "metadata": {
        "id": "o5q9PaAKL3f4",
        "colab_type": "text"
      },
      "source": [
        "## Find out which row has the largest value on '9/14/20'"
      ]
    },
    {
      "cell_type": "code",
      "metadata": {
        "id": "52zW9b1lrDN_",
        "colab_type": "code",
        "colab": {
          "base_uri": "https://localhost:8080/",
          "height": 142
        },
        "outputId": "590dd6c1-1540-45ed-8d98-0deec317fc6b"
      },
      "source": [
        "df1.loc[df1['9/14/20']==254656]"
      ],
      "execution_count": 15,
      "outputs": [
        {
          "output_type": "execute_result",
          "data": {
            "text/html": [
              "<div>\n",
              "<style scoped>\n",
              "    .dataframe tbody tr th:only-of-type {\n",
              "        vertical-align: middle;\n",
              "    }\n",
              "\n",
              "    .dataframe tbody tr th {\n",
              "        vertical-align: top;\n",
              "    }\n",
              "\n",
              "    .dataframe thead th {\n",
              "        text-align: right;\n",
              "    }\n",
              "</style>\n",
              "<table border=\"1\" class=\"dataframe\">\n",
              "  <thead>\n",
              "    <tr style=\"text-align: right;\">\n",
              "      <th></th>\n",
              "      <th>UID</th>\n",
              "      <th>iso2</th>\n",
              "      <th>iso3</th>\n",
              "      <th>code3</th>\n",
              "      <th>FIPS</th>\n",
              "      <th>Admin2</th>\n",
              "      <th>Province_State</th>\n",
              "      <th>Country_Region</th>\n",
              "      <th>Lat</th>\n",
              "      <th>Long_</th>\n",
              "      <th>Combined_Key</th>\n",
              "      <th>1/22/20</th>\n",
              "      <th>1/23/20</th>\n",
              "      <th>1/24/20</th>\n",
              "      <th>1/25/20</th>\n",
              "      <th>1/26/20</th>\n",
              "      <th>1/27/20</th>\n",
              "      <th>1/28/20</th>\n",
              "      <th>1/29/20</th>\n",
              "      <th>1/30/20</th>\n",
              "      <th>1/31/20</th>\n",
              "      <th>2/1/20</th>\n",
              "      <th>2/2/20</th>\n",
              "      <th>2/3/20</th>\n",
              "      <th>2/4/20</th>\n",
              "      <th>2/5/20</th>\n",
              "      <th>2/6/20</th>\n",
              "      <th>2/7/20</th>\n",
              "      <th>2/8/20</th>\n",
              "      <th>2/9/20</th>\n",
              "      <th>2/10/20</th>\n",
              "      <th>2/11/20</th>\n",
              "      <th>2/12/20</th>\n",
              "      <th>2/13/20</th>\n",
              "      <th>2/14/20</th>\n",
              "      <th>2/15/20</th>\n",
              "      <th>2/16/20</th>\n",
              "      <th>2/17/20</th>\n",
              "      <th>2/18/20</th>\n",
              "      <th>2/19/20</th>\n",
              "      <th>...</th>\n",
              "      <th>8/12/20</th>\n",
              "      <th>8/13/20</th>\n",
              "      <th>8/14/20</th>\n",
              "      <th>8/15/20</th>\n",
              "      <th>8/16/20</th>\n",
              "      <th>8/17/20</th>\n",
              "      <th>8/18/20</th>\n",
              "      <th>8/19/20</th>\n",
              "      <th>8/20/20</th>\n",
              "      <th>8/21/20</th>\n",
              "      <th>8/22/20</th>\n",
              "      <th>8/23/20</th>\n",
              "      <th>8/24/20</th>\n",
              "      <th>8/25/20</th>\n",
              "      <th>8/26/20</th>\n",
              "      <th>8/27/20</th>\n",
              "      <th>8/28/20</th>\n",
              "      <th>8/29/20</th>\n",
              "      <th>8/30/20</th>\n",
              "      <th>8/31/20</th>\n",
              "      <th>9/1/20</th>\n",
              "      <th>9/2/20</th>\n",
              "      <th>9/3/20</th>\n",
              "      <th>9/4/20</th>\n",
              "      <th>9/5/20</th>\n",
              "      <th>9/6/20</th>\n",
              "      <th>9/7/20</th>\n",
              "      <th>9/8/20</th>\n",
              "      <th>9/9/20</th>\n",
              "      <th>9/10/20</th>\n",
              "      <th>9/11/20</th>\n",
              "      <th>9/12/20</th>\n",
              "      <th>9/13/20</th>\n",
              "      <th>9/14/20</th>\n",
              "      <th>9/15/20</th>\n",
              "      <th>9/16/20</th>\n",
              "      <th>9/17/20</th>\n",
              "      <th>9/18/20</th>\n",
              "      <th>9/19/20</th>\n",
              "      <th>9/20/20</th>\n",
              "    </tr>\n",
              "  </thead>\n",
              "  <tbody>\n",
              "    <tr>\n",
              "      <th>213</th>\n",
              "      <td>84006037</td>\n",
              "      <td>US</td>\n",
              "      <td>USA</td>\n",
              "      <td>840</td>\n",
              "      <td>6037.0</td>\n",
              "      <td>Los Angeles</td>\n",
              "      <td>California</td>\n",
              "      <td>US</td>\n",
              "      <td>34.308284</td>\n",
              "      <td>-118.228241</td>\n",
              "      <td>Los Angeles, California, US</td>\n",
              "      <td>0</td>\n",
              "      <td>0</td>\n",
              "      <td>0</td>\n",
              "      <td>0</td>\n",
              "      <td>1</td>\n",
              "      <td>1</td>\n",
              "      <td>1</td>\n",
              "      <td>1</td>\n",
              "      <td>1</td>\n",
              "      <td>1</td>\n",
              "      <td>1</td>\n",
              "      <td>1</td>\n",
              "      <td>1</td>\n",
              "      <td>1</td>\n",
              "      <td>1</td>\n",
              "      <td>1</td>\n",
              "      <td>1</td>\n",
              "      <td>1</td>\n",
              "      <td>1</td>\n",
              "      <td>1</td>\n",
              "      <td>1</td>\n",
              "      <td>1</td>\n",
              "      <td>1</td>\n",
              "      <td>1</td>\n",
              "      <td>1</td>\n",
              "      <td>1</td>\n",
              "      <td>1</td>\n",
              "      <td>1</td>\n",
              "      <td>1</td>\n",
              "      <td>...</td>\n",
              "      <td>214283</td>\n",
              "      <td>214425</td>\n",
              "      <td>218831</td>\n",
              "      <td>220867</td>\n",
              "      <td>221971</td>\n",
              "      <td>223230</td>\n",
              "      <td>224105</td>\n",
              "      <td>225827</td>\n",
              "      <td>227346</td>\n",
              "      <td>229054</td>\n",
              "      <td>230662</td>\n",
              "      <td>231695</td>\n",
              "      <td>232893</td>\n",
              "      <td>233777</td>\n",
              "      <td>235386</td>\n",
              "      <td>236986</td>\n",
              "      <td>238458</td>\n",
              "      <td>239756</td>\n",
              "      <td>240749</td>\n",
              "      <td>241768</td>\n",
              "      <td>242521</td>\n",
              "      <td>243935</td>\n",
              "      <td>244999</td>\n",
              "      <td>246407</td>\n",
              "      <td>247542</td>\n",
              "      <td>248334</td>\n",
              "      <td>248821</td>\n",
              "      <td>249241</td>\n",
              "      <td>249859</td>\n",
              "      <td>251024</td>\n",
              "      <td>252066</td>\n",
              "      <td>253176</td>\n",
              "      <td>253985</td>\n",
              "      <td>254656</td>\n",
              "      <td>255049</td>\n",
              "      <td>256148</td>\n",
              "      <td>257271</td>\n",
              "      <td>258516</td>\n",
              "      <td>259817</td>\n",
              "      <td>260797</td>\n",
              "    </tr>\n",
              "  </tbody>\n",
              "</table>\n",
              "<p>1 rows × 254 columns</p>\n",
              "</div>"
            ],
            "text/plain": [
              "          UID iso2 iso3  code3  ...  9/17/20 9/18/20 9/19/20 9/20/20\n",
              "213  84006037   US  USA    840  ...   257271  258516  259817  260797\n",
              "\n",
              "[1 rows x 254 columns]"
            ]
          },
          "metadata": {
            "tags": []
          },
          "execution_count": 15
        }
      ]
    },
    {
      "cell_type": "code",
      "metadata": {
        "id": "-kYG-uC-L8X6",
        "colab_type": "code",
        "colab": {
          "base_uri": "https://localhost:8080/",
          "height": 282
        },
        "outputId": "bbcf1446-f798-49ad-c68e-7390f013be02"
      },
      "source": [
        "LA = df1.iloc[213, 11:]\n",
        "type(LA)\n",
        "#print(LA)\n",
        "LA.plot()"
      ],
      "execution_count": 16,
      "outputs": [
        {
          "output_type": "execute_result",
          "data": {
            "text/plain": [
              "<matplotlib.axes._subplots.AxesSubplot at 0x7f72e2accfd0>"
            ]
          },
          "metadata": {
            "tags": []
          },
          "execution_count": 16
        },
        {
          "output_type": "display_data",
          "data": {
            "image/png": "[encoded data removed]",
            "text/plain": [
              "<Figure size 432x288 with 1 Axes>"
            ]
          },
          "metadata": {
            "tags": [],
            "needs_background": "light"
          }
        }
      ]
    },
    {
      "cell_type": "markdown",
      "metadata": {
        "id": "B60nCazJPoIG",
        "colab_type": "text"
      },
      "source": [
        "## plot\n",
        "Because pandas do plot by columns, JHU data set put time series by row. So, we have to transpose the JHU dataframe. "
      ]
    },
    {
      "cell_type": "code",
      "metadata": {
        "id": "t3jEToQ2uQQE",
        "colab_type": "code",
        "colab": {
          "base_uri": "https://localhost:8080/",
          "height": 402
        },
        "outputId": "b1457796-9a2a-403f-e2e4-8031ba4a4905"
      },
      "source": [
        "UScases = df1.iloc[0:3, 11:].transpose() \n",
        "UScases.shape\n",
        "UScases"
      ],
      "execution_count": 17,
      "outputs": [
        {
          "output_type": "execute_result",
          "data": {
            "text/html": [
              "<div>\n",
              "<style scoped>\n",
              "    .dataframe tbody tr th:only-of-type {\n",
              "        vertical-align: middle;\n",
              "    }\n",
              "\n",
              "    .dataframe tbody tr th {\n",
              "        vertical-align: top;\n",
              "    }\n",
              "\n",
              "    .dataframe thead th {\n",
              "        text-align: right;\n",
              "    }\n",
              "</style>\n",
              "<table border=\"1\" class=\"dataframe\">\n",
              "  <thead>\n",
              "    <tr style=\"text-align: right;\">\n",
              "      <th></th>\n",
              "      <th>0</th>\n",
              "      <th>1</th>\n",
              "      <th>2</th>\n",
              "    </tr>\n",
              "  </thead>\n",
              "  <tbody>\n",
              "    <tr>\n",
              "      <th>1/22/20</th>\n",
              "      <td>0</td>\n",
              "      <td>0</td>\n",
              "      <td>0</td>\n",
              "    </tr>\n",
              "    <tr>\n",
              "      <th>1/23/20</th>\n",
              "      <td>0</td>\n",
              "      <td>0</td>\n",
              "      <td>0</td>\n",
              "    </tr>\n",
              "    <tr>\n",
              "      <th>1/24/20</th>\n",
              "      <td>0</td>\n",
              "      <td>0</td>\n",
              "      <td>0</td>\n",
              "    </tr>\n",
              "    <tr>\n",
              "      <th>1/25/20</th>\n",
              "      <td>0</td>\n",
              "      <td>0</td>\n",
              "      <td>0</td>\n",
              "    </tr>\n",
              "    <tr>\n",
              "      <th>1/26/20</th>\n",
              "      <td>0</td>\n",
              "      <td>0</td>\n",
              "      <td>0</td>\n",
              "    </tr>\n",
              "    <tr>\n",
              "      <th>...</th>\n",
              "      <td>...</td>\n",
              "      <td>...</td>\n",
              "      <td>...</td>\n",
              "    </tr>\n",
              "    <tr>\n",
              "      <th>9/16/20</th>\n",
              "      <td>1619</td>\n",
              "      <td>5003</td>\n",
              "      <td>809</td>\n",
              "    </tr>\n",
              "    <tr>\n",
              "      <th>9/17/20</th>\n",
              "      <td>1624</td>\n",
              "      <td>5021</td>\n",
              "      <td>809</td>\n",
              "    </tr>\n",
              "    <tr>\n",
              "      <th>9/18/20</th>\n",
              "      <td>1664</td>\n",
              "      <td>5033</td>\n",
              "      <td>824</td>\n",
              "    </tr>\n",
              "    <tr>\n",
              "      <th>9/19/20</th>\n",
              "      <td>1673</td>\n",
              "      <td>5047</td>\n",
              "      <td>830</td>\n",
              "    </tr>\n",
              "    <tr>\n",
              "      <th>9/20/20</th>\n",
              "      <td>1690</td>\n",
              "      <td>5061</td>\n",
              "      <td>835</td>\n",
              "    </tr>\n",
              "  </tbody>\n",
              "</table>\n",
              "<p>243 rows × 3 columns</p>\n",
              "</div>"
            ],
            "text/plain": [
              "            0     1    2\n",
              "1/22/20     0     0    0\n",
              "1/23/20     0     0    0\n",
              "1/24/20     0     0    0\n",
              "1/25/20     0     0    0\n",
              "1/26/20     0     0    0\n",
              "...       ...   ...  ...\n",
              "9/16/20  1619  5003  809\n",
              "9/17/20  1624  5021  809\n",
              "9/18/20  1664  5033  824\n",
              "9/19/20  1673  5047  830\n",
              "9/20/20  1690  5061  835\n",
              "\n",
              "[243 rows x 3 columns]"
            ]
          },
          "metadata": {
            "tags": []
          },
          "execution_count": 17
        }
      ]
    },
    {
      "cell_type": "code",
      "metadata": {
        "id": "mN6fwTFCQATe",
        "colab_type": "code",
        "colab": {
          "base_uri": "https://localhost:8080/",
          "height": 578
        },
        "outputId": "7d3c9531-8c47-4e11-edb6-3c02d4529975"
      },
      "source": [
        "\n",
        "UScases.plot()\n",
        "UScases.plot(subplots=True)"
      ],
      "execution_count": 18,
      "outputs": [
        {
          "output_type": "execute_result",
          "data": {
            "text/plain": [
              "array([<matplotlib.axes._subplots.AxesSubplot object at 0x7f72e25afb00>,\n",
              "       <matplotlib.axes._subplots.AxesSubplot object at 0x7f72e2562438>,\n",
              "       <matplotlib.axes._subplots.AxesSubplot object at 0x7f72e2519438>],\n",
              "      dtype=object)"
            ]
          },
          "metadata": {
            "tags": []
          },
          "execution_count": 18
        },
        {
          "output_type": "display_data",
          "data": {
            "image/png": "[encoded data removed]",
            "text/plain": [
              "<Figure size 432x288 with 1 Axes>"
            ]
          },
          "metadata": {
            "tags": [],
            "needs_background": "light"
          }
        },
        {
          "output_type": "display_data",
          "data": {
            "image/png": "[encoded data removed]",
            "text/plain": [
              "<Figure size 432x288 with 3 Axes>"
            ]
          },
          "metadata": {
            "tags": [],
            "needs_background": "light"
          }
        }
      ]
    },
    {
      "cell_type": "code",
      "metadata": {
        "id": "18hEyLcAuO0x",
        "colab_type": "code",
        "colab": {}
      },
      "source": [
        ""
      ],
      "execution_count": 18,
      "outputs": []
    },
    {
      "cell_type": "code",
      "metadata": {
        "id": "j98axNgCtQON",
        "colab_type": "code",
        "colab": {
          "base_uri": "https://localhost:8080/",
          "height": 341
        },
        "outputId": "ef56fb0e-9295-4032-bb25-b5d52181b40b"
      },
      "source": [
        "df1.iloc[1:20, 11:].transpose().plot()\n"
      ],
      "execution_count": 19,
      "outputs": [
        {
          "output_type": "execute_result",
          "data": {
            "text/plain": [
              "<matplotlib.axes._subplots.AxesSubplot at 0x7f72e2400240>"
            ]
          },
          "metadata": {
            "tags": []
          },
          "execution_count": 19
        },
        {
          "output_type": "display_data",
          "data": {
            "image/png": "[encoded data removed]",
            "text/plain": [
              "<Figure size 432x288 with 1 Axes>"
            ]
          },
          "metadata": {
            "tags": [],
            "needs_background": "light"
          }
        }
      ]
    },
    {
      "cell_type": "markdown",
      "metadata": {
        "id": "HbJkt7oEO0vu",
        "colab_type": "text"
      },
      "source": [
        "## Add meaningful index to the dataframe"
      ]
    },
    {
      "cell_type": "code",
      "metadata": {
        "id": "GynlT_Y7OzoI",
        "colab_type": "code",
        "colab": {
          "base_uri": "https://localhost:8080/",
          "height": 185
        },
        "outputId": "52e6d475-32b6-4618-80b1-c9d629e62543"
      },
      "source": [
        "# one way is to load csv with index \n",
        "df1 = pd.read_csv(fullpath1, error_bad_lines=False, index_col=10) #10th index picks 11th column of \"Combined_Key\"\n",
        "df1.reset_index(drop=True)\n",
        "df1.index"
      ],
      "execution_count": 20,
      "outputs": [
        {
          "output_type": "execute_result",
          "data": {
            "text/plain": [
              "Index(['Autauga, Alabama, US', 'Baldwin, Alabama, US', 'Barbour, Alabama, US',\n",
              "       'Bibb, Alabama, US', 'Blount, Alabama, US', 'Bullock, Alabama, US',\n",
              "       'Butler, Alabama, US', 'Calhoun, Alabama, US', 'Chambers, Alabama, US',\n",
              "       'Cherokee, Alabama, US',\n",
              "       ...\n",
              "       'Park, Wyoming, US', 'Platte, Wyoming, US', 'Sheridan, Wyoming, US',\n",
              "       'Sublette, Wyoming, US', 'Sweetwater, Wyoming, US',\n",
              "       'Teton, Wyoming, US', 'Uinta, Wyoming, US', 'Unassigned, Wyoming, US',\n",
              "       'Washakie, Wyoming, US', 'Weston, Wyoming, US'],\n",
              "      dtype='object', name='Combined_Key', length=3340)"
            ]
          },
          "metadata": {
            "tags": []
          },
          "execution_count": 20
        }
      ]
    },
    {
      "cell_type": "code",
      "metadata": {
        "id": "LZi6vkvTv_MP",
        "colab_type": "code",
        "colab": {
          "base_uri": "https://localhost:8080/",
          "height": 34
        },
        "outputId": "43fe66b6-e8d5-4ce4-c689-8a0b69791b2f"
      },
      "source": [
        "df1.shape"
      ],
      "execution_count": 21,
      "outputs": [
        {
          "output_type": "execute_result",
          "data": {
            "text/plain": [
              "(3340, 253)"
            ]
          },
          "metadata": {
            "tags": []
          },
          "execution_count": 21
        }
      ]
    },
    {
      "cell_type": "code",
      "metadata": {
        "id": "TDBKm68bv3wF",
        "colab_type": "code",
        "colab": {
          "base_uri": "https://localhost:8080/",
          "height": 358
        },
        "outputId": "78c1ba26-d127-4675-b0b7-61ac2ee5acd8"
      },
      "source": [
        "df1.head()"
      ],
      "execution_count": 22,
      "outputs": [
        {
          "output_type": "execute_result",
          "data": {
            "text/html": [
              "<div>\n",
              "<style scoped>\n",
              "    .dataframe tbody tr th:only-of-type {\n",
              "        vertical-align: middle;\n",
              "    }\n",
              "\n",
              "    .dataframe tbody tr th {\n",
              "        vertical-align: top;\n",
              "    }\n",
              "\n",
              "    .dataframe thead th {\n",
              "        text-align: right;\n",
              "    }\n",
              "</style>\n",
              "<table border=\"1\" class=\"dataframe\">\n",
              "  <thead>\n",
              "    <tr style=\"text-align: right;\">\n",
              "      <th></th>\n",
              "      <th>UID</th>\n",
              "      <th>iso2</th>\n",
              "      <th>iso3</th>\n",
              "      <th>code3</th>\n",
              "      <th>FIPS</th>\n",
              "      <th>Admin2</th>\n",
              "      <th>Province_State</th>\n",
              "      <th>Country_Region</th>\n",
              "      <th>Lat</th>\n",
              "      <th>Long_</th>\n",
              "      <th>1/22/20</th>\n",
              "      <th>1/23/20</th>\n",
              "      <th>1/24/20</th>\n",
              "      <th>1/25/20</th>\n",
              "      <th>1/26/20</th>\n",
              "      <th>1/27/20</th>\n",
              "      <th>1/28/20</th>\n",
              "      <th>1/29/20</th>\n",
              "      <th>1/30/20</th>\n",
              "      <th>1/31/20</th>\n",
              "      <th>2/1/20</th>\n",
              "      <th>2/2/20</th>\n",
              "      <th>2/3/20</th>\n",
              "      <th>2/4/20</th>\n",
              "      <th>2/5/20</th>\n",
              "      <th>2/6/20</th>\n",
              "      <th>2/7/20</th>\n",
              "      <th>2/8/20</th>\n",
              "      <th>2/9/20</th>\n",
              "      <th>2/10/20</th>\n",
              "      <th>2/11/20</th>\n",
              "      <th>2/12/20</th>\n",
              "      <th>2/13/20</th>\n",
              "      <th>2/14/20</th>\n",
              "      <th>2/15/20</th>\n",
              "      <th>2/16/20</th>\n",
              "      <th>2/17/20</th>\n",
              "      <th>2/18/20</th>\n",
              "      <th>2/19/20</th>\n",
              "      <th>2/20/20</th>\n",
              "      <th>...</th>\n",
              "      <th>8/12/20</th>\n",
              "      <th>8/13/20</th>\n",
              "      <th>8/14/20</th>\n",
              "      <th>8/15/20</th>\n",
              "      <th>8/16/20</th>\n",
              "      <th>8/17/20</th>\n",
              "      <th>8/18/20</th>\n",
              "      <th>8/19/20</th>\n",
              "      <th>8/20/20</th>\n",
              "      <th>8/21/20</th>\n",
              "      <th>8/22/20</th>\n",
              "      <th>8/23/20</th>\n",
              "      <th>8/24/20</th>\n",
              "      <th>8/25/20</th>\n",
              "      <th>8/26/20</th>\n",
              "      <th>8/27/20</th>\n",
              "      <th>8/28/20</th>\n",
              "      <th>8/29/20</th>\n",
              "      <th>8/30/20</th>\n",
              "      <th>8/31/20</th>\n",
              "      <th>9/1/20</th>\n",
              "      <th>9/2/20</th>\n",
              "      <th>9/3/20</th>\n",
              "      <th>9/4/20</th>\n",
              "      <th>9/5/20</th>\n",
              "      <th>9/6/20</th>\n",
              "      <th>9/7/20</th>\n",
              "      <th>9/8/20</th>\n",
              "      <th>9/9/20</th>\n",
              "      <th>9/10/20</th>\n",
              "      <th>9/11/20</th>\n",
              "      <th>9/12/20</th>\n",
              "      <th>9/13/20</th>\n",
              "      <th>9/14/20</th>\n",
              "      <th>9/15/20</th>\n",
              "      <th>9/16/20</th>\n",
              "      <th>9/17/20</th>\n",
              "      <th>9/18/20</th>\n",
              "      <th>9/19/20</th>\n",
              "      <th>9/20/20</th>\n",
              "    </tr>\n",
              "    <tr>\n",
              "      <th>Combined_Key</th>\n",
              "      <th></th>\n",
              "      <th></th>\n",
              "      <th></th>\n",
              "      <th></th>\n",
              "      <th></th>\n",
              "      <th></th>\n",
              "      <th></th>\n",
              "      <th></th>\n",
              "      <th></th>\n",
              "      <th></th>\n",
              "      <th></th>\n",
              "      <th></th>\n",
              "      <th></th>\n",
              "      <th></th>\n",
              "      <th></th>\n",
              "      <th></th>\n",
              "      <th></th>\n",
              "      <th></th>\n",
              "      <th></th>\n",
              "      <th></th>\n",
              "      <th></th>\n",
              "      <th></th>\n",
              "      <th></th>\n",
              "      <th></th>\n",
              "      <th></th>\n",
              "      <th></th>\n",
              "      <th></th>\n",
              "      <th></th>\n",
              "      <th></th>\n",
              "      <th></th>\n",
              "      <th></th>\n",
              "      <th></th>\n",
              "      <th></th>\n",
              "      <th></th>\n",
              "      <th></th>\n",
              "      <th></th>\n",
              "      <th></th>\n",
              "      <th></th>\n",
              "      <th></th>\n",
              "      <th></th>\n",
              "      <th></th>\n",
              "      <th></th>\n",
              "      <th></th>\n",
              "      <th></th>\n",
              "      <th></th>\n",
              "      <th></th>\n",
              "      <th></th>\n",
              "      <th></th>\n",
              "      <th></th>\n",
              "      <th></th>\n",
              "      <th></th>\n",
              "      <th></th>\n",
              "      <th></th>\n",
              "      <th></th>\n",
              "      <th></th>\n",
              "      <th></th>\n",
              "      <th></th>\n",
              "      <th></th>\n",
              "      <th></th>\n",
              "      <th></th>\n",
              "      <th></th>\n",
              "      <th></th>\n",
              "      <th></th>\n",
              "      <th></th>\n",
              "      <th></th>\n",
              "      <th></th>\n",
              "      <th></th>\n",
              "      <th></th>\n",
              "      <th></th>\n",
              "      <th></th>\n",
              "      <th></th>\n",
              "      <th></th>\n",
              "      <th></th>\n",
              "      <th></th>\n",
              "      <th></th>\n",
              "      <th></th>\n",
              "      <th></th>\n",
              "      <th></th>\n",
              "      <th></th>\n",
              "      <th></th>\n",
              "      <th></th>\n",
              "    </tr>\n",
              "  </thead>\n",
              "  <tbody>\n",
              "    <tr>\n",
              "      <th>Autauga, Alabama, US</th>\n",
              "      <td>84001001</td>\n",
              "      <td>US</td>\n",
              "      <td>USA</td>\n",
              "      <td>840</td>\n",
              "      <td>1001.0</td>\n",
              "      <td>Autauga</td>\n",
              "      <td>Alabama</td>\n",
              "      <td>US</td>\n",
              "      <td>32.539527</td>\n",
              "      <td>-86.644082</td>\n",
              "      <td>0</td>\n",
              "      <td>0</td>\n",
              "      <td>0</td>\n",
              "      <td>0</td>\n",
              "      <td>0</td>\n",
              "      <td>0</td>\n",
              "      <td>0</td>\n",
              "      <td>0</td>\n",
              "      <td>0</td>\n",
              "      <td>0</td>\n",
              "      <td>0</td>\n",
              "      <td>0</td>\n",
              "      <td>0</td>\n",
              "      <td>0</td>\n",
              "      <td>0</td>\n",
              "      <td>0</td>\n",
              "      <td>0</td>\n",
              "      <td>0</td>\n",
              "      <td>0</td>\n",
              "      <td>0</td>\n",
              "      <td>0</td>\n",
              "      <td>0</td>\n",
              "      <td>0</td>\n",
              "      <td>0</td>\n",
              "      <td>0</td>\n",
              "      <td>0</td>\n",
              "      <td>0</td>\n",
              "      <td>0</td>\n",
              "      <td>0</td>\n",
              "      <td>0</td>\n",
              "      <td>...</td>\n",
              "      <td>1188</td>\n",
              "      <td>1196</td>\n",
              "      <td>1196</td>\n",
              "      <td>1206</td>\n",
              "      <td>1218</td>\n",
              "      <td>1219</td>\n",
              "      <td>1235</td>\n",
              "      <td>1241</td>\n",
              "      <td>1240</td>\n",
              "      <td>1255</td>\n",
              "      <td>1264</td>\n",
              "      <td>1266</td>\n",
              "      <td>1286</td>\n",
              "      <td>1286</td>\n",
              "      <td>1281</td>\n",
              "      <td>1284</td>\n",
              "      <td>1296</td>\n",
              "      <td>1309</td>\n",
              "      <td>1345</td>\n",
              "      <td>1348</td>\n",
              "      <td>1354</td>\n",
              "      <td>1345</td>\n",
              "      <td>1349</td>\n",
              "      <td>1355</td>\n",
              "      <td>1371</td>\n",
              "      <td>1377</td>\n",
              "      <td>1383</td>\n",
              "      <td>1385</td>\n",
              "      <td>1398</td>\n",
              "      <td>1413</td>\n",
              "      <td>1420</td>\n",
              "      <td>1432</td>\n",
              "      <td>1442</td>\n",
              "      <td>1447</td>\n",
              "      <td>1463</td>\n",
              "      <td>1619</td>\n",
              "      <td>1624</td>\n",
              "      <td>1664</td>\n",
              "      <td>1673</td>\n",
              "      <td>1690</td>\n",
              "    </tr>\n",
              "    <tr>\n",
              "      <th>Baldwin, Alabama, US</th>\n",
              "      <td>84001003</td>\n",
              "      <td>US</td>\n",
              "      <td>USA</td>\n",
              "      <td>840</td>\n",
              "      <td>1003.0</td>\n",
              "      <td>Baldwin</td>\n",
              "      <td>Alabama</td>\n",
              "      <td>US</td>\n",
              "      <td>30.727750</td>\n",
              "      <td>-87.722071</td>\n",
              "      <td>0</td>\n",
              "      <td>0</td>\n",
              "      <td>0</td>\n",
              "      <td>0</td>\n",
              "      <td>0</td>\n",
              "      <td>0</td>\n",
              "      <td>0</td>\n",
              "      <td>0</td>\n",
              "      <td>0</td>\n",
              "      <td>0</td>\n",
              "      <td>0</td>\n",
              "      <td>0</td>\n",
              "      <td>0</td>\n",
              "      <td>0</td>\n",
              "      <td>0</td>\n",
              "      <td>0</td>\n",
              "      <td>0</td>\n",
              "      <td>0</td>\n",
              "      <td>0</td>\n",
              "      <td>0</td>\n",
              "      <td>0</td>\n",
              "      <td>0</td>\n",
              "      <td>0</td>\n",
              "      <td>0</td>\n",
              "      <td>0</td>\n",
              "      <td>0</td>\n",
              "      <td>0</td>\n",
              "      <td>0</td>\n",
              "      <td>0</td>\n",
              "      <td>0</td>\n",
              "      <td>...</td>\n",
              "      <td>3710</td>\n",
              "      <td>3744</td>\n",
              "      <td>3791</td>\n",
              "      <td>3839</td>\n",
              "      <td>3877</td>\n",
              "      <td>3888</td>\n",
              "      <td>3906</td>\n",
              "      <td>3931</td>\n",
              "      <td>3957</td>\n",
              "      <td>3997</td>\n",
              "      <td>4037</td>\n",
              "      <td>4069</td>\n",
              "      <td>4083</td>\n",
              "      <td>4100</td>\n",
              "      <td>4166</td>\n",
              "      <td>4199</td>\n",
              "      <td>4230</td>\n",
              "      <td>4307</td>\n",
              "      <td>4402</td>\n",
              "      <td>4422</td>\n",
              "      <td>4445</td>\n",
              "      <td>4458</td>\n",
              "      <td>4495</td>\n",
              "      <td>4513</td>\n",
              "      <td>4542</td>\n",
              "      <td>4569</td>\n",
              "      <td>4586</td>\n",
              "      <td>4609</td>\n",
              "      <td>4639</td>\n",
              "      <td>4678</td>\n",
              "      <td>4722</td>\n",
              "      <td>4752</td>\n",
              "      <td>4781</td>\n",
              "      <td>4800</td>\n",
              "      <td>4812</td>\n",
              "      <td>5003</td>\n",
              "      <td>5021</td>\n",
              "      <td>5033</td>\n",
              "      <td>5047</td>\n",
              "      <td>5061</td>\n",
              "    </tr>\n",
              "    <tr>\n",
              "      <th>Barbour, Alabama, US</th>\n",
              "      <td>84001005</td>\n",
              "      <td>US</td>\n",
              "      <td>USA</td>\n",
              "      <td>840</td>\n",
              "      <td>1005.0</td>\n",
              "      <td>Barbour</td>\n",
              "      <td>Alabama</td>\n",
              "      <td>US</td>\n",
              "      <td>31.868263</td>\n",
              "      <td>-85.387129</td>\n",
              "      <td>0</td>\n",
              "      <td>0</td>\n",
              "      <td>0</td>\n",
              "      <td>0</td>\n",
              "      <td>0</td>\n",
              "      <td>0</td>\n",
              "      <td>0</td>\n",
              "      <td>0</td>\n",
              "      <td>0</td>\n",
              "      <td>0</td>\n",
              "      <td>0</td>\n",
              "      <td>0</td>\n",
              "      <td>0</td>\n",
              "      <td>0</td>\n",
              "      <td>0</td>\n",
              "      <td>0</td>\n",
              "      <td>0</td>\n",
              "      <td>0</td>\n",
              "      <td>0</td>\n",
              "      <td>0</td>\n",
              "      <td>0</td>\n",
              "      <td>0</td>\n",
              "      <td>0</td>\n",
              "      <td>0</td>\n",
              "      <td>0</td>\n",
              "      <td>0</td>\n",
              "      <td>0</td>\n",
              "      <td>0</td>\n",
              "      <td>0</td>\n",
              "      <td>0</td>\n",
              "      <td>...</td>\n",
              "      <td>581</td>\n",
              "      <td>586</td>\n",
              "      <td>590</td>\n",
              "      <td>598</td>\n",
              "      <td>604</td>\n",
              "      <td>605</td>\n",
              "      <td>606</td>\n",
              "      <td>613</td>\n",
              "      <td>619</td>\n",
              "      <td>622</td>\n",
              "      <td>626</td>\n",
              "      <td>629</td>\n",
              "      <td>633</td>\n",
              "      <td>628</td>\n",
              "      <td>616</td>\n",
              "      <td>614</td>\n",
              "      <td>620</td>\n",
              "      <td>624</td>\n",
              "      <td>628</td>\n",
              "      <td>628</td>\n",
              "      <td>629</td>\n",
              "      <td>617</td>\n",
              "      <td>614</td>\n",
              "      <td>616</td>\n",
              "      <td>616</td>\n",
              "      <td>616</td>\n",
              "      <td>617</td>\n",
              "      <td>617</td>\n",
              "      <td>618</td>\n",
              "      <td>618</td>\n",
              "      <td>618</td>\n",
              "      <td>620</td>\n",
              "      <td>622</td>\n",
              "      <td>626</td>\n",
              "      <td>629</td>\n",
              "      <td>809</td>\n",
              "      <td>809</td>\n",
              "      <td>824</td>\n",
              "      <td>830</td>\n",
              "      <td>835</td>\n",
              "    </tr>\n",
              "    <tr>\n",
              "      <th>Bibb, Alabama, US</th>\n",
              "      <td>84001007</td>\n",
              "      <td>US</td>\n",
              "      <td>USA</td>\n",
              "      <td>840</td>\n",
              "      <td>1007.0</td>\n",
              "      <td>Bibb</td>\n",
              "      <td>Alabama</td>\n",
              "      <td>US</td>\n",
              "      <td>32.996421</td>\n",
              "      <td>-87.125115</td>\n",
              "      <td>0</td>\n",
              "      <td>0</td>\n",
              "      <td>0</td>\n",
              "      <td>0</td>\n",
              "      <td>0</td>\n",
              "      <td>0</td>\n",
              "      <td>0</td>\n",
              "      <td>0</td>\n",
              "      <td>0</td>\n",
              "      <td>0</td>\n",
              "      <td>0</td>\n",
              "      <td>0</td>\n",
              "      <td>0</td>\n",
              "      <td>0</td>\n",
              "      <td>0</td>\n",
              "      <td>0</td>\n",
              "      <td>0</td>\n",
              "      <td>0</td>\n",
              "      <td>0</td>\n",
              "      <td>0</td>\n",
              "      <td>0</td>\n",
              "      <td>0</td>\n",
              "      <td>0</td>\n",
              "      <td>0</td>\n",
              "      <td>0</td>\n",
              "      <td>0</td>\n",
              "      <td>0</td>\n",
              "      <td>0</td>\n",
              "      <td>0</td>\n",
              "      <td>0</td>\n",
              "      <td>...</td>\n",
              "      <td>453</td>\n",
              "      <td>457</td>\n",
              "      <td>465</td>\n",
              "      <td>469</td>\n",
              "      <td>469</td>\n",
              "      <td>474</td>\n",
              "      <td>476</td>\n",
              "      <td>490</td>\n",
              "      <td>494</td>\n",
              "      <td>501</td>\n",
              "      <td>503</td>\n",
              "      <td>510</td>\n",
              "      <td>510</td>\n",
              "      <td>511</td>\n",
              "      <td>513</td>\n",
              "      <td>515</td>\n",
              "      <td>517</td>\n",
              "      <td>523</td>\n",
              "      <td>533</td>\n",
              "      <td>535</td>\n",
              "      <td>538</td>\n",
              "      <td>541</td>\n",
              "      <td>542</td>\n",
              "      <td>545</td>\n",
              "      <td>550</td>\n",
              "      <td>555</td>\n",
              "      <td>557</td>\n",
              "      <td>562</td>\n",
              "      <td>564</td>\n",
              "      <td>566</td>\n",
              "      <td>574</td>\n",
              "      <td>576</td>\n",
              "      <td>578</td>\n",
              "      <td>581</td>\n",
              "      <td>580</td>\n",
              "      <td>612</td>\n",
              "      <td>617</td>\n",
              "      <td>619</td>\n",
              "      <td>628</td>\n",
              "      <td>632</td>\n",
              "    </tr>\n",
              "    <tr>\n",
              "      <th>Blount, Alabama, US</th>\n",
              "      <td>84001009</td>\n",
              "      <td>US</td>\n",
              "      <td>USA</td>\n",
              "      <td>840</td>\n",
              "      <td>1009.0</td>\n",
              "      <td>Blount</td>\n",
              "      <td>Alabama</td>\n",
              "      <td>US</td>\n",
              "      <td>33.982109</td>\n",
              "      <td>-86.567906</td>\n",
              "      <td>0</td>\n",
              "      <td>0</td>\n",
              "      <td>0</td>\n",
              "      <td>0</td>\n",
              "      <td>0</td>\n",
              "      <td>0</td>\n",
              "      <td>0</td>\n",
              "      <td>0</td>\n",
              "      <td>0</td>\n",
              "      <td>0</td>\n",
              "      <td>0</td>\n",
              "      <td>0</td>\n",
              "      <td>0</td>\n",
              "      <td>0</td>\n",
              "      <td>0</td>\n",
              "      <td>0</td>\n",
              "      <td>0</td>\n",
              "      <td>0</td>\n",
              "      <td>0</td>\n",
              "      <td>0</td>\n",
              "      <td>0</td>\n",
              "      <td>0</td>\n",
              "      <td>0</td>\n",
              "      <td>0</td>\n",
              "      <td>0</td>\n",
              "      <td>0</td>\n",
              "      <td>0</td>\n",
              "      <td>0</td>\n",
              "      <td>0</td>\n",
              "      <td>0</td>\n",
              "      <td>...</td>\n",
              "      <td>825</td>\n",
              "      <td>835</td>\n",
              "      <td>848</td>\n",
              "      <td>854</td>\n",
              "      <td>860</td>\n",
              "      <td>863</td>\n",
              "      <td>887</td>\n",
              "      <td>901</td>\n",
              "      <td>912</td>\n",
              "      <td>930</td>\n",
              "      <td>931</td>\n",
              "      <td>934</td>\n",
              "      <td>946</td>\n",
              "      <td>967</td>\n",
              "      <td>968</td>\n",
              "      <td>979</td>\n",
              "      <td>983</td>\n",
              "      <td>1004</td>\n",
              "      <td>1025</td>\n",
              "      <td>1034</td>\n",
              "      <td>1045</td>\n",
              "      <td>1036</td>\n",
              "      <td>1037</td>\n",
              "      <td>1049</td>\n",
              "      <td>1062</td>\n",
              "      <td>1065</td>\n",
              "      <td>1070</td>\n",
              "      <td>1071</td>\n",
              "      <td>1082</td>\n",
              "      <td>1099</td>\n",
              "      <td>1109</td>\n",
              "      <td>1114</td>\n",
              "      <td>1121</td>\n",
              "      <td>1128</td>\n",
              "      <td>1139</td>\n",
              "      <td>1487</td>\n",
              "      <td>1504</td>\n",
              "      <td>1527</td>\n",
              "      <td>1542</td>\n",
              "      <td>1551</td>\n",
              "    </tr>\n",
              "  </tbody>\n",
              "</table>\n",
              "<p>5 rows × 253 columns</p>\n",
              "</div>"
            ],
            "text/plain": [
              "                           UID iso2 iso3  ...  9/18/20  9/19/20 9/20/20\n",
              "Combined_Key                              ...                          \n",
              "Autauga, Alabama, US  84001001   US  USA  ...     1664     1673    1690\n",
              "Baldwin, Alabama, US  84001003   US  USA  ...     5033     5047    5061\n",
              "Barbour, Alabama, US  84001005   US  USA  ...      824      830     835\n",
              "Bibb, Alabama, US     84001007   US  USA  ...      619      628     632\n",
              "Blount, Alabama, US   84001009   US  USA  ...     1527     1542    1551\n",
              "\n",
              "[5 rows x 253 columns]"
            ]
          },
          "metadata": {
            "tags": []
          },
          "execution_count": 22
        }
      ]
    },
    {
      "cell_type": "code",
      "metadata": {
        "id": "WxPgUNBQSXFs",
        "colab_type": "code",
        "colab": {
          "base_uri": "https://localhost:8080/",
          "height": 34
        },
        "outputId": "635135eb-09ab-429f-ae23-651be396a32c"
      },
      "source": [
        "# another way is to re-assign index\n",
        "df1 = pd.read_csv(fullpath1, error_bad_lines=False)\n",
        "newrows = list( df1['Combined_Key'])\n",
        "df1.index =  newrows\n",
        "df1.shape"
      ],
      "execution_count": 23,
      "outputs": [
        {
          "output_type": "execute_result",
          "data": {
            "text/plain": [
              "(3340, 254)"
            ]
          },
          "metadata": {
            "tags": []
          },
          "execution_count": 23
        }
      ]
    },
    {
      "cell_type": "code",
      "metadata": {
        "id": "kse8nWaqwJcn",
        "colab_type": "code",
        "colab": {
          "base_uri": "https://localhost:8080/",
          "height": 412
        },
        "outputId": "abe476b4-0229-42b0-f502-56d50cb45196"
      },
      "source": [
        "df1.head()"
      ],
      "execution_count": 24,
      "outputs": [
        {
          "output_type": "execute_result",
          "data": {
            "text/html": [
              "<div>\n",
              "<style scoped>\n",
              "    .dataframe tbody tr th:only-of-type {\n",
              "        vertical-align: middle;\n",
              "    }\n",
              "\n",
              "    .dataframe tbody tr th {\n",
              "        vertical-align: top;\n",
              "    }\n",
              "\n",
              "    .dataframe thead th {\n",
              "        text-align: right;\n",
              "    }\n",
              "</style>\n",
              "<table border=\"1\" class=\"dataframe\">\n",
              "  <thead>\n",
              "    <tr style=\"text-align: right;\">\n",
              "      <th></th>\n",
              "      <th>UID</th>\n",
              "      <th>iso2</th>\n",
              "      <th>iso3</th>\n",
              "      <th>code3</th>\n",
              "      <th>FIPS</th>\n",
              "      <th>Admin2</th>\n",
              "      <th>Province_State</th>\n",
              "      <th>Country_Region</th>\n",
              "      <th>Lat</th>\n",
              "      <th>Long_</th>\n",
              "      <th>Combined_Key</th>\n",
              "      <th>1/22/20</th>\n",
              "      <th>1/23/20</th>\n",
              "      <th>1/24/20</th>\n",
              "      <th>1/25/20</th>\n",
              "      <th>1/26/20</th>\n",
              "      <th>1/27/20</th>\n",
              "      <th>1/28/20</th>\n",
              "      <th>1/29/20</th>\n",
              "      <th>1/30/20</th>\n",
              "      <th>1/31/20</th>\n",
              "      <th>2/1/20</th>\n",
              "      <th>2/2/20</th>\n",
              "      <th>2/3/20</th>\n",
              "      <th>2/4/20</th>\n",
              "      <th>2/5/20</th>\n",
              "      <th>2/6/20</th>\n",
              "      <th>2/7/20</th>\n",
              "      <th>2/8/20</th>\n",
              "      <th>2/9/20</th>\n",
              "      <th>2/10/20</th>\n",
              "      <th>2/11/20</th>\n",
              "      <th>2/12/20</th>\n",
              "      <th>2/13/20</th>\n",
              "      <th>2/14/20</th>\n",
              "      <th>2/15/20</th>\n",
              "      <th>2/16/20</th>\n",
              "      <th>2/17/20</th>\n",
              "      <th>2/18/20</th>\n",
              "      <th>2/19/20</th>\n",
              "      <th>...</th>\n",
              "      <th>8/12/20</th>\n",
              "      <th>8/13/20</th>\n",
              "      <th>8/14/20</th>\n",
              "      <th>8/15/20</th>\n",
              "      <th>8/16/20</th>\n",
              "      <th>8/17/20</th>\n",
              "      <th>8/18/20</th>\n",
              "      <th>8/19/20</th>\n",
              "      <th>8/20/20</th>\n",
              "      <th>8/21/20</th>\n",
              "      <th>8/22/20</th>\n",
              "      <th>8/23/20</th>\n",
              "      <th>8/24/20</th>\n",
              "      <th>8/25/20</th>\n",
              "      <th>8/26/20</th>\n",
              "      <th>8/27/20</th>\n",
              "      <th>8/28/20</th>\n",
              "      <th>8/29/20</th>\n",
              "      <th>8/30/20</th>\n",
              "      <th>8/31/20</th>\n",
              "      <th>9/1/20</th>\n",
              "      <th>9/2/20</th>\n",
              "      <th>9/3/20</th>\n",
              "      <th>9/4/20</th>\n",
              "      <th>9/5/20</th>\n",
              "      <th>9/6/20</th>\n",
              "      <th>9/7/20</th>\n",
              "      <th>9/8/20</th>\n",
              "      <th>9/9/20</th>\n",
              "      <th>9/10/20</th>\n",
              "      <th>9/11/20</th>\n",
              "      <th>9/12/20</th>\n",
              "      <th>9/13/20</th>\n",
              "      <th>9/14/20</th>\n",
              "      <th>9/15/20</th>\n",
              "      <th>9/16/20</th>\n",
              "      <th>9/17/20</th>\n",
              "      <th>9/18/20</th>\n",
              "      <th>9/19/20</th>\n",
              "      <th>9/20/20</th>\n",
              "    </tr>\n",
              "  </thead>\n",
              "  <tbody>\n",
              "    <tr>\n",
              "      <th>Autauga, Alabama, US</th>\n",
              "      <td>84001001</td>\n",
              "      <td>US</td>\n",
              "      <td>USA</td>\n",
              "      <td>840</td>\n",
              "      <td>1001.0</td>\n",
              "      <td>Autauga</td>\n",
              "      <td>Alabama</td>\n",
              "      <td>US</td>\n",
              "      <td>32.539527</td>\n",
              "      <td>-86.644082</td>\n",
              "      <td>Autauga, Alabama, US</td>\n",
              "      <td>0</td>\n",
              "      <td>0</td>\n",
              "      <td>0</td>\n",
              "      <td>0</td>\n",
              "      <td>0</td>\n",
              "      <td>0</td>\n",
              "      <td>0</td>\n",
              "      <td>0</td>\n",
              "      <td>0</td>\n",
              "      <td>0</td>\n",
              "      <td>0</td>\n",
              "      <td>0</td>\n",
              "      <td>0</td>\n",
              "      <td>0</td>\n",
              "      <td>0</td>\n",
              "      <td>0</td>\n",
              "      <td>0</td>\n",
              "      <td>0</td>\n",
              "      <td>0</td>\n",
              "      <td>0</td>\n",
              "      <td>0</td>\n",
              "      <td>0</td>\n",
              "      <td>0</td>\n",
              "      <td>0</td>\n",
              "      <td>0</td>\n",
              "      <td>0</td>\n",
              "      <td>0</td>\n",
              "      <td>0</td>\n",
              "      <td>0</td>\n",
              "      <td>...</td>\n",
              "      <td>1188</td>\n",
              "      <td>1196</td>\n",
              "      <td>1196</td>\n",
              "      <td>1206</td>\n",
              "      <td>1218</td>\n",
              "      <td>1219</td>\n",
              "      <td>1235</td>\n",
              "      <td>1241</td>\n",
              "      <td>1240</td>\n",
              "      <td>1255</td>\n",
              "      <td>1264</td>\n",
              "      <td>1266</td>\n",
              "      <td>1286</td>\n",
              "      <td>1286</td>\n",
              "      <td>1281</td>\n",
              "      <td>1284</td>\n",
              "      <td>1296</td>\n",
              "      <td>1309</td>\n",
              "      <td>1345</td>\n",
              "      <td>1348</td>\n",
              "      <td>1354</td>\n",
              "      <td>1345</td>\n",
              "      <td>1349</td>\n",
              "      <td>1355</td>\n",
              "      <td>1371</td>\n",
              "      <td>1377</td>\n",
              "      <td>1383</td>\n",
              "      <td>1385</td>\n",
              "      <td>1398</td>\n",
              "      <td>1413</td>\n",
              "      <td>1420</td>\n",
              "      <td>1432</td>\n",
              "      <td>1442</td>\n",
              "      <td>1447</td>\n",
              "      <td>1463</td>\n",
              "      <td>1619</td>\n",
              "      <td>1624</td>\n",
              "      <td>1664</td>\n",
              "      <td>1673</td>\n",
              "      <td>1690</td>\n",
              "    </tr>\n",
              "    <tr>\n",
              "      <th>Baldwin, Alabama, US</th>\n",
              "      <td>84001003</td>\n",
              "      <td>US</td>\n",
              "      <td>USA</td>\n",
              "      <td>840</td>\n",
              "      <td>1003.0</td>\n",
              "      <td>Baldwin</td>\n",
              "      <td>Alabama</td>\n",
              "      <td>US</td>\n",
              "      <td>30.727750</td>\n",
              "      <td>-87.722071</td>\n",
              "      <td>Baldwin, Alabama, US</td>\n",
              "      <td>0</td>\n",
              "      <td>0</td>\n",
              "      <td>0</td>\n",
              "      <td>0</td>\n",
              "      <td>0</td>\n",
              "      <td>0</td>\n",
              "      <td>0</td>\n",
              "      <td>0</td>\n",
              "      <td>0</td>\n",
              "      <td>0</td>\n",
              "      <td>0</td>\n",
              "      <td>0</td>\n",
              "      <td>0</td>\n",
              "      <td>0</td>\n",
              "      <td>0</td>\n",
              "      <td>0</td>\n",
              "      <td>0</td>\n",
              "      <td>0</td>\n",
              "      <td>0</td>\n",
              "      <td>0</td>\n",
              "      <td>0</td>\n",
              "      <td>0</td>\n",
              "      <td>0</td>\n",
              "      <td>0</td>\n",
              "      <td>0</td>\n",
              "      <td>0</td>\n",
              "      <td>0</td>\n",
              "      <td>0</td>\n",
              "      <td>0</td>\n",
              "      <td>...</td>\n",
              "      <td>3710</td>\n",
              "      <td>3744</td>\n",
              "      <td>3791</td>\n",
              "      <td>3839</td>\n",
              "      <td>3877</td>\n",
              "      <td>3888</td>\n",
              "      <td>3906</td>\n",
              "      <td>3931</td>\n",
              "      <td>3957</td>\n",
              "      <td>3997</td>\n",
              "      <td>4037</td>\n",
              "      <td>4069</td>\n",
              "      <td>4083</td>\n",
              "      <td>4100</td>\n",
              "      <td>4166</td>\n",
              "      <td>4199</td>\n",
              "      <td>4230</td>\n",
              "      <td>4307</td>\n",
              "      <td>4402</td>\n",
              "      <td>4422</td>\n",
              "      <td>4445</td>\n",
              "      <td>4458</td>\n",
              "      <td>4495</td>\n",
              "      <td>4513</td>\n",
              "      <td>4542</td>\n",
              "      <td>4569</td>\n",
              "      <td>4586</td>\n",
              "      <td>4609</td>\n",
              "      <td>4639</td>\n",
              "      <td>4678</td>\n",
              "      <td>4722</td>\n",
              "      <td>4752</td>\n",
              "      <td>4781</td>\n",
              "      <td>4800</td>\n",
              "      <td>4812</td>\n",
              "      <td>5003</td>\n",
              "      <td>5021</td>\n",
              "      <td>5033</td>\n",
              "      <td>5047</td>\n",
              "      <td>5061</td>\n",
              "    </tr>\n",
              "    <tr>\n",
              "      <th>Barbour, Alabama, US</th>\n",
              "      <td>84001005</td>\n",
              "      <td>US</td>\n",
              "      <td>USA</td>\n",
              "      <td>840</td>\n",
              "      <td>1005.0</td>\n",
              "      <td>Barbour</td>\n",
              "      <td>Alabama</td>\n",
              "      <td>US</td>\n",
              "      <td>31.868263</td>\n",
              "      <td>-85.387129</td>\n",
              "      <td>Barbour, Alabama, US</td>\n",
              "      <td>0</td>\n",
              "      <td>0</td>\n",
              "      <td>0</td>\n",
              "      <td>0</td>\n",
              "      <td>0</td>\n",
              "      <td>0</td>\n",
              "      <td>0</td>\n",
              "      <td>0</td>\n",
              "      <td>0</td>\n",
              "      <td>0</td>\n",
              "      <td>0</td>\n",
              "      <td>0</td>\n",
              "      <td>0</td>\n",
              "      <td>0</td>\n",
              "      <td>0</td>\n",
              "      <td>0</td>\n",
              "      <td>0</td>\n",
              "      <td>0</td>\n",
              "      <td>0</td>\n",
              "      <td>0</td>\n",
              "      <td>0</td>\n",
              "      <td>0</td>\n",
              "      <td>0</td>\n",
              "      <td>0</td>\n",
              "      <td>0</td>\n",
              "      <td>0</td>\n",
              "      <td>0</td>\n",
              "      <td>0</td>\n",
              "      <td>0</td>\n",
              "      <td>...</td>\n",
              "      <td>581</td>\n",
              "      <td>586</td>\n",
              "      <td>590</td>\n",
              "      <td>598</td>\n",
              "      <td>604</td>\n",
              "      <td>605</td>\n",
              "      <td>606</td>\n",
              "      <td>613</td>\n",
              "      <td>619</td>\n",
              "      <td>622</td>\n",
              "      <td>626</td>\n",
              "      <td>629</td>\n",
              "      <td>633</td>\n",
              "      <td>628</td>\n",
              "      <td>616</td>\n",
              "      <td>614</td>\n",
              "      <td>620</td>\n",
              "      <td>624</td>\n",
              "      <td>628</td>\n",
              "      <td>628</td>\n",
              "      <td>629</td>\n",
              "      <td>617</td>\n",
              "      <td>614</td>\n",
              "      <td>616</td>\n",
              "      <td>616</td>\n",
              "      <td>616</td>\n",
              "      <td>617</td>\n",
              "      <td>617</td>\n",
              "      <td>618</td>\n",
              "      <td>618</td>\n",
              "      <td>618</td>\n",
              "      <td>620</td>\n",
              "      <td>622</td>\n",
              "      <td>626</td>\n",
              "      <td>629</td>\n",
              "      <td>809</td>\n",
              "      <td>809</td>\n",
              "      <td>824</td>\n",
              "      <td>830</td>\n",
              "      <td>835</td>\n",
              "    </tr>\n",
              "    <tr>\n",
              "      <th>Bibb, Alabama, US</th>\n",
              "      <td>84001007</td>\n",
              "      <td>US</td>\n",
              "      <td>USA</td>\n",
              "      <td>840</td>\n",
              "      <td>1007.0</td>\n",
              "      <td>Bibb</td>\n",
              "      <td>Alabama</td>\n",
              "      <td>US</td>\n",
              "      <td>32.996421</td>\n",
              "      <td>-87.125115</td>\n",
              "      <td>Bibb, Alabama, US</td>\n",
              "      <td>0</td>\n",
              "      <td>0</td>\n",
              "      <td>0</td>\n",
              "      <td>0</td>\n",
              "      <td>0</td>\n",
              "      <td>0</td>\n",
              "      <td>0</td>\n",
              "      <td>0</td>\n",
              "      <td>0</td>\n",
              "      <td>0</td>\n",
              "      <td>0</td>\n",
              "      <td>0</td>\n",
              "      <td>0</td>\n",
              "      <td>0</td>\n",
              "      <td>0</td>\n",
              "      <td>0</td>\n",
              "      <td>0</td>\n",
              "      <td>0</td>\n",
              "      <td>0</td>\n",
              "      <td>0</td>\n",
              "      <td>0</td>\n",
              "      <td>0</td>\n",
              "      <td>0</td>\n",
              "      <td>0</td>\n",
              "      <td>0</td>\n",
              "      <td>0</td>\n",
              "      <td>0</td>\n",
              "      <td>0</td>\n",
              "      <td>0</td>\n",
              "      <td>...</td>\n",
              "      <td>453</td>\n",
              "      <td>457</td>\n",
              "      <td>465</td>\n",
              "      <td>469</td>\n",
              "      <td>469</td>\n",
              "      <td>474</td>\n",
              "      <td>476</td>\n",
              "      <td>490</td>\n",
              "      <td>494</td>\n",
              "      <td>501</td>\n",
              "      <td>503</td>\n",
              "      <td>510</td>\n",
              "      <td>510</td>\n",
              "      <td>511</td>\n",
              "      <td>513</td>\n",
              "      <td>515</td>\n",
              "      <td>517</td>\n",
              "      <td>523</td>\n",
              "      <td>533</td>\n",
              "      <td>535</td>\n",
              "      <td>538</td>\n",
              "      <td>541</td>\n",
              "      <td>542</td>\n",
              "      <td>545</td>\n",
              "      <td>550</td>\n",
              "      <td>555</td>\n",
              "      <td>557</td>\n",
              "      <td>562</td>\n",
              "      <td>564</td>\n",
              "      <td>566</td>\n",
              "      <td>574</td>\n",
              "      <td>576</td>\n",
              "      <td>578</td>\n",
              "      <td>581</td>\n",
              "      <td>580</td>\n",
              "      <td>612</td>\n",
              "      <td>617</td>\n",
              "      <td>619</td>\n",
              "      <td>628</td>\n",
              "      <td>632</td>\n",
              "    </tr>\n",
              "    <tr>\n",
              "      <th>Blount, Alabama, US</th>\n",
              "      <td>84001009</td>\n",
              "      <td>US</td>\n",
              "      <td>USA</td>\n",
              "      <td>840</td>\n",
              "      <td>1009.0</td>\n",
              "      <td>Blount</td>\n",
              "      <td>Alabama</td>\n",
              "      <td>US</td>\n",
              "      <td>33.982109</td>\n",
              "      <td>-86.567906</td>\n",
              "      <td>Blount, Alabama, US</td>\n",
              "      <td>0</td>\n",
              "      <td>0</td>\n",
              "      <td>0</td>\n",
              "      <td>0</td>\n",
              "      <td>0</td>\n",
              "      <td>0</td>\n",
              "      <td>0</td>\n",
              "      <td>0</td>\n",
              "      <td>0</td>\n",
              "      <td>0</td>\n",
              "      <td>0</td>\n",
              "      <td>0</td>\n",
              "      <td>0</td>\n",
              "      <td>0</td>\n",
              "      <td>0</td>\n",
              "      <td>0</td>\n",
              "      <td>0</td>\n",
              "      <td>0</td>\n",
              "      <td>0</td>\n",
              "      <td>0</td>\n",
              "      <td>0</td>\n",
              "      <td>0</td>\n",
              "      <td>0</td>\n",
              "      <td>0</td>\n",
              "      <td>0</td>\n",
              "      <td>0</td>\n",
              "      <td>0</td>\n",
              "      <td>0</td>\n",
              "      <td>0</td>\n",
              "      <td>...</td>\n",
              "      <td>825</td>\n",
              "      <td>835</td>\n",
              "      <td>848</td>\n",
              "      <td>854</td>\n",
              "      <td>860</td>\n",
              "      <td>863</td>\n",
              "      <td>887</td>\n",
              "      <td>901</td>\n",
              "      <td>912</td>\n",
              "      <td>930</td>\n",
              "      <td>931</td>\n",
              "      <td>934</td>\n",
              "      <td>946</td>\n",
              "      <td>967</td>\n",
              "      <td>968</td>\n",
              "      <td>979</td>\n",
              "      <td>983</td>\n",
              "      <td>1004</td>\n",
              "      <td>1025</td>\n",
              "      <td>1034</td>\n",
              "      <td>1045</td>\n",
              "      <td>1036</td>\n",
              "      <td>1037</td>\n",
              "      <td>1049</td>\n",
              "      <td>1062</td>\n",
              "      <td>1065</td>\n",
              "      <td>1070</td>\n",
              "      <td>1071</td>\n",
              "      <td>1082</td>\n",
              "      <td>1099</td>\n",
              "      <td>1109</td>\n",
              "      <td>1114</td>\n",
              "      <td>1121</td>\n",
              "      <td>1128</td>\n",
              "      <td>1139</td>\n",
              "      <td>1487</td>\n",
              "      <td>1504</td>\n",
              "      <td>1527</td>\n",
              "      <td>1542</td>\n",
              "      <td>1551</td>\n",
              "    </tr>\n",
              "  </tbody>\n",
              "</table>\n",
              "<p>5 rows × 254 columns</p>\n",
              "</div>"
            ],
            "text/plain": [
              "                           UID iso2 iso3  ...  9/18/20  9/19/20 9/20/20\n",
              "Autauga, Alabama, US  84001001   US  USA  ...     1664     1673    1690\n",
              "Baldwin, Alabama, US  84001003   US  USA  ...     5033     5047    5061\n",
              "Barbour, Alabama, US  84001005   US  USA  ...      824      830     835\n",
              "Bibb, Alabama, US     84001007   US  USA  ...      619      628     632\n",
              "Blount, Alabama, US   84001009   US  USA  ...     1527     1542    1551\n",
              "\n",
              "[5 rows x 254 columns]"
            ]
          },
          "metadata": {
            "tags": []
          },
          "execution_count": 24
        }
      ]
    },
    {
      "cell_type": "code",
      "metadata": {
        "id": "OSXaT5a3TVG9",
        "colab_type": "code",
        "colab": {
          "base_uri": "https://localhost:8080/",
          "height": 168
        },
        "outputId": "f0845eef-5052-495d-b031-471245e79807"
      },
      "source": [
        "list(df1['Combined_Key'] )[1:10]"
      ],
      "execution_count": 25,
      "outputs": [
        {
          "output_type": "execute_result",
          "data": {
            "text/plain": [
              "['Baldwin, Alabama, US',\n",
              " 'Barbour, Alabama, US',\n",
              " 'Bibb, Alabama, US',\n",
              " 'Blount, Alabama, US',\n",
              " 'Bullock, Alabama, US',\n",
              " 'Butler, Alabama, US',\n",
              " 'Calhoun, Alabama, US',\n",
              " 'Chambers, Alabama, US',\n",
              " 'Cherokee, Alabama, US']"
            ]
          },
          "metadata": {
            "tags": []
          },
          "execution_count": 25
        }
      ]
    },
    {
      "cell_type": "code",
      "metadata": {
        "id": "X8wTrnHRS1Da",
        "colab_type": "code",
        "colab": {
          "base_uri": "https://localhost:8080/",
          "height": 1000
        },
        "outputId": "c8283f44-d09e-40cd-f91a-cf4b54d2e89a"
      },
      "source": [
        "step = 10\n",
        "for i in range(0, 100, step):\n",
        "#for i in range(0, 3340, step):\n",
        "  UScases = df1.iloc[ i : (i+step), 11:].transpose()\n",
        "  UScases.plot()"
      ],
      "execution_count": 26,
      "outputs": [
        {
          "output_type": "display_data",
          "data": {
            "image/png": "[encoded data removed]",
            "text/plain": [
              "<Figure size 432x288 with 1 Axes>"
            ]
          },
          "metadata": {
            "tags": [],
            "needs_background": "light"
          }
        },
        {
          "output_type": "display_data",
          "data": {
            "image/png": "[encoded data removed]",
            "text/plain": [
              "<Figure size 432x288 with 1 Axes>"
            ]
          },
          "metadata": {
            "tags": [],
            "needs_background": "light"
          }
        },
        {
          "output_type": "display_data",
          "data": {
            "image/png": "[encoded data removed]",
            "text/plain": [
              "<Figure size 432x288 with 1 Axes>"
            ]
          },
          "metadata": {
            "tags": [],
            "needs_background": "light"
          }
        },
        {
          "output_type": "display_data",
          "data": {
            "image/png": "[encoded data removed]",
            "text/plain": [
              "<Figure size 432x288 with 1 Axes>"
            ]
          },
          "metadata": {
            "tags": [],
            "needs_background": "light"
          }
        },
        {
          "output_type": "display_data",
          "data": {
            "image/png": "[encoded data removed]",
            "text/plain": [
              "<Figure size 432x288 with 1 Axes>"
            ]
          },
          "metadata": {
            "tags": [],
            "needs_background": "light"
          }
        },
        {
          "output_type": "display_data",
          "data": {
            "image/png": "[encoded data removed]",
            "text/plain": [
              "<Figure size 432x288 with 1 Axes>"
            ]
          },
          "metadata": {
            "tags": [],
            "needs_background": "light"
          }
        },
        {
          "output_type": "display_data",
          "data": {
            "image/png": "[encoded data removed]",
            "text/plain": [
              "<Figure size 432x288 with 1 Axes>"
            ]
          },
          "metadata": {
            "tags": [],
            "needs_background": "light"
          }
        },
        {
          "output_type": "display_data",
          "data": {
            "image/png": "[encoded data removed]",
            "text/plain": [
              "<Figure size 432x288 with 1 Axes>"
            ]
          },
          "metadata": {
            "tags": [],
            "needs_background": "light"
          }
        },
        {
          "output_type": "display_data",
          "data": {
            "image/png": "[encoded data removed]",
            "text/plain": [
              "<Figure size 432x288 with 1 Axes>"
            ]
          },
          "metadata": {
            "tags": [],
            "needs_background": "light"
          }
        },
        {
          "output_type": "display_data",
          "data": {
            "image/png": "[encoded data removed]",
            "text/plain": [
              "<Figure size 432x288 with 1 Axes>"
            ]
          },
          "metadata": {
            "tags": [],
            "needs_background": "light"
          }
        }
      ]
    },
    {
      "cell_type": "code",
      "metadata": {
        "id": "2_e3s1QjP-bI",
        "colab_type": "code",
        "colab": {
          "base_uri": "https://localhost:8080/",
          "height": 412
        },
        "outputId": "d9346112-7a08-4f76-ef25-5d5109723db5"
      },
      "source": [
        "df1.tail()"
      ],
      "execution_count": 27,
      "outputs": [
        {
          "output_type": "execute_result",
          "data": {
            "text/html": [
              "<div>\n",
              "<style scoped>\n",
              "    .dataframe tbody tr th:only-of-type {\n",
              "        vertical-align: middle;\n",
              "    }\n",
              "\n",
              "    .dataframe tbody tr th {\n",
              "        vertical-align: top;\n",
              "    }\n",
              "\n",
              "    .dataframe thead th {\n",
              "        text-align: right;\n",
              "    }\n",
              "</style>\n",
              "<table border=\"1\" class=\"dataframe\">\n",
              "  <thead>\n",
              "    <tr style=\"text-align: right;\">\n",
              "      <th></th>\n",
              "      <th>UID</th>\n",
              "      <th>iso2</th>\n",
              "      <th>iso3</th>\n",
              "      <th>code3</th>\n",
              "      <th>FIPS</th>\n",
              "      <th>Admin2</th>\n",
              "      <th>Province_State</th>\n",
              "      <th>Country_Region</th>\n",
              "      <th>Lat</th>\n",
              "      <th>Long_</th>\n",
              "      <th>Combined_Key</th>\n",
              "      <th>1/22/20</th>\n",
              "      <th>1/23/20</th>\n",
              "      <th>1/24/20</th>\n",
              "      <th>1/25/20</th>\n",
              "      <th>1/26/20</th>\n",
              "      <th>1/27/20</th>\n",
              "      <th>1/28/20</th>\n",
              "      <th>1/29/20</th>\n",
              "      <th>1/30/20</th>\n",
              "      <th>1/31/20</th>\n",
              "      <th>2/1/20</th>\n",
              "      <th>2/2/20</th>\n",
              "      <th>2/3/20</th>\n",
              "      <th>2/4/20</th>\n",
              "      <th>2/5/20</th>\n",
              "      <th>2/6/20</th>\n",
              "      <th>2/7/20</th>\n",
              "      <th>2/8/20</th>\n",
              "      <th>2/9/20</th>\n",
              "      <th>2/10/20</th>\n",
              "      <th>2/11/20</th>\n",
              "      <th>2/12/20</th>\n",
              "      <th>2/13/20</th>\n",
              "      <th>2/14/20</th>\n",
              "      <th>2/15/20</th>\n",
              "      <th>2/16/20</th>\n",
              "      <th>2/17/20</th>\n",
              "      <th>2/18/20</th>\n",
              "      <th>2/19/20</th>\n",
              "      <th>...</th>\n",
              "      <th>8/12/20</th>\n",
              "      <th>8/13/20</th>\n",
              "      <th>8/14/20</th>\n",
              "      <th>8/15/20</th>\n",
              "      <th>8/16/20</th>\n",
              "      <th>8/17/20</th>\n",
              "      <th>8/18/20</th>\n",
              "      <th>8/19/20</th>\n",
              "      <th>8/20/20</th>\n",
              "      <th>8/21/20</th>\n",
              "      <th>8/22/20</th>\n",
              "      <th>8/23/20</th>\n",
              "      <th>8/24/20</th>\n",
              "      <th>8/25/20</th>\n",
              "      <th>8/26/20</th>\n",
              "      <th>8/27/20</th>\n",
              "      <th>8/28/20</th>\n",
              "      <th>8/29/20</th>\n",
              "      <th>8/30/20</th>\n",
              "      <th>8/31/20</th>\n",
              "      <th>9/1/20</th>\n",
              "      <th>9/2/20</th>\n",
              "      <th>9/3/20</th>\n",
              "      <th>9/4/20</th>\n",
              "      <th>9/5/20</th>\n",
              "      <th>9/6/20</th>\n",
              "      <th>9/7/20</th>\n",
              "      <th>9/8/20</th>\n",
              "      <th>9/9/20</th>\n",
              "      <th>9/10/20</th>\n",
              "      <th>9/11/20</th>\n",
              "      <th>9/12/20</th>\n",
              "      <th>9/13/20</th>\n",
              "      <th>9/14/20</th>\n",
              "      <th>9/15/20</th>\n",
              "      <th>9/16/20</th>\n",
              "      <th>9/17/20</th>\n",
              "      <th>9/18/20</th>\n",
              "      <th>9/19/20</th>\n",
              "      <th>9/20/20</th>\n",
              "    </tr>\n",
              "  </thead>\n",
              "  <tbody>\n",
              "    <tr>\n",
              "      <th>Teton, Wyoming, US</th>\n",
              "      <td>84056039</td>\n",
              "      <td>US</td>\n",
              "      <td>USA</td>\n",
              "      <td>840</td>\n",
              "      <td>56039.0</td>\n",
              "      <td>Teton</td>\n",
              "      <td>Wyoming</td>\n",
              "      <td>US</td>\n",
              "      <td>43.935225</td>\n",
              "      <td>-110.589080</td>\n",
              "      <td>Teton, Wyoming, US</td>\n",
              "      <td>0</td>\n",
              "      <td>0</td>\n",
              "      <td>0</td>\n",
              "      <td>0</td>\n",
              "      <td>0</td>\n",
              "      <td>0</td>\n",
              "      <td>0</td>\n",
              "      <td>0</td>\n",
              "      <td>0</td>\n",
              "      <td>0</td>\n",
              "      <td>0</td>\n",
              "      <td>0</td>\n",
              "      <td>0</td>\n",
              "      <td>0</td>\n",
              "      <td>0</td>\n",
              "      <td>0</td>\n",
              "      <td>0</td>\n",
              "      <td>0</td>\n",
              "      <td>0</td>\n",
              "      <td>0</td>\n",
              "      <td>0</td>\n",
              "      <td>0</td>\n",
              "      <td>0</td>\n",
              "      <td>0</td>\n",
              "      <td>0</td>\n",
              "      <td>0</td>\n",
              "      <td>0</td>\n",
              "      <td>0</td>\n",
              "      <td>0</td>\n",
              "      <td>...</td>\n",
              "      <td>373</td>\n",
              "      <td>375</td>\n",
              "      <td>383</td>\n",
              "      <td>385</td>\n",
              "      <td>389</td>\n",
              "      <td>390</td>\n",
              "      <td>393</td>\n",
              "      <td>394</td>\n",
              "      <td>398</td>\n",
              "      <td>399</td>\n",
              "      <td>401</td>\n",
              "      <td>409</td>\n",
              "      <td>409</td>\n",
              "      <td>412</td>\n",
              "      <td>417</td>\n",
              "      <td>417</td>\n",
              "      <td>424</td>\n",
              "      <td>425</td>\n",
              "      <td>429</td>\n",
              "      <td>430</td>\n",
              "      <td>430</td>\n",
              "      <td>433</td>\n",
              "      <td>435</td>\n",
              "      <td>440</td>\n",
              "      <td>440</td>\n",
              "      <td>447</td>\n",
              "      <td>447</td>\n",
              "      <td>450</td>\n",
              "      <td>451</td>\n",
              "      <td>453</td>\n",
              "      <td>462</td>\n",
              "      <td>465</td>\n",
              "      <td>470</td>\n",
              "      <td>476</td>\n",
              "      <td>478</td>\n",
              "      <td>481</td>\n",
              "      <td>487</td>\n",
              "      <td>490</td>\n",
              "      <td>493</td>\n",
              "      <td>498</td>\n",
              "    </tr>\n",
              "    <tr>\n",
              "      <th>Uinta, Wyoming, US</th>\n",
              "      <td>84056041</td>\n",
              "      <td>US</td>\n",
              "      <td>USA</td>\n",
              "      <td>840</td>\n",
              "      <td>56041.0</td>\n",
              "      <td>Uinta</td>\n",
              "      <td>Wyoming</td>\n",
              "      <td>US</td>\n",
              "      <td>41.287818</td>\n",
              "      <td>-110.547578</td>\n",
              "      <td>Uinta, Wyoming, US</td>\n",
              "      <td>0</td>\n",
              "      <td>0</td>\n",
              "      <td>0</td>\n",
              "      <td>0</td>\n",
              "      <td>0</td>\n",
              "      <td>0</td>\n",
              "      <td>0</td>\n",
              "      <td>0</td>\n",
              "      <td>0</td>\n",
              "      <td>0</td>\n",
              "      <td>0</td>\n",
              "      <td>0</td>\n",
              "      <td>0</td>\n",
              "      <td>0</td>\n",
              "      <td>0</td>\n",
              "      <td>0</td>\n",
              "      <td>0</td>\n",
              "      <td>0</td>\n",
              "      <td>0</td>\n",
              "      <td>0</td>\n",
              "      <td>0</td>\n",
              "      <td>0</td>\n",
              "      <td>0</td>\n",
              "      <td>0</td>\n",
              "      <td>0</td>\n",
              "      <td>0</td>\n",
              "      <td>0</td>\n",
              "      <td>0</td>\n",
              "      <td>0</td>\n",
              "      <td>...</td>\n",
              "      <td>278</td>\n",
              "      <td>278</td>\n",
              "      <td>277</td>\n",
              "      <td>276</td>\n",
              "      <td>276</td>\n",
              "      <td>277</td>\n",
              "      <td>278</td>\n",
              "      <td>283</td>\n",
              "      <td>283</td>\n",
              "      <td>283</td>\n",
              "      <td>283</td>\n",
              "      <td>283</td>\n",
              "      <td>283</td>\n",
              "      <td>283</td>\n",
              "      <td>289</td>\n",
              "      <td>289</td>\n",
              "      <td>292</td>\n",
              "      <td>292</td>\n",
              "      <td>295</td>\n",
              "      <td>298</td>\n",
              "      <td>301</td>\n",
              "      <td>303</td>\n",
              "      <td>305</td>\n",
              "      <td>308</td>\n",
              "      <td>308</td>\n",
              "      <td>308</td>\n",
              "      <td>308</td>\n",
              "      <td>309</td>\n",
              "      <td>308</td>\n",
              "      <td>310</td>\n",
              "      <td>310</td>\n",
              "      <td>310</td>\n",
              "      <td>311</td>\n",
              "      <td>312</td>\n",
              "      <td>312</td>\n",
              "      <td>323</td>\n",
              "      <td>327</td>\n",
              "      <td>327</td>\n",
              "      <td>330</td>\n",
              "      <td>334</td>\n",
              "    </tr>\n",
              "    <tr>\n",
              "      <th>Unassigned, Wyoming, US</th>\n",
              "      <td>84090056</td>\n",
              "      <td>US</td>\n",
              "      <td>USA</td>\n",
              "      <td>840</td>\n",
              "      <td>90056.0</td>\n",
              "      <td>Unassigned</td>\n",
              "      <td>Wyoming</td>\n",
              "      <td>US</td>\n",
              "      <td>0.000000</td>\n",
              "      <td>0.000000</td>\n",
              "      <td>Unassigned, Wyoming, US</td>\n",
              "      <td>0</td>\n",
              "      <td>0</td>\n",
              "      <td>0</td>\n",
              "      <td>0</td>\n",
              "      <td>0</td>\n",
              "      <td>0</td>\n",
              "      <td>0</td>\n",
              "      <td>0</td>\n",
              "      <td>0</td>\n",
              "      <td>0</td>\n",
              "      <td>0</td>\n",
              "      <td>0</td>\n",
              "      <td>0</td>\n",
              "      <td>0</td>\n",
              "      <td>0</td>\n",
              "      <td>0</td>\n",
              "      <td>0</td>\n",
              "      <td>0</td>\n",
              "      <td>0</td>\n",
              "      <td>0</td>\n",
              "      <td>0</td>\n",
              "      <td>0</td>\n",
              "      <td>0</td>\n",
              "      <td>0</td>\n",
              "      <td>0</td>\n",
              "      <td>0</td>\n",
              "      <td>0</td>\n",
              "      <td>0</td>\n",
              "      <td>0</td>\n",
              "      <td>...</td>\n",
              "      <td>0</td>\n",
              "      <td>0</td>\n",
              "      <td>0</td>\n",
              "      <td>0</td>\n",
              "      <td>0</td>\n",
              "      <td>0</td>\n",
              "      <td>0</td>\n",
              "      <td>0</td>\n",
              "      <td>0</td>\n",
              "      <td>0</td>\n",
              "      <td>0</td>\n",
              "      <td>0</td>\n",
              "      <td>0</td>\n",
              "      <td>0</td>\n",
              "      <td>0</td>\n",
              "      <td>53</td>\n",
              "      <td>53</td>\n",
              "      <td>73</td>\n",
              "      <td>73</td>\n",
              "      <td>73</td>\n",
              "      <td>73</td>\n",
              "      <td>0</td>\n",
              "      <td>0</td>\n",
              "      <td>0</td>\n",
              "      <td>0</td>\n",
              "      <td>0</td>\n",
              "      <td>0</td>\n",
              "      <td>0</td>\n",
              "      <td>0</td>\n",
              "      <td>0</td>\n",
              "      <td>0</td>\n",
              "      <td>0</td>\n",
              "      <td>2</td>\n",
              "      <td>2</td>\n",
              "      <td>2</td>\n",
              "      <td>0</td>\n",
              "      <td>0</td>\n",
              "      <td>1</td>\n",
              "      <td>1</td>\n",
              "      <td>1</td>\n",
              "    </tr>\n",
              "    <tr>\n",
              "      <th>Washakie, Wyoming, US</th>\n",
              "      <td>84056043</td>\n",
              "      <td>US</td>\n",
              "      <td>USA</td>\n",
              "      <td>840</td>\n",
              "      <td>56043.0</td>\n",
              "      <td>Washakie</td>\n",
              "      <td>Wyoming</td>\n",
              "      <td>US</td>\n",
              "      <td>43.904516</td>\n",
              "      <td>-107.680187</td>\n",
              "      <td>Washakie, Wyoming, US</td>\n",
              "      <td>0</td>\n",
              "      <td>0</td>\n",
              "      <td>0</td>\n",
              "      <td>0</td>\n",
              "      <td>0</td>\n",
              "      <td>0</td>\n",
              "      <td>0</td>\n",
              "      <td>0</td>\n",
              "      <td>0</td>\n",
              "      <td>0</td>\n",
              "      <td>0</td>\n",
              "      <td>0</td>\n",
              "      <td>0</td>\n",
              "      <td>0</td>\n",
              "      <td>0</td>\n",
              "      <td>0</td>\n",
              "      <td>0</td>\n",
              "      <td>0</td>\n",
              "      <td>0</td>\n",
              "      <td>0</td>\n",
              "      <td>0</td>\n",
              "      <td>0</td>\n",
              "      <td>0</td>\n",
              "      <td>0</td>\n",
              "      <td>0</td>\n",
              "      <td>0</td>\n",
              "      <td>0</td>\n",
              "      <td>0</td>\n",
              "      <td>0</td>\n",
              "      <td>...</td>\n",
              "      <td>82</td>\n",
              "      <td>86</td>\n",
              "      <td>96</td>\n",
              "      <td>97</td>\n",
              "      <td>97</td>\n",
              "      <td>100</td>\n",
              "      <td>102</td>\n",
              "      <td>104</td>\n",
              "      <td>106</td>\n",
              "      <td>106</td>\n",
              "      <td>107</td>\n",
              "      <td>108</td>\n",
              "      <td>108</td>\n",
              "      <td>108</td>\n",
              "      <td>108</td>\n",
              "      <td>108</td>\n",
              "      <td>108</td>\n",
              "      <td>108</td>\n",
              "      <td>108</td>\n",
              "      <td>108</td>\n",
              "      <td>108</td>\n",
              "      <td>109</td>\n",
              "      <td>109</td>\n",
              "      <td>110</td>\n",
              "      <td>110</td>\n",
              "      <td>111</td>\n",
              "      <td>111</td>\n",
              "      <td>111</td>\n",
              "      <td>111</td>\n",
              "      <td>111</td>\n",
              "      <td>111</td>\n",
              "      <td>111</td>\n",
              "      <td>111</td>\n",
              "      <td>111</td>\n",
              "      <td>111</td>\n",
              "      <td>111</td>\n",
              "      <td>112</td>\n",
              "      <td>113</td>\n",
              "      <td>113</td>\n",
              "      <td>113</td>\n",
              "    </tr>\n",
              "    <tr>\n",
              "      <th>Weston, Wyoming, US</th>\n",
              "      <td>84056045</td>\n",
              "      <td>US</td>\n",
              "      <td>USA</td>\n",
              "      <td>840</td>\n",
              "      <td>56045.0</td>\n",
              "      <td>Weston</td>\n",
              "      <td>Wyoming</td>\n",
              "      <td>US</td>\n",
              "      <td>43.839612</td>\n",
              "      <td>-104.567488</td>\n",
              "      <td>Weston, Wyoming, US</td>\n",
              "      <td>0</td>\n",
              "      <td>0</td>\n",
              "      <td>0</td>\n",
              "      <td>0</td>\n",
              "      <td>0</td>\n",
              "      <td>0</td>\n",
              "      <td>0</td>\n",
              "      <td>0</td>\n",
              "      <td>0</td>\n",
              "      <td>0</td>\n",
              "      <td>0</td>\n",
              "      <td>0</td>\n",
              "      <td>0</td>\n",
              "      <td>0</td>\n",
              "      <td>0</td>\n",
              "      <td>0</td>\n",
              "      <td>0</td>\n",
              "      <td>0</td>\n",
              "      <td>0</td>\n",
              "      <td>0</td>\n",
              "      <td>0</td>\n",
              "      <td>0</td>\n",
              "      <td>0</td>\n",
              "      <td>0</td>\n",
              "      <td>0</td>\n",
              "      <td>0</td>\n",
              "      <td>0</td>\n",
              "      <td>0</td>\n",
              "      <td>0</td>\n",
              "      <td>...</td>\n",
              "      <td>5</td>\n",
              "      <td>5</td>\n",
              "      <td>5</td>\n",
              "      <td>7</td>\n",
              "      <td>7</td>\n",
              "      <td>8</td>\n",
              "      <td>8</td>\n",
              "      <td>12</td>\n",
              "      <td>0</td>\n",
              "      <td>11</td>\n",
              "      <td>11</td>\n",
              "      <td>11</td>\n",
              "      <td>11</td>\n",
              "      <td>11</td>\n",
              "      <td>11</td>\n",
              "      <td>11</td>\n",
              "      <td>11</td>\n",
              "      <td>11</td>\n",
              "      <td>11</td>\n",
              "      <td>11</td>\n",
              "      <td>11</td>\n",
              "      <td>19</td>\n",
              "      <td>20</td>\n",
              "      <td>20</td>\n",
              "      <td>20</td>\n",
              "      <td>20</td>\n",
              "      <td>20</td>\n",
              "      <td>20</td>\n",
              "      <td>21</td>\n",
              "      <td>21</td>\n",
              "      <td>21</td>\n",
              "      <td>23</td>\n",
              "      <td>23</td>\n",
              "      <td>23</td>\n",
              "      <td>23</td>\n",
              "      <td>23</td>\n",
              "      <td>23</td>\n",
              "      <td>23</td>\n",
              "      <td>23</td>\n",
              "      <td>23</td>\n",
              "    </tr>\n",
              "  </tbody>\n",
              "</table>\n",
              "<p>5 rows × 254 columns</p>\n",
              "</div>"
            ],
            "text/plain": [
              "                              UID iso2 iso3  ...  9/18/20  9/19/20 9/20/20\n",
              "Teton, Wyoming, US       84056039   US  USA  ...      490      493     498\n",
              "Uinta, Wyoming, US       84056041   US  USA  ...      327      330     334\n",
              "Unassigned, Wyoming, US  84090056   US  USA  ...        1        1       1\n",
              "Washakie, Wyoming, US    84056043   US  USA  ...      113      113     113\n",
              "Weston, Wyoming, US      84056045   US  USA  ...       23       23      23\n",
              "\n",
              "[5 rows x 254 columns]"
            ]
          },
          "metadata": {
            "tags": []
          },
          "execution_count": 27
        }
      ]
    },
    {
      "cell_type": "markdown",
      "metadata": {
        "id": "HzlQWkxOMRfJ",
        "colab_type": "text"
      },
      "source": [
        "## Note. It turns out that there are unassigned cases in some states, such as Wyoming. Thse unassigned cases become zero when they are settled. "
      ]
    },
    {
      "cell_type": "code",
      "metadata": {
        "id": "5Scior8axijk",
        "colab_type": "code",
        "colab": {
          "base_uri": "https://localhost:8080/",
          "height": 282
        },
        "outputId": "a7eaff26-70db-45f5-96db-9ec79255ac37"
      },
      "source": [
        "df1.loc['Unassigned, Wyoming, US', ][11:].plot()"
      ],
      "execution_count": 28,
      "outputs": [
        {
          "output_type": "execute_result",
          "data": {
            "text/plain": [
              "<matplotlib.axes._subplots.AxesSubplot at 0x7f72e2366470>"
            ]
          },
          "metadata": {
            "tags": []
          },
          "execution_count": 28
        },
        {
          "output_type": "display_data",
          "data": {
            "image/png": "[encoded data removed]",
            "text/plain": [
              "<Figure size 432x288 with 1 Axes>"
            ]
          },
          "metadata": {
            "tags": [],
            "needs_background": "light"
          }
        }
      ]
    },
    {
      "cell_type": "code",
      "metadata": {
        "id": "li617mmLyD2U",
        "colab_type": "code",
        "colab": {
          "base_uri": "https://localhost:8080/",
          "height": 378
        },
        "outputId": "978b344e-b866-415e-fd10-d3d993cedaf0"
      },
      "source": [
        "df1.loc[ df1.index.str.contains('Unassigned'), ].shape\n",
        "df1.loc[ df1.index.str.contains('Unassigned'), ].head()"
      ],
      "execution_count": 29,
      "outputs": [
        {
          "output_type": "execute_result",
          "data": {
            "text/html": [
              "<div>\n",
              "<style scoped>\n",
              "    .dataframe tbody tr th:only-of-type {\n",
              "        vertical-align: middle;\n",
              "    }\n",
              "\n",
              "    .dataframe tbody tr th {\n",
              "        vertical-align: top;\n",
              "    }\n",
              "\n",
              "    .dataframe thead th {\n",
              "        text-align: right;\n",
              "    }\n",
              "</style>\n",
              "<table border=\"1\" class=\"dataframe\">\n",
              "  <thead>\n",
              "    <tr style=\"text-align: right;\">\n",
              "      <th></th>\n",
              "      <th>UID</th>\n",
              "      <th>iso2</th>\n",
              "      <th>iso3</th>\n",
              "      <th>code3</th>\n",
              "      <th>FIPS</th>\n",
              "      <th>Admin2</th>\n",
              "      <th>Province_State</th>\n",
              "      <th>Country_Region</th>\n",
              "      <th>Lat</th>\n",
              "      <th>Long_</th>\n",
              "      <th>Combined_Key</th>\n",
              "      <th>1/22/20</th>\n",
              "      <th>1/23/20</th>\n",
              "      <th>1/24/20</th>\n",
              "      <th>1/25/20</th>\n",
              "      <th>1/26/20</th>\n",
              "      <th>1/27/20</th>\n",
              "      <th>1/28/20</th>\n",
              "      <th>1/29/20</th>\n",
              "      <th>1/30/20</th>\n",
              "      <th>1/31/20</th>\n",
              "      <th>2/1/20</th>\n",
              "      <th>2/2/20</th>\n",
              "      <th>2/3/20</th>\n",
              "      <th>2/4/20</th>\n",
              "      <th>2/5/20</th>\n",
              "      <th>2/6/20</th>\n",
              "      <th>2/7/20</th>\n",
              "      <th>2/8/20</th>\n",
              "      <th>2/9/20</th>\n",
              "      <th>2/10/20</th>\n",
              "      <th>2/11/20</th>\n",
              "      <th>2/12/20</th>\n",
              "      <th>2/13/20</th>\n",
              "      <th>2/14/20</th>\n",
              "      <th>2/15/20</th>\n",
              "      <th>2/16/20</th>\n",
              "      <th>2/17/20</th>\n",
              "      <th>2/18/20</th>\n",
              "      <th>2/19/20</th>\n",
              "      <th>...</th>\n",
              "      <th>8/12/20</th>\n",
              "      <th>8/13/20</th>\n",
              "      <th>8/14/20</th>\n",
              "      <th>8/15/20</th>\n",
              "      <th>8/16/20</th>\n",
              "      <th>8/17/20</th>\n",
              "      <th>8/18/20</th>\n",
              "      <th>8/19/20</th>\n",
              "      <th>8/20/20</th>\n",
              "      <th>8/21/20</th>\n",
              "      <th>8/22/20</th>\n",
              "      <th>8/23/20</th>\n",
              "      <th>8/24/20</th>\n",
              "      <th>8/25/20</th>\n",
              "      <th>8/26/20</th>\n",
              "      <th>8/27/20</th>\n",
              "      <th>8/28/20</th>\n",
              "      <th>8/29/20</th>\n",
              "      <th>8/30/20</th>\n",
              "      <th>8/31/20</th>\n",
              "      <th>9/1/20</th>\n",
              "      <th>9/2/20</th>\n",
              "      <th>9/3/20</th>\n",
              "      <th>9/4/20</th>\n",
              "      <th>9/5/20</th>\n",
              "      <th>9/6/20</th>\n",
              "      <th>9/7/20</th>\n",
              "      <th>9/8/20</th>\n",
              "      <th>9/9/20</th>\n",
              "      <th>9/10/20</th>\n",
              "      <th>9/11/20</th>\n",
              "      <th>9/12/20</th>\n",
              "      <th>9/13/20</th>\n",
              "      <th>9/14/20</th>\n",
              "      <th>9/15/20</th>\n",
              "      <th>9/16/20</th>\n",
              "      <th>9/17/20</th>\n",
              "      <th>9/18/20</th>\n",
              "      <th>9/19/20</th>\n",
              "      <th>9/20/20</th>\n",
              "    </tr>\n",
              "  </thead>\n",
              "  <tbody>\n",
              "    <tr>\n",
              "      <th>Unassigned, Alabama, US</th>\n",
              "      <td>84090001</td>\n",
              "      <td>US</td>\n",
              "      <td>USA</td>\n",
              "      <td>840</td>\n",
              "      <td>90001.0</td>\n",
              "      <td>Unassigned</td>\n",
              "      <td>Alabama</td>\n",
              "      <td>US</td>\n",
              "      <td>0.0</td>\n",
              "      <td>0.0</td>\n",
              "      <td>Unassigned, Alabama, US</td>\n",
              "      <td>0</td>\n",
              "      <td>0</td>\n",
              "      <td>0</td>\n",
              "      <td>0</td>\n",
              "      <td>0</td>\n",
              "      <td>0</td>\n",
              "      <td>0</td>\n",
              "      <td>0</td>\n",
              "      <td>0</td>\n",
              "      <td>0</td>\n",
              "      <td>0</td>\n",
              "      <td>0</td>\n",
              "      <td>0</td>\n",
              "      <td>0</td>\n",
              "      <td>0</td>\n",
              "      <td>0</td>\n",
              "      <td>0</td>\n",
              "      <td>0</td>\n",
              "      <td>0</td>\n",
              "      <td>0</td>\n",
              "      <td>0</td>\n",
              "      <td>0</td>\n",
              "      <td>0</td>\n",
              "      <td>0</td>\n",
              "      <td>0</td>\n",
              "      <td>0</td>\n",
              "      <td>0</td>\n",
              "      <td>0</td>\n",
              "      <td>0</td>\n",
              "      <td>...</td>\n",
              "      <td>3985</td>\n",
              "      <td>4061</td>\n",
              "      <td>4113</td>\n",
              "      <td>4223</td>\n",
              "      <td>4354</td>\n",
              "      <td>4409</td>\n",
              "      <td>4546</td>\n",
              "      <td>4694</td>\n",
              "      <td>4966</td>\n",
              "      <td>4966</td>\n",
              "      <td>4966</td>\n",
              "      <td>4966</td>\n",
              "      <td>5941</td>\n",
              "      <td>6288</td>\n",
              "      <td>7128</td>\n",
              "      <td>8229</td>\n",
              "      <td>8462</td>\n",
              "      <td>8605</td>\n",
              "      <td>8779</td>\n",
              "      <td>8906</td>\n",
              "      <td>9482</td>\n",
              "      <td>10019</td>\n",
              "      <td>10684</td>\n",
              "      <td>11104</td>\n",
              "      <td>11476</td>\n",
              "      <td>11499</td>\n",
              "      <td>11499</td>\n",
              "      <td>11727</td>\n",
              "      <td>11837</td>\n",
              "      <td>12298</td>\n",
              "      <td>12606</td>\n",
              "      <td>12823</td>\n",
              "      <td>12960</td>\n",
              "      <td>13160</td>\n",
              "      <td>13347</td>\n",
              "      <td>0</td>\n",
              "      <td>0</td>\n",
              "      <td>0</td>\n",
              "      <td>0</td>\n",
              "      <td>0</td>\n",
              "    </tr>\n",
              "    <tr>\n",
              "      <th>Unassigned, Alaska, US</th>\n",
              "      <td>84090002</td>\n",
              "      <td>US</td>\n",
              "      <td>USA</td>\n",
              "      <td>840</td>\n",
              "      <td>90002.0</td>\n",
              "      <td>Unassigned</td>\n",
              "      <td>Alaska</td>\n",
              "      <td>US</td>\n",
              "      <td>0.0</td>\n",
              "      <td>0.0</td>\n",
              "      <td>Unassigned, Alaska, US</td>\n",
              "      <td>0</td>\n",
              "      <td>0</td>\n",
              "      <td>0</td>\n",
              "      <td>0</td>\n",
              "      <td>0</td>\n",
              "      <td>0</td>\n",
              "      <td>0</td>\n",
              "      <td>0</td>\n",
              "      <td>0</td>\n",
              "      <td>0</td>\n",
              "      <td>0</td>\n",
              "      <td>0</td>\n",
              "      <td>0</td>\n",
              "      <td>0</td>\n",
              "      <td>0</td>\n",
              "      <td>0</td>\n",
              "      <td>0</td>\n",
              "      <td>0</td>\n",
              "      <td>0</td>\n",
              "      <td>0</td>\n",
              "      <td>0</td>\n",
              "      <td>0</td>\n",
              "      <td>0</td>\n",
              "      <td>0</td>\n",
              "      <td>0</td>\n",
              "      <td>0</td>\n",
              "      <td>0</td>\n",
              "      <td>0</td>\n",
              "      <td>0</td>\n",
              "      <td>...</td>\n",
              "      <td>0</td>\n",
              "      <td>2</td>\n",
              "      <td>2</td>\n",
              "      <td>1</td>\n",
              "      <td>1</td>\n",
              "      <td>1</td>\n",
              "      <td>1</td>\n",
              "      <td>1</td>\n",
              "      <td>1</td>\n",
              "      <td>1</td>\n",
              "      <td>1</td>\n",
              "      <td>1</td>\n",
              "      <td>2</td>\n",
              "      <td>2</td>\n",
              "      <td>2</td>\n",
              "      <td>3</td>\n",
              "      <td>4</td>\n",
              "      <td>2</td>\n",
              "      <td>1</td>\n",
              "      <td>1</td>\n",
              "      <td>2</td>\n",
              "      <td>1</td>\n",
              "      <td>1</td>\n",
              "      <td>1</td>\n",
              "      <td>1</td>\n",
              "      <td>1</td>\n",
              "      <td>1</td>\n",
              "      <td>1</td>\n",
              "      <td>1</td>\n",
              "      <td>1</td>\n",
              "      <td>1</td>\n",
              "      <td>1</td>\n",
              "      <td>1</td>\n",
              "      <td>2</td>\n",
              "      <td>2</td>\n",
              "      <td>1</td>\n",
              "      <td>1</td>\n",
              "      <td>1</td>\n",
              "      <td>1</td>\n",
              "      <td>1</td>\n",
              "    </tr>\n",
              "    <tr>\n",
              "      <th>Unassigned, Arizona, US</th>\n",
              "      <td>84090004</td>\n",
              "      <td>US</td>\n",
              "      <td>USA</td>\n",
              "      <td>840</td>\n",
              "      <td>90004.0</td>\n",
              "      <td>Unassigned</td>\n",
              "      <td>Arizona</td>\n",
              "      <td>US</td>\n",
              "      <td>0.0</td>\n",
              "      <td>0.0</td>\n",
              "      <td>Unassigned, Arizona, US</td>\n",
              "      <td>0</td>\n",
              "      <td>0</td>\n",
              "      <td>0</td>\n",
              "      <td>0</td>\n",
              "      <td>0</td>\n",
              "      <td>0</td>\n",
              "      <td>0</td>\n",
              "      <td>0</td>\n",
              "      <td>0</td>\n",
              "      <td>0</td>\n",
              "      <td>0</td>\n",
              "      <td>0</td>\n",
              "      <td>0</td>\n",
              "      <td>0</td>\n",
              "      <td>0</td>\n",
              "      <td>0</td>\n",
              "      <td>0</td>\n",
              "      <td>0</td>\n",
              "      <td>0</td>\n",
              "      <td>0</td>\n",
              "      <td>0</td>\n",
              "      <td>0</td>\n",
              "      <td>0</td>\n",
              "      <td>0</td>\n",
              "      <td>0</td>\n",
              "      <td>0</td>\n",
              "      <td>0</td>\n",
              "      <td>0</td>\n",
              "      <td>0</td>\n",
              "      <td>...</td>\n",
              "      <td>1</td>\n",
              "      <td>1</td>\n",
              "      <td>0</td>\n",
              "      <td>0</td>\n",
              "      <td>0</td>\n",
              "      <td>0</td>\n",
              "      <td>0</td>\n",
              "      <td>0</td>\n",
              "      <td>0</td>\n",
              "      <td>0</td>\n",
              "      <td>0</td>\n",
              "      <td>1</td>\n",
              "      <td>1</td>\n",
              "      <td>1</td>\n",
              "      <td>0</td>\n",
              "      <td>0</td>\n",
              "      <td>0</td>\n",
              "      <td>0</td>\n",
              "      <td>0</td>\n",
              "      <td>0</td>\n",
              "      <td>0</td>\n",
              "      <td>0</td>\n",
              "      <td>1</td>\n",
              "      <td>1</td>\n",
              "      <td>1</td>\n",
              "      <td>1</td>\n",
              "      <td>0</td>\n",
              "      <td>0</td>\n",
              "      <td>0</td>\n",
              "      <td>0</td>\n",
              "      <td>0</td>\n",
              "      <td>0</td>\n",
              "      <td>0</td>\n",
              "      <td>0</td>\n",
              "      <td>0</td>\n",
              "      <td>3</td>\n",
              "      <td>3</td>\n",
              "      <td>4</td>\n",
              "      <td>3</td>\n",
              "      <td>4</td>\n",
              "    </tr>\n",
              "    <tr>\n",
              "      <th>Unassigned, Arkansas, US</th>\n",
              "      <td>84090005</td>\n",
              "      <td>US</td>\n",
              "      <td>USA</td>\n",
              "      <td>840</td>\n",
              "      <td>90005.0</td>\n",
              "      <td>Unassigned</td>\n",
              "      <td>Arkansas</td>\n",
              "      <td>US</td>\n",
              "      <td>0.0</td>\n",
              "      <td>0.0</td>\n",
              "      <td>Unassigned, Arkansas, US</td>\n",
              "      <td>0</td>\n",
              "      <td>0</td>\n",
              "      <td>0</td>\n",
              "      <td>0</td>\n",
              "      <td>0</td>\n",
              "      <td>0</td>\n",
              "      <td>0</td>\n",
              "      <td>0</td>\n",
              "      <td>0</td>\n",
              "      <td>0</td>\n",
              "      <td>0</td>\n",
              "      <td>0</td>\n",
              "      <td>0</td>\n",
              "      <td>0</td>\n",
              "      <td>0</td>\n",
              "      <td>0</td>\n",
              "      <td>0</td>\n",
              "      <td>0</td>\n",
              "      <td>0</td>\n",
              "      <td>0</td>\n",
              "      <td>0</td>\n",
              "      <td>0</td>\n",
              "      <td>0</td>\n",
              "      <td>0</td>\n",
              "      <td>0</td>\n",
              "      <td>0</td>\n",
              "      <td>0</td>\n",
              "      <td>0</td>\n",
              "      <td>0</td>\n",
              "      <td>...</td>\n",
              "      <td>1801</td>\n",
              "      <td>1816</td>\n",
              "      <td>1835</td>\n",
              "      <td>742</td>\n",
              "      <td>755</td>\n",
              "      <td>774</td>\n",
              "      <td>785</td>\n",
              "      <td>786</td>\n",
              "      <td>774</td>\n",
              "      <td>805</td>\n",
              "      <td>813</td>\n",
              "      <td>810</td>\n",
              "      <td>826</td>\n",
              "      <td>820</td>\n",
              "      <td>794</td>\n",
              "      <td>806</td>\n",
              "      <td>815</td>\n",
              "      <td>901</td>\n",
              "      <td>904</td>\n",
              "      <td>904</td>\n",
              "      <td>897</td>\n",
              "      <td>956</td>\n",
              "      <td>1029</td>\n",
              "      <td>1230</td>\n",
              "      <td>1214</td>\n",
              "      <td>1227</td>\n",
              "      <td>1227</td>\n",
              "      <td>1209</td>\n",
              "      <td>1157</td>\n",
              "      <td>1117</td>\n",
              "      <td>1287</td>\n",
              "      <td>1544</td>\n",
              "      <td>1641</td>\n",
              "      <td>1628</td>\n",
              "      <td>1595</td>\n",
              "      <td>1458</td>\n",
              "      <td>1535</td>\n",
              "      <td>1621</td>\n",
              "      <td>1649</td>\n",
              "      <td>1691</td>\n",
              "    </tr>\n",
              "    <tr>\n",
              "      <th>Unassigned, California, US</th>\n",
              "      <td>84090006</td>\n",
              "      <td>US</td>\n",
              "      <td>USA</td>\n",
              "      <td>840</td>\n",
              "      <td>90006.0</td>\n",
              "      <td>Unassigned</td>\n",
              "      <td>California</td>\n",
              "      <td>US</td>\n",
              "      <td>0.0</td>\n",
              "      <td>0.0</td>\n",
              "      <td>Unassigned, California, US</td>\n",
              "      <td>0</td>\n",
              "      <td>0</td>\n",
              "      <td>0</td>\n",
              "      <td>0</td>\n",
              "      <td>0</td>\n",
              "      <td>0</td>\n",
              "      <td>0</td>\n",
              "      <td>0</td>\n",
              "      <td>0</td>\n",
              "      <td>0</td>\n",
              "      <td>0</td>\n",
              "      <td>0</td>\n",
              "      <td>0</td>\n",
              "      <td>0</td>\n",
              "      <td>0</td>\n",
              "      <td>0</td>\n",
              "      <td>0</td>\n",
              "      <td>0</td>\n",
              "      <td>0</td>\n",
              "      <td>0</td>\n",
              "      <td>0</td>\n",
              "      <td>0</td>\n",
              "      <td>0</td>\n",
              "      <td>0</td>\n",
              "      <td>0</td>\n",
              "      <td>0</td>\n",
              "      <td>0</td>\n",
              "      <td>0</td>\n",
              "      <td>0</td>\n",
              "      <td>...</td>\n",
              "      <td>0</td>\n",
              "      <td>0</td>\n",
              "      <td>0</td>\n",
              "      <td>0</td>\n",
              "      <td>0</td>\n",
              "      <td>0</td>\n",
              "      <td>0</td>\n",
              "      <td>0</td>\n",
              "      <td>0</td>\n",
              "      <td>0</td>\n",
              "      <td>0</td>\n",
              "      <td>0</td>\n",
              "      <td>0</td>\n",
              "      <td>0</td>\n",
              "      <td>0</td>\n",
              "      <td>0</td>\n",
              "      <td>0</td>\n",
              "      <td>0</td>\n",
              "      <td>0</td>\n",
              "      <td>0</td>\n",
              "      <td>0</td>\n",
              "      <td>0</td>\n",
              "      <td>0</td>\n",
              "      <td>0</td>\n",
              "      <td>0</td>\n",
              "      <td>0</td>\n",
              "      <td>0</td>\n",
              "      <td>0</td>\n",
              "      <td>0</td>\n",
              "      <td>0</td>\n",
              "      <td>0</td>\n",
              "      <td>0</td>\n",
              "      <td>0</td>\n",
              "      <td>0</td>\n",
              "      <td>0</td>\n",
              "      <td>0</td>\n",
              "      <td>0</td>\n",
              "      <td>0</td>\n",
              "      <td>0</td>\n",
              "      <td>0</td>\n",
              "    </tr>\n",
              "  </tbody>\n",
              "</table>\n",
              "<p>5 rows × 254 columns</p>\n",
              "</div>"
            ],
            "text/plain": [
              "                                 UID iso2 iso3  ...  9/18/20  9/19/20 9/20/20\n",
              "Unassigned, Alabama, US     84090001   US  USA  ...        0        0       0\n",
              "Unassigned, Alaska, US      84090002   US  USA  ...        1        1       1\n",
              "Unassigned, Arizona, US     84090004   US  USA  ...        4        3       4\n",
              "Unassigned, Arkansas, US    84090005   US  USA  ...     1621     1649    1691\n",
              "Unassigned, California, US  84090006   US  USA  ...        0        0       0\n",
              "\n",
              "[5 rows x 254 columns]"
            ]
          },
          "metadata": {
            "tags": []
          },
          "execution_count": 29
        }
      ]
    },
    {
      "cell_type": "code",
      "metadata": {
        "id": "44mFWoZtyXqs",
        "colab_type": "code",
        "colab": {}
      },
      "source": [
        "# df1.loc[df1.index.str.contains('Unassigned'), ].plot() #No, this is not working properly"
      ],
      "execution_count": 30,
      "outputs": []
    },
    {
      "cell_type": "code",
      "metadata": {
        "id": "zRpyFP0nxjCn",
        "colab_type": "code",
        "colab": {}
      },
      "source": [
        "# df1.loc[df1.index.str.contains(\"Unsassigned\"),11:].plot() #error "
      ],
      "execution_count": 31,
      "outputs": []
    },
    {
      "cell_type": "code",
      "metadata": {
        "id": "5jxwo4aczHpz",
        "colab_type": "code",
        "colab": {}
      },
      "source": [
        "# df1.loc[df1.index.str.contains(\"Unassigned\")][11:].plot() #wrong plot"
      ],
      "execution_count": 32,
      "outputs": []
    },
    {
      "cell_type": "code",
      "metadata": {
        "id": "5jWPBCVb2JRL",
        "colab_type": "code",
        "colab": {
          "base_uri": "https://localhost:8080/",
          "height": 371
        },
        "outputId": "ecf9c160-04d1-4b4b-bb74-b3745ba500ea"
      },
      "source": [
        "df1.loc[df1.index.str.contains('Unassigned'), :][:,11:]"
      ],
      "execution_count": 33,
      "outputs": [
        {
          "output_type": "error",
          "ename": "TypeError",
          "evalue": "ignored",
          "traceback": [
            "\u001b[0;31m---------------------------------------------------------------------------\u001b[0m",
            "\u001b[0;31mTypeError\u001b[0m                                 Traceback (most recent call last)",
            "\u001b[0;32m<ipython-input-33-b48a335a8d5a>\u001b[0m in \u001b[0;36m<module>\u001b[0;34m()\u001b[0m\n\u001b[0;32m----> 1\u001b[0;31m \u001b[0mdf1\u001b[0m\u001b[0;34m.\u001b[0m\u001b[0mloc\u001b[0m\u001b[0;34m[\u001b[0m\u001b[0mdf1\u001b[0m\u001b[0;34m.\u001b[0m\u001b[0mindex\u001b[0m\u001b[0;34m.\u001b[0m\u001b[0mstr\u001b[0m\u001b[0;34m.\u001b[0m\u001b[0mcontains\u001b[0m\u001b[0;34m(\u001b[0m\u001b[0;34m'Unassigned'\u001b[0m\u001b[0;34m)\u001b[0m\u001b[0;34m,\u001b[0m \u001b[0;34m:\u001b[0m\u001b[0;34m]\u001b[0m\u001b[0;34m[\u001b[0m\u001b[0;34m:\u001b[0m\u001b[0;34m,\u001b[0m\u001b[0;36m11\u001b[0m\u001b[0;34m:\u001b[0m\u001b[0;34m]\u001b[0m\u001b[0;34m\u001b[0m\u001b[0;34m\u001b[0m\u001b[0m\n\u001b[0m",
            "\u001b[0;32m/usr/local/lib/python3.6/dist-packages/pandas/core/frame.py\u001b[0m in \u001b[0;36m__getitem__\u001b[0;34m(self, key)\u001b[0m\n\u001b[1;32m   2798\u001b[0m             \u001b[0;32mif\u001b[0m \u001b[0mself\u001b[0m\u001b[0;34m.\u001b[0m\u001b[0mcolumns\u001b[0m\u001b[0;34m.\u001b[0m\u001b[0mnlevels\u001b[0m \u001b[0;34m>\u001b[0m \u001b[0;36m1\u001b[0m\u001b[0;34m:\u001b[0m\u001b[0;34m\u001b[0m\u001b[0;34m\u001b[0m\u001b[0m\n\u001b[1;32m   2799\u001b[0m                 \u001b[0;32mreturn\u001b[0m \u001b[0mself\u001b[0m\u001b[0;34m.\u001b[0m\u001b[0m_getitem_multilevel\u001b[0m\u001b[0;34m(\u001b[0m\u001b[0mkey\u001b[0m\u001b[0;34m)\u001b[0m\u001b[0;34m\u001b[0m\u001b[0;34m\u001b[0m\u001b[0m\n\u001b[0;32m-> 2800\u001b[0;31m             \u001b[0mindexer\u001b[0m \u001b[0;34m=\u001b[0m \u001b[0mself\u001b[0m\u001b[0;34m.\u001b[0m\u001b[0mcolumns\u001b[0m\u001b[0;34m.\u001b[0m\u001b[0mget_loc\u001b[0m\u001b[0;34m(\u001b[0m\u001b[0mkey\u001b[0m\u001b[0;34m)\u001b[0m\u001b[0;34m\u001b[0m\u001b[0;34m\u001b[0m\u001b[0m\n\u001b[0m\u001b[1;32m   2801\u001b[0m             \u001b[0;32mif\u001b[0m \u001b[0mis_integer\u001b[0m\u001b[0;34m(\u001b[0m\u001b[0mindexer\u001b[0m\u001b[0;34m)\u001b[0m\u001b[0;34m:\u001b[0m\u001b[0;34m\u001b[0m\u001b[0;34m\u001b[0m\u001b[0m\n\u001b[1;32m   2802\u001b[0m                 \u001b[0mindexer\u001b[0m \u001b[0;34m=\u001b[0m \u001b[0;34m[\u001b[0m\u001b[0mindexer\u001b[0m\u001b[0;34m]\u001b[0m\u001b[0;34m\u001b[0m\u001b[0;34m\u001b[0m\u001b[0m\n",
            "\u001b[0;32m/usr/local/lib/python3.6/dist-packages/pandas/core/indexes/base.py\u001b[0m in \u001b[0;36mget_loc\u001b[0;34m(self, key, method, tolerance)\u001b[0m\n\u001b[1;32m   2644\u001b[0m                 )\n\u001b[1;32m   2645\u001b[0m             \u001b[0;32mtry\u001b[0m\u001b[0;34m:\u001b[0m\u001b[0;34m\u001b[0m\u001b[0;34m\u001b[0m\u001b[0m\n\u001b[0;32m-> 2646\u001b[0;31m                 \u001b[0;32mreturn\u001b[0m \u001b[0mself\u001b[0m\u001b[0;34m.\u001b[0m\u001b[0m_engine\u001b[0m\u001b[0;34m.\u001b[0m\u001b[0mget_loc\u001b[0m\u001b[0;34m(\u001b[0m\u001b[0mkey\u001b[0m\u001b[0;34m)\u001b[0m\u001b[0;34m\u001b[0m\u001b[0;34m\u001b[0m\u001b[0m\n\u001b[0m\u001b[1;32m   2647\u001b[0m             \u001b[0;32mexcept\u001b[0m \u001b[0mKeyError\u001b[0m\u001b[0;34m:\u001b[0m\u001b[0;34m\u001b[0m\u001b[0;34m\u001b[0m\u001b[0m\n\u001b[1;32m   2648\u001b[0m                 \u001b[0;32mreturn\u001b[0m \u001b[0mself\u001b[0m\u001b[0;34m.\u001b[0m\u001b[0m_engine\u001b[0m\u001b[0;34m.\u001b[0m\u001b[0mget_loc\u001b[0m\u001b[0;34m(\u001b[0m\u001b[0mself\u001b[0m\u001b[0;34m.\u001b[0m\u001b[0m_maybe_cast_indexer\u001b[0m\u001b[0;34m(\u001b[0m\u001b[0mkey\u001b[0m\u001b[0;34m)\u001b[0m\u001b[0;34m)\u001b[0m\u001b[0;34m\u001b[0m\u001b[0;34m\u001b[0m\u001b[0m\n",
            "\u001b[0;32mpandas/_libs/index.pyx\u001b[0m in \u001b[0;36mpandas._libs.index.IndexEngine.get_loc\u001b[0;34m()\u001b[0m\n",
            "\u001b[0;32mpandas/_libs/index.pyx\u001b[0m in \u001b[0;36mpandas._libs.index.IndexEngine.get_loc\u001b[0;34m()\u001b[0m\n",
            "\u001b[0;31mTypeError\u001b[0m: '(slice(None, None, None), slice(11, None, None))' is an invalid key"
          ]
        }
      ]
    },
    {
      "cell_type": "code",
      "metadata": {
        "id": "6iYthThQ0BI7",
        "colab_type": "code",
        "colab": {}
      },
      "source": [
        "unassigned_df = df1.loc[df1.index.str.contains('Unassigned')]\n",
        "unassigned_df.iloc[ :, 11:].shape\n",
        "unassigned_df.iloc[ :, 11:].transpose().plot()"
      ],
      "execution_count": null,
      "outputs": []
    },
    {
      "cell_type": "code",
      "metadata": {
        "id": "D3hsOxFe2t8q",
        "colab_type": "code",
        "colab": {}
      },
      "source": [
        "df1.loc[df1.index.str.contains('Unassigned')].iloc[:, 11:].transpose().plot() # Well done, a single line solution! "
      ],
      "execution_count": null,
      "outputs": []
    },
    {
      "cell_type": "markdown",
      "metadata": {
        "id": "cP_Nj0oz86xB",
        "colab_type": "text"
      },
      "source": [
        "## How about the cases at the Hamilton county, TN? "
      ]
    },
    {
      "cell_type": "code",
      "metadata": {
        "id": "CkBmIpqD0BML",
        "colab_type": "code",
        "colab": {}
      },
      "source": [
        "# Can we examine cumualted cases at the Hamilton County, TN? \n",
        "\n",
        "\n",
        "df1.loc[df1['Combined_Key'] == 'Hamilton, Tennessee, US']"
      ],
      "execution_count": null,
      "outputs": []
    },
    {
      "cell_type": "code",
      "metadata": {
        "id": "BjIq8P279DLe",
        "colab_type": "code",
        "colab": {}
      },
      "source": [
        "dfHamilton = df1[df1.Combined_Key == \"Hamilton, Tennessee, US\"]\n",
        "dfHamilton"
      ],
      "execution_count": null,
      "outputs": []
    },
    {
      "cell_type": "code",
      "metadata": {
        "id": "6WNrdcYN9DOz",
        "colab_type": "code",
        "colab": {}
      },
      "source": [
        "df1.loc[df1['Combined_Key'] == 'Hamilton, Tennessee, US'].iloc[:, 11:].transpose().plot()"
      ],
      "execution_count": null,
      "outputs": []
    },
    {
      "cell_type": "code",
      "metadata": {
        "id": "BqrWeljE9DU4",
        "colab_type": "code",
        "colab": {}
      },
      "source": [
        ""
      ],
      "execution_count": null,
      "outputs": []
    },
    {
      "cell_type": "code",
      "metadata": {
        "id": "H61Uklqa9DSR",
        "colab_type": "code",
        "colab": {}
      },
      "source": [
        ""
      ],
      "execution_count": null,
      "outputs": []
    },
    {
      "cell_type": "markdown",
      "metadata": {
        "id": "i2J0MYXVbI3T",
        "colab_type": "text"
      },
      "source": [
        "# How to examine the cases in each state? "
      ]
    },
    {
      "cell_type": "code",
      "metadata": {
        "id": "JSVPZxkz0BPw",
        "colab_type": "code",
        "colab": {}
      },
      "source": [
        "\n",
        "df1.loc[ :, 'Province_State']"
      ],
      "execution_count": null,
      "outputs": []
    },
    {
      "cell_type": "code",
      "metadata": {
        "id": "g_rWQzlgBKUY",
        "colab_type": "code",
        "colab": {}
      },
      "source": [
        "groupby_state = df1.iloc[:,11:].groupby(df1['Province_State'])\n",
        "type( groupby_state )"
      ],
      "execution_count": null,
      "outputs": []
    },
    {
      "cell_type": "code",
      "metadata": {
        "id": "Ym3GT3yg_9Lt",
        "colab_type": "code",
        "colab": {}
      },
      "source": [
        "df_by_state = groupby_state.sum()\n",
        "type( df_by_state )"
      ],
      "execution_count": null,
      "outputs": []
    },
    {
      "cell_type": "code",
      "metadata": {
        "id": "NnNrA-vj_9O8",
        "colab_type": "code",
        "colab": {}
      },
      "source": [
        "df_by_state.head()"
      ],
      "execution_count": null,
      "outputs": []
    },
    {
      "cell_type": "code",
      "metadata": {
        "id": "FOPizrJT_9W_",
        "colab_type": "code",
        "colab": {}
      },
      "source": [
        ""
      ],
      "execution_count": null,
      "outputs": []
    },
    {
      "cell_type": "code",
      "metadata": {
        "id": "70aQIbjr_9TB",
        "colab_type": "code",
        "colab": {}
      },
      "source": [
        ""
      ],
      "execution_count": null,
      "outputs": []
    },
    {
      "cell_type": "code",
      "metadata": {
        "id": "hTR7CAxwWgfp",
        "colab_type": "code",
        "colab": {}
      },
      "source": [
        "df_by_state.transpose().plot()"
      ],
      "execution_count": null,
      "outputs": []
    },
    {
      "cell_type": "code",
      "metadata": {
        "id": "3IRg_raNWlbB",
        "colab_type": "code",
        "colab": {}
      },
      "source": [
        "df_by_state.transpose().iloc[:,0:5].plot(subplots=True)"
      ],
      "execution_count": null,
      "outputs": []
    },
    {
      "cell_type": "code",
      "metadata": {
        "id": "Gi2llZkUCg3R",
        "colab_type": "code",
        "colab": {}
      },
      "source": [
        "df_by_state.transpose().loc[:,\"Tennessee\"].plot(subplots=True)"
      ],
      "execution_count": null,
      "outputs": []
    },
    {
      "cell_type": "code",
      "metadata": {
        "id": "O9sTk_THDDAK",
        "colab_type": "code",
        "colab": {}
      },
      "source": [
        "df_by_state.head()"
      ],
      "execution_count": null,
      "outputs": []
    },
    {
      "cell_type": "code",
      "metadata": {
        "id": "hKoqUZleC17_",
        "colab_type": "code",
        "colab": {}
      },
      "source": [
        "# df_by_state.loc['Tennessee'][11:].transpose().plot() #This is bit problematic on the columns"
      ],
      "execution_count": null,
      "outputs": []
    },
    {
      "cell_type": "code",
      "metadata": {
        "id": "vZhEWyN2W97V",
        "colab_type": "code",
        "colab": {}
      },
      "source": [
        "df_by_state.loc[['Georgia', 'Texas', 'Alabama', 'Florida', 'Tennessee']].transpose().plot() #Here, Texas and Tennessee are row-index"
      ],
      "execution_count": null,
      "outputs": []
    },
    {
      "cell_type": "code",
      "metadata": {
        "id": "g8F1vjM_4sPd",
        "colab_type": "code",
        "colab": {}
      },
      "source": [
        "df_by_state.transpose()[['Texas', 'Tennessee']].plot() #Here, Texas ans Tennessee are columns"
      ],
      "execution_count": null,
      "outputs": []
    },
    {
      "cell_type": "code",
      "metadata": {
        "id": "yX14MMQTzHsq",
        "colab_type": "code",
        "colab": {}
      },
      "source": [
        ""
      ],
      "execution_count": null,
      "outputs": []
    },
    {
      "cell_type": "markdown",
      "metadata": {
        "id": "yimNR3EVbQTG",
        "colab_type": "text"
      },
      "source": [
        "# How to examine the new cases daily? "
      ]
    },
    {
      "cell_type": "markdown",
      "metadata": {
        "id": "rFlm8ptWhOOn",
        "colab_type": "text"
      },
      "source": [
        "## diff() on a test dataframe"
      ]
    },
    {
      "cell_type": "code",
      "metadata": {
        "id": "qZ8BPNE4zHy5",
        "colab_type": "code",
        "colab": {}
      },
      "source": [
        "dataset = [(2, 4, 6, 8),\n",
        "           (10, 12, 14, 18),\n",
        "           (20, 22, 24, 26),\n",
        "           (28, 30, 32, 34)];\n",
        "\n",
        "df_test = pd.DataFrame(dataset, columns = (\"A\", \"B\", \"C\", \"D\" ));\n"
      ],
      "execution_count": null,
      "outputs": []
    },
    {
      "cell_type": "code",
      "metadata": {
        "id": "m29wBgo2zH3c",
        "colab_type": "code",
        "colab": {}
      },
      "source": [
        "df_test.diff(axis=0) #by row"
      ],
      "execution_count": null,
      "outputs": []
    },
    {
      "cell_type": "code",
      "metadata": {
        "id": "Eln8Pol8zHwd",
        "colab_type": "code",
        "colab": {}
      },
      "source": [
        "df_test.diff(axis=1) #by column"
      ],
      "execution_count": null,
      "outputs": []
    },
    {
      "cell_type": "markdown",
      "metadata": {
        "id": "9UPgApmdhXS7",
        "colab_type": "text"
      },
      "source": [
        "## diff() on US covid19 data set\n",
        " JHU cases are by row, and we need to calculate difference between columns"
      ]
    },
    {
      "cell_type": "code",
      "metadata": {
        "id": "1OXxnVwBhceg",
        "colab_type": "code",
        "colab": {}
      },
      "source": [
        "df_by_state.head()"
      ],
      "execution_count": null,
      "outputs": []
    },
    {
      "cell_type": "code",
      "metadata": {
        "id": "CjpC61dhhpYe",
        "colab_type": "code",
        "colab": {}
      },
      "source": [
        "df_dailycases_by_state =  df_by_state.diff(axis=1) #1 by columns\n",
        "df_dailycases_by_state.head()"
      ],
      "execution_count": null,
      "outputs": []
    },
    {
      "cell_type": "code",
      "metadata": {
        "id": "FCylsiBaiou5",
        "colab_type": "code",
        "colab": {}
      },
      "source": [
        "df_dailycases_by_state.transpose()[['Tennessee', 'Wisconsin']].plot()"
      ],
      "execution_count": null,
      "outputs": []
    },
    {
      "cell_type": "code",
      "metadata": {
        "id": "xHmyFUMvFrgw",
        "colab_type": "code",
        "colab": {}
      },
      "source": [
        "df_dailycases_by_state.loc[['Tennessee', 'Texas']].iloc[:, 2:].rolling(window=3).mean()\n",
        "\n",
        "#.rolling(window=3).mean()"
      ],
      "execution_count": null,
      "outputs": []
    },
    {
      "cell_type": "code",
      "metadata": {
        "id": "La1Kk58DG2Ap",
        "colab_type": "code",
        "colab": {}
      },
      "source": [
        "df_dailycases_by_state.transpose()[['Tennessee', 'Alaska']].rolling(window=3, center=False).mean()"
      ],
      "execution_count": null,
      "outputs": []
    },
    {
      "cell_type": "code",
      "metadata": {
        "id": "2OwbMD_8G9SG",
        "colab_type": "code",
        "colab": {}
      },
      "source": [
        "df_dailycases_by_state.transpose()[['Tennessee', 'Alaska']].head()"
      ],
      "execution_count": null,
      "outputs": []
    },
    {
      "cell_type": "code",
      "metadata": {
        "id": "ZBTAMnbGimdR",
        "colab_type": "code",
        "colab": {}
      },
      "source": [
        "df_dailycases_by_state.transpose()[['Tennessee', 'Alaska', 'Florida']].rolling(window=14).mean().plot(logy=True)"
      ],
      "execution_count": null,
      "outputs": []
    },
    {
      "cell_type": "code",
      "metadata": {
        "id": "DBbudDIA_6yw",
        "colab_type": "code",
        "colab": {}
      },
      "source": [
        "df_dailycases_by_state.transpose()[['Tennessee', 'Alaska']].rolling(window=3).mean().plot(subplots=True)"
      ],
      "execution_count": null,
      "outputs": []
    },
    {
      "cell_type": "code",
      "metadata": {
        "id": "XQs5eXHhj_ul",
        "colab_type": "code",
        "colab": {}
      },
      "source": [
        "df_dailycases_by_state.transpose()[['Tennessee', 'Texas']].rolling(window=7).mean().plot()"
      ],
      "execution_count": null,
      "outputs": []
    },
    {
      "cell_type": "code",
      "metadata": {
        "id": "97rJepR4hpbQ",
        "colab_type": "code",
        "colab": {}
      },
      "source": [
        "df_dailycases_by_state.transpose()[['Tennessee', 'Texas']].head()"
      ],
      "execution_count": null,
      "outputs": []
    },
    {
      "cell_type": "code",
      "metadata": {
        "id": "J9AlADrKJEko",
        "colab_type": "code",
        "colab": {}
      },
      "source": [
        ""
      ],
      "execution_count": null,
      "outputs": []
    },
    {
      "cell_type": "code",
      "metadata": {
        "id": "097QxNO5JEoN",
        "colab_type": "code",
        "colab": {}
      },
      "source": [
        ""
      ],
      "execution_count": null,
      "outputs": []
    },
    {
      "cell_type": "markdown",
      "metadata": {
        "id": "r18YYmTjJFz3",
        "colab_type": "text"
      },
      "source": [
        "## Examine the daily confirmed cases in Hamilton County, TN"
      ]
    },
    {
      "cell_type": "code",
      "metadata": {
        "id": "zlfKOLZGJEuv",
        "colab_type": "code",
        "colab": {}
      },
      "source": [
        "df1.loc[df1['Combined_Key'] == 'Hamilton, Tennessee, US'].iloc[:, 11:].transpose().plot()"
      ],
      "execution_count": null,
      "outputs": []
    },
    {
      "cell_type": "code",
      "metadata": {
        "id": "eMhFHpFEJEs3",
        "colab_type": "code",
        "colab": {}
      },
      "source": [
        "df_Hamilton = df1.loc[df1['Combined_Key'] == 'Hamilton, Tennessee, US'].iloc[:, 11:]\n",
        "\n",
        "type(df_Hamilton)\n",
        "df_Hamilton.head()"
      ],
      "execution_count": null,
      "outputs": []
    },
    {
      "cell_type": "code",
      "metadata": {
        "id": "Gb0FFMZPJkHT",
        "colab_type": "code",
        "colab": {}
      },
      "source": [
        "df_Hamilton.transpose().diff(axis=0).plot()"
      ],
      "execution_count": null,
      "outputs": []
    },
    {
      "cell_type": "code",
      "metadata": {
        "id": "lcL30t9XJkM4",
        "colab_type": "code",
        "colab": {}
      },
      "source": [
        "df_Hamilton.transpose().diff(axis=0).rolling(window=3).median().plot()"
      ],
      "execution_count": null,
      "outputs": []
    },
    {
      "cell_type": "code",
      "metadata": {
        "id": "aPqOBdSgKYsr",
        "colab_type": "code",
        "colab": {}
      },
      "source": [
        "df_Hamilton.transpose().diff(axis=0).rolling(window=7).mean().plot()"
      ],
      "execution_count": null,
      "outputs": []
    },
    {
      "cell_type": "code",
      "metadata": {
        "id": "7EbsjJCZJkUI",
        "colab_type": "code",
        "colab": {}
      },
      "source": [
        ""
      ],
      "execution_count": null,
      "outputs": []
    },
    {
      "cell_type": "code",
      "metadata": {
        "id": "lQ66VxUXJkRO",
        "colab_type": "code",
        "colab": {}
      },
      "source": [
        ""
      ],
      "execution_count": null,
      "outputs": []
    },
    {
      "cell_type": "code",
      "metadata": {
        "id": "Afmw_HiGJkKq",
        "colab_type": "code",
        "colab": {}
      },
      "source": [
        ""
      ],
      "execution_count": null,
      "outputs": []
    },
    {
      "cell_type": "markdown",
      "metadata": {
        "id": "KNWt5kkBJMZq",
        "colab_type": "text"
      },
      "source": [
        "# Pick a time window using datetime"
      ]
    },
    {
      "cell_type": "code",
      "metadata": {
        "id": "PX7zI4UEhpe7",
        "colab_type": "code",
        "colab": {}
      },
      "source": [
        "#from datetime import datetime \n",
        "\n",
        "df_dailycases_by_state2 = df_dailycases_by_state.transpose()\n",
        "\n",
        "df_dailycases_by_state2.head()"
      ],
      "execution_count": null,
      "outputs": []
    },
    {
      "cell_type": "code",
      "metadata": {
        "id": "J0wcWr0jATgO",
        "colab_type": "code",
        "colab": {}
      },
      "source": [
        "df_dailycases_by_state2.index = pd.to_datetime(df_dailycases_by_state2.index)\n",
        "df_dailycases_by_state2.index"
      ],
      "execution_count": null,
      "outputs": []
    },
    {
      "cell_type": "code",
      "metadata": {
        "id": "tZluuZYOhphp",
        "colab_type": "code",
        "colab": {}
      },
      "source": [
        "df_dailycases_by_state2.loc['2020-08-01':, ['Alabama', 'Tennessee', 'Georgia', 'Virginia', 'Florida']].plot()"
      ],
      "execution_count": null,
      "outputs": []
    },
    {
      "cell_type": "markdown",
      "metadata": {
        "id": "UKf3z-bYMfrP",
        "colab_type": "text"
      },
      "source": [
        "## Examine the row with the largest value on 9/8/2020"
      ]
    },
    {
      "cell_type": "code",
      "metadata": {
        "id": "JkfB33eCL9yc",
        "colab_type": "code",
        "colab": {}
      },
      "source": [
        "subset = df1.loc[df1['9/8/20']==249241]"
      ],
      "execution_count": null,
      "outputs": []
    },
    {
      "cell_type": "code",
      "metadata": {
        "id": "UHEgvQEQ4YG2",
        "colab_type": "code",
        "colab": {}
      },
      "source": [
        "subset = subset.transpose()\n",
        "subset = subset.iloc[:][11:]\n",
        "type(subset)"
      ],
      "execution_count": null,
      "outputs": []
    },
    {
      "cell_type": "code",
      "metadata": {
        "id": "Z1vEOvOh8Yfr",
        "colab_type": "code",
        "colab": {}
      },
      "source": [
        "type(subset)"
      ],
      "execution_count": null,
      "outputs": []
    },
    {
      "cell_type": "code",
      "metadata": {
        "id": "q8-2kjh6L9-A",
        "colab_type": "code",
        "colab": {}
      },
      "source": [
        "from datetime import datetime\n",
        "\n",
        "#datetime.strptime( '9/8/20', '%m/%d/%y') \n",
        "\n",
        "dates = [datetime.strptime( x, '%m/%d/%y') for x in subset.columns[11:]]\n",
        "print(dates)"
      ],
      "execution_count": null,
      "outputs": []
    },
    {
      "cell_type": "code",
      "metadata": {
        "id": "GWTeE4aaHv_U",
        "colab_type": "code",
        "colab": {}
      },
      "source": [
        "df1.iloc[5:10, -20:-1 ]"
      ],
      "execution_count": null,
      "outputs": []
    },
    {
      "cell_type": "markdown",
      "metadata": {
        "id": "ypegd28LxiAQ",
        "colab_type": "text"
      },
      "source": [
        "# Explore Global Data set"
      ]
    },
    {
      "cell_type": "markdown",
      "metadata": {
        "id": "ci1R_V4uViv5",
        "colab_type": "text"
      },
      "source": [
        ""
      ]
    },
    {
      "cell_type": "markdown",
      "metadata": {
        "id": "jsqablmVVi95",
        "colab_type": "text"
      },
      "source": [
        ""
      ]
    },
    {
      "cell_type": "code",
      "metadata": {
        "id": "ewl5wOeSFLNu",
        "colab_type": "code",
        "colab": {}
      },
      "source": [
        "\n",
        "df2 = pd.read_csv(fullpath2, error_bad_lines=False)\n",
        "df2.columns"
      ],
      "execution_count": null,
      "outputs": []
    },
    {
      "cell_type": "code",
      "metadata": {
        "id": "roW2_g3jzg2R",
        "colab_type": "code",
        "colab": {}
      },
      "source": [
        "df2['Country/Region']\n",
        "list(df2['Country/Region'].unique())"
      ],
      "execution_count": null,
      "outputs": []
    },
    {
      "cell_type": "code",
      "metadata": {
        "id": "TEIBT7sCxiAT",
        "colab_type": "code",
        "colab": {}
      },
      "source": [
        "# Countries affected\n",
        "countries = df2['Country/Region'].unique().tolist()\n",
        "print(\"\\nTotal countries affected by virus: \",len(countries))\n",
        "print(countries)"
      ],
      "execution_count": null,
      "outputs": []
    },
    {
      "cell_type": "code",
      "metadata": {
        "id": "ljx74caIzxs-",
        "colab_type": "code",
        "colab": {}
      },
      "source": [
        "df2by_country = df2.iloc[:, 5:].groupby(df2['Country/Region']).sum().transpose()"
      ],
      "execution_count": null,
      "outputs": []
    },
    {
      "cell_type": "code",
      "metadata": {
        "id": "ed92_aYT0n4p",
        "colab_type": "code",
        "colab": {}
      },
      "source": [
        "df2by_country.head()"
      ],
      "execution_count": null,
      "outputs": []
    },
    {
      "cell_type": "code",
      "metadata": {
        "colab_type": "code",
        "id": "dqiPMWvtyXMt",
        "colab": {}
      },
      "source": [
        "df2by_country.index = pd.to_datetime(df2by_country.index)"
      ],
      "execution_count": null,
      "outputs": []
    },
    {
      "cell_type": "code",
      "metadata": {
        "scrolled": false,
        "id": "WIJtOgPfxiAR",
        "colab_type": "code",
        "colab": {}
      },
      "source": [
        "### Check if the dataframe contains NaN values\n",
        "df2by_country.head()"
      ],
      "execution_count": null,
      "outputs": []
    },
    {
      "cell_type": "code",
      "metadata": {
        "id": "rKRyDoc_y4Ge",
        "colab_type": "code",
        "colab": {}
      },
      "source": [
        "  df2by_country.columns[ df2by_country.columns.str.contains('US') ]"
      ],
      "execution_count": null,
      "outputs": []
    },
    {
      "cell_type": "code",
      "metadata": {
        "id": "o8vrk__-y78f",
        "colab_type": "code",
        "colab": {}
      },
      "source": [
        "  df2by_country[['US', 'France', 'India', 'Sweden']].plot(logy=True)\n"
      ],
      "execution_count": null,
      "outputs": []
    },
    {
      "cell_type": "code",
      "metadata": {
        "id": "q-PbcC5SzaWg",
        "colab_type": "code",
        "colab": {}
      },
      "source": [
        "  df2by_country[['US', 'France', 'India', 'Sweden']]['2020-05-01':].plot(logy=False)"
      ],
      "execution_count": null,
      "outputs": []
    },
    {
      "cell_type": "markdown",
      "metadata": {
        "id": "QZ0Q9saIVkZ0",
        "colab_type": "text"
      },
      "source": [
        "# Alternative approach to load data from GitHub"
      ]
    },
    {
      "cell_type": "markdown",
      "metadata": {
        "id": "H8C_zfXwVpzA",
        "colab_type": "text"
      },
      "source": [
        "Go to GitHub, select the csv file,  select \"view as raw\",  and copy the URL. "
      ]
    },
    {
      "cell_type": "code",
      "metadata": {
        "id": "wIhW3yCC0WGH",
        "colab_type": "code",
        "colab": {}
      },
      "source": [
        "import pandas as pd\n",
        "\n",
        "url = \"https://raw.githubusercontent.com/CSSEGISandData/COVID-19/master/csse_covid_19_data/csse_covid_19_time_series/time_series_covid19_confirmed_US.csv\"\n",
        "\n",
        "df = pd.read_csv(url)"
      ],
      "execution_count": 36,
      "outputs": []
    },
    {
      "cell_type": "code",
      "metadata": {
        "id": "ANkxvk41WjFu",
        "colab_type": "code",
        "colab": {
          "base_uri": "https://localhost:8080/",
          "height": 252
        },
        "outputId": "b90e529c-d552-4cd3-cb70-e9d3b69fc7aa"
      },
      "source": [
        "df.head"
      ],
      "execution_count": 37,
      "outputs": [
        {
          "output_type": "execute_result",
          "data": {
            "text/plain": [
              "<bound method NDFrame.head of            UID iso2 iso3  code3  ...  9/17/20 9/18/20 9/19/20 9/20/20\n",
              "0     84001001   US  USA    840  ...     1624    1664    1673    1690\n",
              "1     84001003   US  USA    840  ...     5021    5033    5047    5061\n",
              "2     84001005   US  USA    840  ...      809     824     830     835\n",
              "3     84001007   US  USA    840  ...      617     619     628     632\n",
              "4     84001009   US  USA    840  ...     1504    1527    1542    1551\n",
              "...        ...  ...  ...    ...  ...      ...     ...     ...     ...\n",
              "3335  84056039   US  USA    840  ...      487     490     493     498\n",
              "3336  84056041   US  USA    840  ...      327     327     330     334\n",
              "3337  84090056   US  USA    840  ...        0       1       1       1\n",
              "3338  84056043   US  USA    840  ...      112     113     113     113\n",
              "3339  84056045   US  USA    840  ...       23      23      23      23\n",
              "\n",
              "[3340 rows x 254 columns]>"
            ]
          },
          "metadata": {
            "tags": []
          },
          "execution_count": 37
        }
      ]
    },
    {
      "cell_type": "code",
      "metadata": {
        "id": "t51U9Hs8WkvK",
        "colab_type": "code",
        "colab": {}
      },
      "source": [
        ""
      ],
      "execution_count": null,
      "outputs": []
    }
  ]
}