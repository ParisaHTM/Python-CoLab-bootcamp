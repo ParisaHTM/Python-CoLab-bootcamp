{
 "cells": [
  {
   "cell_type": "markdown",
   "metadata": {
    "colab_type": "text",
    "id": "view-in-github"
   },
   "source": [
    "<a href=\"https://colab.research.google.com/github/hongqin/Python-CoLab-bootcamp/blob/master/python_basics.ipynb\" target=\"_parent\"><img src=\"https://colab.research.google.com/assets/colab-badge.svg\" alt=\"Open In Colab\"/></a>"
   ]
  },
  {
   "cell_type": "markdown",
   "metadata": {
    "id": "zbJ2fw29OHAX"
   },
   "source": [
    "Notebook prepared by Mathieu Blondel."
   ]
  },
  {
   "cell_type": "markdown",
   "metadata": {
    "id": "JbVT11Y8CbAu"
   },
   "source": [
    "# Welcome"
   ]
  },
  {
   "cell_type": "markdown",
   "metadata": {
    "id": "kw1B2R_WCU7X"
   },
   "source": [
    "We will learn about the programming language Python."
   ]
  },
  {
   "cell_type": "markdown",
   "metadata": {
    "id": "YV4sYCn8EPwb"
   },
   "source": [
    "# Notebooks"
   ]
  },
  {
   "cell_type": "markdown",
   "metadata": {
    "id": "2HuuwOcQEYQI"
   },
   "source": [
    "We will use Jupyter notebooks and Google colab as the primary way to practice Python. Notebooks are a great way to mix executable code with rich contents. Colab allows to run notebooks on the cloud for free without any prior installation."
   ]
  },
  {
   "cell_type": "markdown",
   "metadata": {
    "id": "t0XmMkPuGGOs"
   },
   "source": [
    "The document that you are reading is not a static web page, but an interactive environment called a notebook, that lets you write and execute code. Notebooks consist of so-called code cells, blocks of one or more Python instructions. For example, here is a code cell that stores the result of a computation (the number of seconds in a day) in a variable and prints its value:"
   ]
  },
  {
   "cell_type": "code",
   "execution_count": 1,
   "metadata": {
    "colab": {
     "base_uri": "https://localhost:8080/"
    },
    "id": "qeGAvLq1ALJ4",
    "outputId": "e13e4af9-12de-4c1d-fab6-84538290c2f9"
   },
   "outputs": [
    {
     "data": {
      "text/plain": [
       "86400"
      ]
     },
     "execution_count": 1,
     "metadata": {},
     "output_type": "execute_result"
    }
   ],
   "source": [
    "seconds_in_a_day = 24 * 60 * 60\n",
    "seconds_in_a_day"
   ]
  },
  {
   "cell_type": "markdown",
   "metadata": {
    "id": "njoPs3q1G75-"
   },
   "source": [
    "Click on the \"play\" button to execute the cell. You should be able to see the result. Alternatively, you can also execute the cell by pressing Ctrl + Enter if you are on Windows / Linux or Command + Enter if you are on a Mac."
   ]
  },
  {
   "cell_type": "markdown",
   "metadata": {
    "id": "NvdYaBgHHdbw"
   },
   "source": [
    "Variables that you defined in one cell can later be used in other cells:"
   ]
  },
  {
   "cell_type": "code",
   "execution_count": 2,
   "metadata": {
    "colab": {
     "base_uri": "https://localhost:8080/"
    },
    "id": "s1kp5Zv0JBSx",
    "outputId": "09264acf-4754-4eda-ea59-534eef559b46"
   },
   "outputs": [
    {
     "data": {
      "text/plain": [
       "604800"
      ]
     },
     "execution_count": 2,
     "metadata": {},
     "output_type": "execute_result"
    }
   ],
   "source": [
    "seconds_in_a_week = 7 * seconds_in_a_day\n",
    "seconds_in_a_week"
   ]
  },
  {
   "cell_type": "markdown",
   "metadata": {
    "id": "uALfY4q1JFQ0"
   },
   "source": [
    "Note that the order of execution is important. For instance, if we do not run the cell storing *seconds_in_a_day* beforehand, the above cell will raise an error, as it depends on this variable. To make sure that you run all the cells in the correct order, you can also click on \"Runtime\" in the top-level menu, then \"Run all\"."
   ]
  },
  {
   "cell_type": "markdown",
   "metadata": {
    "id": "HvXs_KaoRWQ9"
   },
   "source": [
    "**Exercise.** Add a cell below this cell: click on this cell then click on \"+ Code\". In the new cell, compute the number of seconds in a year by reusing the variable *seconds_in_a_day*. Run the new cell."
   ]
  },
  {
   "cell_type": "markdown",
   "metadata": {
    "id": "qyLSwlxnJqXX"
   },
   "source": [
    "# Python"
   ]
  },
  {
   "cell_type": "markdown",
   "metadata": {
    "id": "3ltwm91eJyQM"
   },
   "source": [
    "Python is one of the most popular programming languages for data science and machine learning, both in academia and in industry. As such, it is essential to learn this language for anyone interested in machine learning. In this section, we will review Python basics."
   ]
  },
  {
   "cell_type": "markdown",
   "metadata": {
    "id": "3EKvP6jiMZ9H"
   },
   "source": [
    "## Arithmetic operations"
   ]
  },
  {
   "cell_type": "markdown",
   "metadata": {
    "id": "DDjs0-7YQ80h"
   },
   "source": [
    "Python supports the usual arithmetic operators: + (addition), * (multiplication), / (division), ** (power), // (integer division)."
   ]
  },
  {
   "cell_type": "code",
   "execution_count": 5,
   "metadata": {},
   "outputs": [
    {
     "data": {
      "text/plain": [
       "3"
      ]
     },
     "execution_count": 5,
     "metadata": {},
     "output_type": "execute_result"
    }
   ],
   "source": [
    "1 + 2"
   ]
  },
  {
   "cell_type": "code",
   "execution_count": 6,
   "metadata": {},
   "outputs": [
    {
     "data": {
      "text/plain": [
       "2"
      ]
     },
     "execution_count": 6,
     "metadata": {},
     "output_type": "execute_result"
    }
   ],
   "source": [
    "3-1"
   ]
  },
  {
   "cell_type": "code",
   "execution_count": 7,
   "metadata": {},
   "outputs": [
    {
     "data": {
      "text/plain": [
       "8"
      ]
     },
     "execution_count": 7,
     "metadata": {},
     "output_type": "execute_result"
    }
   ],
   "source": [
    "2*4"
   ]
  },
  {
   "cell_type": "code",
   "execution_count": 8,
   "metadata": {},
   "outputs": [
    {
     "data": {
      "text/plain": [
       "2.5"
      ]
     },
     "execution_count": 8,
     "metadata": {},
     "output_type": "execute_result"
    }
   ],
   "source": [
    "5/2"
   ]
  },
  {
   "cell_type": "code",
   "execution_count": 11,
   "metadata": {},
   "outputs": [
    {
     "data": {
      "text/plain": [
       "8"
      ]
     },
     "execution_count": 11,
     "metadata": {},
     "output_type": "execute_result"
    }
   ],
   "source": [
    "2**3"
   ]
  },
  {
   "cell_type": "code",
   "execution_count": 9,
   "metadata": {},
   "outputs": [
    {
     "data": {
      "text/plain": [
       "2"
      ]
     },
     "execution_count": 9,
     "metadata": {},
     "output_type": "execute_result"
    }
   ],
   "source": [
    "5//2"
   ]
  },
  {
   "cell_type": "code",
   "execution_count": null,
   "metadata": {},
   "outputs": [],
   "source": []
  },
  {
   "cell_type": "markdown",
   "metadata": {
    "id": "UhcbBQUiStHG"
   },
   "source": [
    "## Lists"
   ]
  },
  {
   "cell_type": "markdown",
   "metadata": {
    "id": "RkPn1IjNTCxA"
   },
   "source": [
    "Lists are a container type for ordered sequences of elements. Lists can be initialized empty"
   ]
  },
  {
   "cell_type": "code",
   "execution_count": 12,
   "metadata": {
    "id": "OrnV1ySAPtHp"
   },
   "outputs": [],
   "source": [
    "my_list = []"
   ]
  },
  {
   "cell_type": "markdown",
   "metadata": {
    "id": "OwRqyYI9XnPK"
   },
   "source": [
    "or with some initial elements"
   ]
  },
  {
   "cell_type": "code",
   "execution_count": 13,
   "metadata": {
    "id": "Uq5YTJ1JXpOX"
   },
   "outputs": [],
   "source": [
    "my_list = [1, 2, 3]"
   ]
  },
  {
   "cell_type": "markdown",
   "metadata": {
    "id": "Hk2WmojJXyyz"
   },
   "source": [
    "Lists have a dynamic size and elements can be added (appended) to them"
   ]
  },
  {
   "cell_type": "code",
   "execution_count": 14,
   "metadata": {
    "colab": {
     "base_uri": "https://localhost:8080/"
    },
    "id": "QFTNqiYiXxAh",
    "outputId": "0a5d2bdd-edbe-4a74-b97b-e5b3fadbd450"
   },
   "outputs": [
    {
     "data": {
      "text/plain": [
       "[1, 2, 3, 4]"
      ]
     },
     "execution_count": 14,
     "metadata": {},
     "output_type": "execute_result"
    }
   ],
   "source": [
    "my_list.append(4)\n",
    "my_list"
   ]
  },
  {
   "cell_type": "markdown",
   "metadata": {
    "id": "IUnJuqQ2Yhzw"
   },
   "source": [
    "We can access individual elements of a list (indexing starts from 0)"
   ]
  },
  {
   "cell_type": "code",
   "execution_count": 15,
   "metadata": {
    "colab": {
     "base_uri": "https://localhost:8080/"
    },
    "id": "pyFxyZPVYpG_",
    "outputId": "1e9318b6-079a-44ed-b242-55142bfa71d4"
   },
   "outputs": [
    {
     "data": {
      "text/plain": [
       "3"
      ]
     },
     "execution_count": 15,
     "metadata": {},
     "output_type": "execute_result"
    }
   ],
   "source": [
    "my_list[2]"
   ]
  },
  {
   "cell_type": "markdown",
   "metadata": {
    "id": "hPMrIDYsdgMP"
   },
   "source": [
    "We can access \"slices\" of a list using `my_list[i:j]` where `i` is the start of the slice (again, indexing starts from 0) and `j` the end of the slice. For instance:"
   ]
  },
  {
   "cell_type": "code",
   "execution_count": 16,
   "metadata": {
    "colab": {
     "base_uri": "https://localhost:8080/"
    },
    "id": "Ichf9p0gd7tJ",
    "outputId": "3b8701a2-c4cb-4641-edcc-a8ebbb79de3b"
   },
   "outputs": [
    {
     "data": {
      "text/plain": [
       "[2, 3]"
      ]
     },
     "execution_count": 16,
     "metadata": {},
     "output_type": "execute_result"
    }
   ],
   "source": [
    "my_list[1:3]"
   ]
  },
  {
   "cell_type": "markdown",
   "metadata": {
    "id": "KMbzH4tzQ9rI"
   },
   "source": [
    "Omitting the second index means that the slice shoud run until the end of the list"
   ]
  },
  {
   "cell_type": "code",
   "execution_count": 17,
   "metadata": {
    "colab": {
     "base_uri": "https://localhost:8080/"
    },
    "id": "O7wCthKnREKV",
    "outputId": "e00b88f3-d4d2-4eb9-a818-5b768b08a36b"
   },
   "outputs": [
    {
     "data": {
      "text/plain": [
       "[2, 3, 4]"
      ]
     },
     "execution_count": 17,
     "metadata": {},
     "output_type": "execute_result"
    }
   ],
   "source": [
    "my_list[1:]"
   ]
  },
  {
   "cell_type": "markdown",
   "metadata": {
    "id": "C5Aeu7PUebrK"
   },
   "source": [
    "We can check if an element is in the list using `in`"
   ]
  },
  {
   "cell_type": "code",
   "execution_count": 18,
   "metadata": {
    "colab": {
     "base_uri": "https://localhost:8080/"
    },
    "id": "a_P5NCi-efvb",
    "outputId": "c38f5948-9bbd-4492-f744-cb1e36f148bc"
   },
   "outputs": [
    {
     "data": {
      "text/plain": [
       "False"
      ]
     },
     "execution_count": 18,
     "metadata": {},
     "output_type": "execute_result"
    }
   ],
   "source": [
    "5 in my_list"
   ]
  },
  {
   "cell_type": "markdown",
   "metadata": {
    "id": "LypIsP5gkl10"
   },
   "source": [
    "The length of a list can be obtained using the `len` function"
   ]
  },
  {
   "cell_type": "code",
   "execution_count": 19,
   "metadata": {
    "colab": {
     "base_uri": "https://localhost:8080/"
    },
    "id": "ac0FMsaKkrWc",
    "outputId": "d3398681-da3b-41d1-8463-8a0e1ec90325"
   },
   "outputs": [
    {
     "data": {
      "text/plain": [
       "4"
      ]
     },
     "execution_count": 19,
     "metadata": {},
     "output_type": "execute_result"
    }
   ],
   "source": [
    "len(my_list)"
   ]
  },
  {
   "cell_type": "markdown",
   "metadata": {
    "id": "1c3RLStf7G2I"
   },
   "source": [
    "## Strings"
   ]
  },
  {
   "cell_type": "markdown",
   "metadata": {
    "id": "Jm6hZhgz7KhI"
   },
   "source": [
    "Strings are used to store text. They can delimited using either single quotes or double quotes"
   ]
  },
  {
   "cell_type": "code",
   "execution_count": 20,
   "metadata": {
    "id": "cCma6Oj_7T8n"
   },
   "outputs": [],
   "source": [
    "string1 = \"some text\"\n",
    "string2 = 'some other text'"
   ]
  },
  {
   "cell_type": "markdown",
   "metadata": {
    "id": "Irr4xuWu7Znu"
   },
   "source": [
    "Strings behave similarly to lists. As such we can access individual elements in exactly the same way"
   ]
  },
  {
   "cell_type": "code",
   "execution_count": 21,
   "metadata": {
    "colab": {
     "base_uri": "https://localhost:8080/",
     "height": 0
    },
    "id": "26_POhLO7iM3",
    "outputId": "72bebf33-912f-4064-edd6-155773964e25"
   },
   "outputs": [
    {
     "data": {
      "text/plain": [
       "'e'"
      ]
     },
     "execution_count": 21,
     "metadata": {},
     "output_type": "execute_result"
    }
   ],
   "source": [
    "string1[3]"
   ]
  },
  {
   "cell_type": "markdown",
   "metadata": {
    "id": "oA_UD0JV7oPw"
   },
   "source": [
    "and similarly for slices"
   ]
  },
  {
   "cell_type": "code",
   "execution_count": 22,
   "metadata": {
    "colab": {
     "base_uri": "https://localhost:8080/",
     "height": 0
    },
    "id": "dcZFcLqQ7qCe",
    "outputId": "60e933ba-e296-4f23-e6a3-ca2a7c3cdf41"
   },
   "outputs": [
    {
     "data": {
      "text/plain": [
       "'text'"
      ]
     },
     "execution_count": 22,
     "metadata": {},
     "output_type": "execute_result"
    }
   ],
   "source": [
    "string1[5:]"
   ]
  },
  {
   "cell_type": "markdown",
   "metadata": {
    "id": "hOQ_CIiu76YG"
   },
   "source": [
    "String concatenation is performed using the `+` operator"
   ]
  },
  {
   "cell_type": "code",
   "execution_count": 23,
   "metadata": {
    "colab": {
     "base_uri": "https://localhost:8080/",
     "height": 0
    },
    "id": "mxqNMKCY79_W",
    "outputId": "0e8fee83-a1ca-4d3f-bdf5-36faf7392c05"
   },
   "outputs": [
    {
     "data": {
      "text/plain": [
       "'some text some other text'"
      ]
     },
     "execution_count": 23,
     "metadata": {},
     "output_type": "execute_result"
    }
   ],
   "source": [
    "string1 + \" \" + string2"
   ]
  },
  {
   "cell_type": "markdown",
   "metadata": {
    "id": "7Lox2GZCMdIB"
   },
   "source": [
    "## Conditionals"
   ]
  },
  {
   "cell_type": "markdown",
   "metadata": {},
   "source": [
    "## In Python, indentation matters!"
   ]
  },
  {
   "cell_type": "markdown",
   "metadata": {
    "id": "-gXEAWFZfDTT"
   },
   "source": [
    "As their name indicates, conditionals are a way to execute code depending on whether a condition is True or False. As in other languages, Python supports `if` and `else` but `else if` is contracted into `elif`, as the example below demonstrates. "
   ]
  },
  {
   "cell_type": "code",
   "execution_count": 24,
   "metadata": {
    "colab": {
     "base_uri": "https://localhost:8080/"
    },
    "id": "xC_DMZjofoYZ",
    "outputId": "f8953cfe-097e-4ea0-f0e8-961bbb8b2608"
   },
   "outputs": [
    {
     "name": "stdout",
     "output_type": "stream",
     "text": [
      "positive\n"
     ]
    }
   ],
   "source": [
    "my_variable = 5\n",
    "if my_variable < 0:\n",
    "  print(\"negative\")\n",
    "elif my_variable == 0:\n",
    "  print(\"null\")\n",
    "else: # my_variable > 0\n",
    "  print(\"positive\")"
   ]
  },
  {
   "cell_type": "markdown",
   "metadata": {
    "id": "Ag0SUokSf9jl"
   },
   "source": [
    "Here `<` and `>` are the strict `less` and `greater than` operators, while `==` is the equality operator (not to be confused with `=`, the variable assignment operator). The operators `<=` and `>=` can be used for less (resp. greater) than or equal comparisons."
   ]
  },
  {
   "cell_type": "markdown",
   "metadata": {
    "id": "qTkQ2F_jy8wz"
   },
   "source": [
    "Contrary to other languages, blocks of code are delimited using indentation. Here, we use 2-space indentation but many programmers also use 4-space indentation. Any one is fine as long as you are consistent throughout your code."
   ]
  },
  {
   "cell_type": "markdown",
   "metadata": {
    "id": "clWaFCzBMfkv"
   },
   "source": [
    "## Loops"
   ]
  },
  {
   "cell_type": "markdown",
   "metadata": {
    "id": "_A5doqhTivWe"
   },
   "source": [
    "Loops are a way to execute a block of code multiple times. There are two main types of loops: while loops and for loops."
   ]
  },
  {
   "cell_type": "markdown",
   "metadata": {
    "id": "YN8lwTxQkGEa"
   },
   "source": [
    "While loop"
   ]
  },
  {
   "cell_type": "code",
   "execution_count": 16,
   "metadata": {
    "colab": {
     "base_uri": "https://localhost:8080/"
    },
    "id": "7-QXGqgOjsr_",
    "outputId": "5d5b30c9-4252-40dc-cfed-ac7abe7bc0e6"
   },
   "outputs": [
    {
     "name": "stdout",
     "output_type": "stream",
     "text": [
      "1\n",
      "2\n",
      "3\n",
      "4\n"
     ]
    }
   ],
   "source": [
    "i = 0\n",
    "while i < len(my_list):\n",
    "  print(my_list[i])\n",
    "  i += 1 # equivalent to i = i + 1"
   ]
  },
  {
   "cell_type": "markdown",
   "metadata": {
    "id": "8mEI_ocfkSvZ"
   },
   "source": [
    "For loop"
   ]
  },
  {
   "cell_type": "code",
   "execution_count": 17,
   "metadata": {
    "colab": {
     "base_uri": "https://localhost:8080/"
    },
    "id": "2QObx5mckMcI",
    "outputId": "ed5f3969-ef5e-473a-bb65-dc5f1fd6e886"
   },
   "outputs": [
    {
     "name": "stdout",
     "output_type": "stream",
     "text": [
      "1\n",
      "2\n",
      "3\n",
      "4\n"
     ]
    }
   ],
   "source": [
    "for i in range(len(my_list)):\n",
    "  print(my_list[i])"
   ]
  },
  {
   "cell_type": "markdown",
   "metadata": {
    "id": "XO6qqppikZvm"
   },
   "source": [
    "If the goal is simply to iterate over a list, we can do so directly as follows"
   ]
  },
  {
   "cell_type": "code",
   "execution_count": 18,
   "metadata": {
    "colab": {
     "base_uri": "https://localhost:8080/"
    },
    "id": "PjFKzN6zkeJ7",
    "outputId": "7c9b0900-04b6-4401-f5e4-82058d92c171"
   },
   "outputs": [
    {
     "name": "stdout",
     "output_type": "stream",
     "text": [
      "1\n",
      "2\n",
      "3\n",
      "4\n"
     ]
    }
   ],
   "source": [
    "for element in my_list:\n",
    "  print(element)"
   ]
  },
  {
   "cell_type": "markdown",
   "metadata": {
    "id": "Cck4zwYrex02"
   },
   "source": [
    "## Functions"
   ]
  },
  {
   "cell_type": "markdown",
   "metadata": {
    "id": "n1PbIf_ohxFO"
   },
   "source": [
    "To improve code readability, it is common to separate the code into different blocks, responsible for performing precise actions: functions. A function takes some inputs and process them to return some outputs."
   ]
  },
  {
   "cell_type": "code",
   "execution_count": 19,
   "metadata": {
    "colab": {
     "base_uri": "https://localhost:8080/"
    },
    "id": "cImA09gOhRmx",
    "outputId": "5ac89b19-22f2-4807-dc2a-1d75257d6e73"
   },
   "outputs": [
    {
     "data": {
      "text/plain": [
       "36"
      ]
     },
     "execution_count": 19,
     "metadata": {},
     "output_type": "execute_result"
    }
   ],
   "source": [
    "def square(x):\n",
    "  return x ** 2\n",
    "\n",
    "def multiply(a, b):\n",
    "  return a * b\n",
    "\n",
    "# Functions can be composed.\n",
    "square(multiply(3, 2))"
   ]
  },
  {
   "cell_type": "markdown",
   "metadata": {
    "id": "75-5SOk9iYSt"
   },
   "source": [
    "To improve code readability, it is sometimes useful to explicitly name the arguments"
   ]
  },
  {
   "cell_type": "code",
   "execution_count": 20,
   "metadata": {
    "colab": {
     "base_uri": "https://localhost:8080/"
    },
    "id": "wkIUuZHhidI0",
    "outputId": "ec5312dc-2e4a-42a6-f0ad-7dcd55497192"
   },
   "outputs": [
    {
     "data": {
      "text/plain": [
       "36"
      ]
     },
     "execution_count": 20,
     "metadata": {},
     "output_type": "execute_result"
    }
   ],
   "source": [
    "square(multiply(a=3, b=2))"
   ]
  },
  {
   "cell_type": "markdown",
   "metadata": {
    "id": "jDxjvtEEM1vg"
   },
   "source": [
    "## Going further"
   ]
  },
  {
   "cell_type": "markdown",
   "metadata": {
    "id": "wRkmvzf-PdEp"
   },
   "source": [
    "Clearly, it is impossible to cover all the language features in this short introduction. To go further, we recommend the following resources:"
   ]
  },
  {
   "cell_type": "markdown",
   "metadata": {
    "id": "n8nbPoWclRlH"
   },
   "source": [
    "\n",
    "\n",
    "*   List of Python [tutorials](https://wiki.python.org/moin/BeginnersGuide/Programmers)\n",
    "* Four-hour [course](https://www.youtube.com/watch?v=rfscVS0vtbw) on Youtube\n",
    "\n"
   ]
  },
  {
   "cell_type": "markdown",
   "metadata": {
    "id": "_e-mgPS63j9G"
   },
   "source": [
    "# Acknowledgement \n",
    "Modified from materials prepared by Mathieu Blondel."
   ]
  },
  {
   "cell_type": "code",
   "execution_count": 24,
   "metadata": {
    "id": "E_SHs7HZ3mtG"
   },
   "outputs": [],
   "source": []
  }
 ],
 "metadata": {
  "colab": {
   "include_colab_link": true,
   "name": "Python basics",
   "provenance": [],
   "toc_visible": true
  },
  "kernelspec": {
   "display_name": "Python 3",
   "language": "python",
   "name": "python3"
  },
  "language_info": {
   "codemirror_mode": {
    "name": "ipython",
    "version": 3
   },
   "file_extension": ".py",
   "mimetype": "text/x-python",
   "name": "python",
   "nbconvert_exporter": "python",
   "pygments_lexer": "ipython3",
   "version": "3.7.7"
  }
 },
 "nbformat": 4,
 "nbformat_minor": 1
}
