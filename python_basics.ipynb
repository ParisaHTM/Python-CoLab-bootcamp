{
  "nbformat": 4,
  "nbformat_minor": 0,
  "metadata": {
    "colab": {
      "name": "Python basics",
      "provenance": [],
      "toc_visible": true,
      "include_colab_link": true
    },
    "kernelspec": {
      "name": "python3",
      "display_name": "Python 3"
    }
  },
  "cells": [
    {
      "cell_type": "markdown",
      "metadata": {
        "id": "view-in-github",
        "colab_type": "text"
      },
      "source": [
        "<a href=\"https://colab.research.google.com/github/hongqin/Python-CoLab-bootcamp/blob/master/python_basics.ipynb\" target=\"_parent\"><img src=\"https://colab.research.google.com/assets/colab-badge.svg\" alt=\"Open In Colab\"/></a>"
      ]
    },
    {
      "cell_type": "markdown",
      "metadata": {
        "id": "zbJ2fw29OHAX"
      },
      "source": [
        "Notebook prepared by Mathieu Blondel."
      ]
    },
    {
      "cell_type": "markdown",
      "metadata": {
        "id": "JbVT11Y8CbAu"
      },
      "source": [
        "# Welcome"
      ]
    },
    {
      "cell_type": "markdown",
      "metadata": {
        "id": "kw1B2R_WCU7X"
      },
      "source": [
        "We will learn about the programming language Python."
      ]
    },
    {
      "cell_type": "markdown",
      "metadata": {
        "id": "YV4sYCn8EPwb"
      },
      "source": [
        "# Notebooks"
      ]
    },
    {
      "cell_type": "markdown",
      "metadata": {
        "id": "2HuuwOcQEYQI"
      },
      "source": [
        "We will use Jupyter notebooks and Google colab as the primary way to practice machine learning. Notebooks are a great way to mix executable code with rich contents. Colab allows to run notebooks on the cloud for free without any prior installation, while leveraging the power of [GPUs](https://en.wikipedia.org/wiki/Graphics_processing_unit)."
      ]
    },
    {
      "cell_type": "markdown",
      "metadata": {
        "id": "t0XmMkPuGGOs"
      },
      "source": [
        "The document that you are reading is not a static web page, but an interactive environment called a notebook, that lets you write and execute code. Notebooks consist of so-called code cells, blocks of one or more Python instructions. For example, here is a code cell that stores the result of a computation (the number of seconds in a day) in a variable and prints its value:"
      ]
    },
    {
      "cell_type": "code",
      "metadata": {
        "id": "qeGAvLq1ALJ4",
        "colab": {
          "base_uri": "https://localhost:8080/"
        },
        "outputId": "e13e4af9-12de-4c1d-fab6-84538290c2f9"
      },
      "source": [
        "seconds_in_a_day = 24 * 60 * 60\n",
        "seconds_in_a_day"
      ],
      "execution_count": 1,
      "outputs": [
        {
          "output_type": "execute_result",
          "data": {
            "text/plain": [
              "86400"
            ]
          },
          "metadata": {},
          "execution_count": 1
        }
      ]
    },
    {
      "cell_type": "markdown",
      "metadata": {
        "id": "njoPs3q1G75-"
      },
      "source": [
        "Click on the \"play\" button to execute the cell. You should be able to see the result. Alternatively, you can also execute the cell by pressing Ctrl + Enter if you are on Windows / Linux or Command + Enter if you are on a Mac."
      ]
    },
    {
      "cell_type": "markdown",
      "metadata": {
        "id": "NvdYaBgHHdbw"
      },
      "source": [
        "Variables that you defined in one cell can later be used in other cells:"
      ]
    },
    {
      "cell_type": "code",
      "metadata": {
        "id": "s1kp5Zv0JBSx",
        "colab": {
          "base_uri": "https://localhost:8080/"
        },
        "outputId": "09264acf-4754-4eda-ea59-534eef559b46"
      },
      "source": [
        "seconds_in_a_week = 7 * seconds_in_a_day\n",
        "seconds_in_a_week"
      ],
      "execution_count": 2,
      "outputs": [
        {
          "output_type": "execute_result",
          "data": {
            "text/plain": [
              "604800"
            ]
          },
          "metadata": {},
          "execution_count": 2
        }
      ]
    },
    {
      "cell_type": "markdown",
      "metadata": {
        "id": "uALfY4q1JFQ0"
      },
      "source": [
        "Note that the order of execution is important. For instance, if we do not run the cell storing *seconds_in_a_day* beforehand, the above cell will raise an error, as it depends on this variable. To make sure that you run all the cells in the correct order, you can also click on \"Runtime\" in the top-level menu, then \"Run all\"."
      ]
    },
    {
      "cell_type": "markdown",
      "metadata": {
        "id": "HvXs_KaoRWQ9"
      },
      "source": [
        "**Exercise.** Add a cell below this cell: click on this cell then click on \"+ Code\". In the new cell, compute the number of seconds in a year by reusing the variable *seconds_in_a_day*. Run the new cell."
      ]
    },
    {
      "cell_type": "markdown",
      "metadata": {
        "id": "qyLSwlxnJqXX"
      },
      "source": [
        "# Python"
      ]
    },
    {
      "cell_type": "markdown",
      "metadata": {
        "id": "3ltwm91eJyQM"
      },
      "source": [
        "Python is one of the most popular programming languages for machine learning, both in academia and in industry. As such, it is essential to learn this language for anyone interested in machine learning. In this section, we will review Python basics."
      ]
    },
    {
      "cell_type": "markdown",
      "metadata": {
        "id": "3EKvP6jiMZ9H"
      },
      "source": [
        "## Arithmetic operations"
      ]
    },
    {
      "cell_type": "markdown",
      "metadata": {
        "id": "DDjs0-7YQ80h"
      },
      "source": [
        "Python supports the usual arithmetic operators: + (addition), * (multiplication), / (division), ** (power), // (integer division)."
      ]
    },
    {
      "cell_type": "markdown",
      "metadata": {
        "id": "UhcbBQUiStHG"
      },
      "source": [
        "## Lists"
      ]
    },
    {
      "cell_type": "markdown",
      "metadata": {
        "id": "RkPn1IjNTCxA"
      },
      "source": [
        "Lists are a container type for ordered sequences of elements. Lists can be initialized empty"
      ]
    },
    {
      "cell_type": "code",
      "metadata": {
        "id": "OrnV1ySAPtHp"
      },
      "source": [
        "my_list = []"
      ],
      "execution_count": 3,
      "outputs": []
    },
    {
      "cell_type": "markdown",
      "metadata": {
        "id": "OwRqyYI9XnPK"
      },
      "source": [
        "or with some initial elements"
      ]
    },
    {
      "cell_type": "code",
      "metadata": {
        "id": "Uq5YTJ1JXpOX"
      },
      "source": [
        "my_list = [1, 2, 3]"
      ],
      "execution_count": 4,
      "outputs": []
    },
    {
      "cell_type": "markdown",
      "metadata": {
        "id": "Hk2WmojJXyyz"
      },
      "source": [
        "Lists have a dynamic size and elements can be added (appended) to them"
      ]
    },
    {
      "cell_type": "code",
      "metadata": {
        "id": "QFTNqiYiXxAh",
        "colab": {
          "base_uri": "https://localhost:8080/"
        },
        "outputId": "0a5d2bdd-edbe-4a74-b97b-e5b3fadbd450"
      },
      "source": [
        "my_list.append(4)\n",
        "my_list"
      ],
      "execution_count": 5,
      "outputs": [
        {
          "output_type": "execute_result",
          "data": {
            "text/plain": [
              "[1, 2, 3, 4]"
            ]
          },
          "metadata": {},
          "execution_count": 5
        }
      ]
    },
    {
      "cell_type": "markdown",
      "metadata": {
        "id": "IUnJuqQ2Yhzw"
      },
      "source": [
        "We can access individual elements of a list (indexing starts from 0)"
      ]
    },
    {
      "cell_type": "code",
      "metadata": {
        "id": "pyFxyZPVYpG_",
        "colab": {
          "base_uri": "https://localhost:8080/"
        },
        "outputId": "1e9318b6-079a-44ed-b242-55142bfa71d4"
      },
      "source": [
        "my_list[2]"
      ],
      "execution_count": 6,
      "outputs": [
        {
          "output_type": "execute_result",
          "data": {
            "text/plain": [
              "3"
            ]
          },
          "metadata": {},
          "execution_count": 6
        }
      ]
    },
    {
      "cell_type": "markdown",
      "metadata": {
        "id": "hPMrIDYsdgMP"
      },
      "source": [
        "We can access \"slices\" of a list using `my_list[i:j]` where `i` is the start of the slice (again, indexing starts from 0) and `j` the end of the slice. For instance:"
      ]
    },
    {
      "cell_type": "code",
      "metadata": {
        "id": "Ichf9p0gd7tJ",
        "colab": {
          "base_uri": "https://localhost:8080/"
        },
        "outputId": "3b8701a2-c4cb-4641-edcc-a8ebbb79de3b"
      },
      "source": [
        "my_list[1:3]"
      ],
      "execution_count": 7,
      "outputs": [
        {
          "output_type": "execute_result",
          "data": {
            "text/plain": [
              "[2, 3]"
            ]
          },
          "metadata": {},
          "execution_count": 7
        }
      ]
    },
    {
      "cell_type": "markdown",
      "metadata": {
        "id": "KMbzH4tzQ9rI"
      },
      "source": [
        "Omitting the second index means that the slice shoud run until the end of the list"
      ]
    },
    {
      "cell_type": "code",
      "metadata": {
        "id": "O7wCthKnREKV",
        "colab": {
          "base_uri": "https://localhost:8080/"
        },
        "outputId": "e00b88f3-d4d2-4eb9-a818-5b768b08a36b"
      },
      "source": [
        "my_list[1:]"
      ],
      "execution_count": 8,
      "outputs": [
        {
          "output_type": "execute_result",
          "data": {
            "text/plain": [
              "[2, 3, 4]"
            ]
          },
          "metadata": {},
          "execution_count": 8
        }
      ]
    },
    {
      "cell_type": "markdown",
      "metadata": {
        "id": "C5Aeu7PUebrK"
      },
      "source": [
        "We can check if an element is in the list using `in`"
      ]
    },
    {
      "cell_type": "code",
      "metadata": {
        "id": "a_P5NCi-efvb",
        "colab": {
          "base_uri": "https://localhost:8080/"
        },
        "outputId": "c38f5948-9bbd-4492-f744-cb1e36f148bc"
      },
      "source": [
        "5 in my_list"
      ],
      "execution_count": 9,
      "outputs": [
        {
          "output_type": "execute_result",
          "data": {
            "text/plain": [
              "False"
            ]
          },
          "metadata": {},
          "execution_count": 9
        }
      ]
    },
    {
      "cell_type": "markdown",
      "metadata": {
        "id": "LypIsP5gkl10"
      },
      "source": [
        "The length of a list can be obtained using the `len` function"
      ]
    },
    {
      "cell_type": "code",
      "metadata": {
        "id": "ac0FMsaKkrWc",
        "colab": {
          "base_uri": "https://localhost:8080/"
        },
        "outputId": "d3398681-da3b-41d1-8463-8a0e1ec90325"
      },
      "source": [
        "len(my_list)"
      ],
      "execution_count": 10,
      "outputs": [
        {
          "output_type": "execute_result",
          "data": {
            "text/plain": [
              "4"
            ]
          },
          "metadata": {},
          "execution_count": 10
        }
      ]
    },
    {
      "cell_type": "markdown",
      "metadata": {
        "id": "1c3RLStf7G2I"
      },
      "source": [
        "## Strings"
      ]
    },
    {
      "cell_type": "markdown",
      "metadata": {
        "id": "Jm6hZhgz7KhI"
      },
      "source": [
        "Strings are used to store text. They can delimited using either single quotes or double quotes"
      ]
    },
    {
      "cell_type": "code",
      "metadata": {
        "id": "cCma6Oj_7T8n"
      },
      "source": [
        "string1 = \"some text\"\n",
        "string2 = 'some other text'"
      ],
      "execution_count": 11,
      "outputs": []
    },
    {
      "cell_type": "markdown",
      "metadata": {
        "id": "Irr4xuWu7Znu"
      },
      "source": [
        "Strings behave similarly to lists. As such we can access individual elements in exactly the same way"
      ]
    },
    {
      "cell_type": "code",
      "metadata": {
        "id": "26_POhLO7iM3",
        "colab": {
          "base_uri": "https://localhost:8080/",
          "height": 0
        },
        "outputId": "72bebf33-912f-4064-edd6-155773964e25"
      },
      "source": [
        "string1[3]"
      ],
      "execution_count": 12,
      "outputs": [
        {
          "output_type": "execute_result",
          "data": {
            "text/plain": [
              "'e'"
            ],
            "application/vnd.google.colaboratory.intrinsic+json": {
              "type": "string"
            }
          },
          "metadata": {},
          "execution_count": 12
        }
      ]
    },
    {
      "cell_type": "markdown",
      "metadata": {
        "id": "oA_UD0JV7oPw"
      },
      "source": [
        "and similarly for slices"
      ]
    },
    {
      "cell_type": "code",
      "metadata": {
        "id": "dcZFcLqQ7qCe",
        "colab": {
          "base_uri": "https://localhost:8080/",
          "height": 0
        },
        "outputId": "60e933ba-e296-4f23-e6a3-ca2a7c3cdf41"
      },
      "source": [
        "string1[5:]"
      ],
      "execution_count": 13,
      "outputs": [
        {
          "output_type": "execute_result",
          "data": {
            "text/plain": [
              "'text'"
            ],
            "application/vnd.google.colaboratory.intrinsic+json": {
              "type": "string"
            }
          },
          "metadata": {},
          "execution_count": 13
        }
      ]
    },
    {
      "cell_type": "markdown",
      "metadata": {
        "id": "hOQ_CIiu76YG"
      },
      "source": [
        "String concatenation is performed using the `+` operator"
      ]
    },
    {
      "cell_type": "code",
      "metadata": {
        "id": "mxqNMKCY79_W",
        "colab": {
          "base_uri": "https://localhost:8080/",
          "height": 0
        },
        "outputId": "0e8fee83-a1ca-4d3f-bdf5-36faf7392c05"
      },
      "source": [
        "string1 + \" \" + string2"
      ],
      "execution_count": 14,
      "outputs": [
        {
          "output_type": "execute_result",
          "data": {
            "text/plain": [
              "'some text some other text'"
            ],
            "application/vnd.google.colaboratory.intrinsic+json": {
              "type": "string"
            }
          },
          "metadata": {},
          "execution_count": 14
        }
      ]
    },
    {
      "cell_type": "markdown",
      "metadata": {
        "id": "7Lox2GZCMdIB"
      },
      "source": [
        "## Conditionals"
      ]
    },
    {
      "cell_type": "markdown",
      "metadata": {
        "id": "-gXEAWFZfDTT"
      },
      "source": [
        "As their name indicates, conditionals are a way to execute code depending on whether a condition is True or False. As in other languages, Python supports `if` and `else` but `else if` is contracted into `elif`, as the example below demonstrates. "
      ]
    },
    {
      "cell_type": "code",
      "metadata": {
        "id": "xC_DMZjofoYZ",
        "colab": {
          "base_uri": "https://localhost:8080/"
        },
        "outputId": "f8953cfe-097e-4ea0-f0e8-961bbb8b2608"
      },
      "source": [
        "my_variable = 5\n",
        "if my_variable < 0:\n",
        "  print(\"negative\")\n",
        "elif my_variable == 0:\n",
        "  print(\"null\")\n",
        "else: # my_variable > 0\n",
        "  print(\"positive\")"
      ],
      "execution_count": 15,
      "outputs": [
        {
          "output_type": "stream",
          "name": "stdout",
          "text": [
            "positive\n"
          ]
        }
      ]
    },
    {
      "cell_type": "markdown",
      "metadata": {
        "id": "Ag0SUokSf9jl"
      },
      "source": [
        "Here `<` and `>` are the strict `less` and `greater than` operators, while `==` is the equality operator (not to be confused with `=`, the variable assignment operator). The operators `<=` and `>=` can be used for less (resp. greater) than or equal comparisons."
      ]
    },
    {
      "cell_type": "markdown",
      "metadata": {
        "id": "qTkQ2F_jy8wz"
      },
      "source": [
        "Contrary to other languages, blocks of code are delimited using indentation. Here, we use 2-space indentation but many programmers also use 4-space indentation. Any one is fine as long as you are consistent throughout your code."
      ]
    },
    {
      "cell_type": "markdown",
      "metadata": {
        "id": "clWaFCzBMfkv"
      },
      "source": [
        "## Loops"
      ]
    },
    {
      "cell_type": "markdown",
      "metadata": {
        "id": "_A5doqhTivWe"
      },
      "source": [
        "Loops are a way to execute a block of code multiple times. There are two main types of loops: while loops and for loops."
      ]
    },
    {
      "cell_type": "markdown",
      "metadata": {
        "id": "YN8lwTxQkGEa"
      },
      "source": [
        "While loop"
      ]
    },
    {
      "cell_type": "code",
      "metadata": {
        "id": "7-QXGqgOjsr_",
        "colab": {
          "base_uri": "https://localhost:8080/"
        },
        "outputId": "5d5b30c9-4252-40dc-cfed-ac7abe7bc0e6"
      },
      "source": [
        "i = 0\n",
        "while i < len(my_list):\n",
        "  print(my_list[i])\n",
        "  i += 1 # equivalent to i = i + 1"
      ],
      "execution_count": 16,
      "outputs": [
        {
          "output_type": "stream",
          "name": "stdout",
          "text": [
            "1\n",
            "2\n",
            "3\n",
            "4\n"
          ]
        }
      ]
    },
    {
      "cell_type": "markdown",
      "metadata": {
        "id": "8mEI_ocfkSvZ"
      },
      "source": [
        "For loop"
      ]
    },
    {
      "cell_type": "code",
      "metadata": {
        "id": "2QObx5mckMcI",
        "colab": {
          "base_uri": "https://localhost:8080/"
        },
        "outputId": "ed5f3969-ef5e-473a-bb65-dc5f1fd6e886"
      },
      "source": [
        "for i in range(len(my_list)):\n",
        "  print(my_list[i])"
      ],
      "execution_count": 17,
      "outputs": [
        {
          "output_type": "stream",
          "name": "stdout",
          "text": [
            "1\n",
            "2\n",
            "3\n",
            "4\n"
          ]
        }
      ]
    },
    {
      "cell_type": "markdown",
      "metadata": {
        "id": "XO6qqppikZvm"
      },
      "source": [
        "If the goal is simply to iterate over a list, we can do so directly as follows"
      ]
    },
    {
      "cell_type": "code",
      "metadata": {
        "id": "PjFKzN6zkeJ7",
        "colab": {
          "base_uri": "https://localhost:8080/"
        },
        "outputId": "7c9b0900-04b6-4401-f5e4-82058d92c171"
      },
      "source": [
        "for element in my_list:\n",
        "  print(element)"
      ],
      "execution_count": 18,
      "outputs": [
        {
          "output_type": "stream",
          "name": "stdout",
          "text": [
            "1\n",
            "2\n",
            "3\n",
            "4\n"
          ]
        }
      ]
    },
    {
      "cell_type": "markdown",
      "metadata": {
        "id": "Cck4zwYrex02"
      },
      "source": [
        "## Functions"
      ]
    },
    {
      "cell_type": "markdown",
      "metadata": {
        "id": "n1PbIf_ohxFO"
      },
      "source": [
        "To improve code readability, it is common to separate the code into different blocks, responsible for performing precise actions: functions. A function takes some inputs and process them to return some outputs."
      ]
    },
    {
      "cell_type": "code",
      "metadata": {
        "id": "cImA09gOhRmx",
        "colab": {
          "base_uri": "https://localhost:8080/"
        },
        "outputId": "5ac89b19-22f2-4807-dc2a-1d75257d6e73"
      },
      "source": [
        "def square(x):\n",
        "  return x ** 2\n",
        "\n",
        "def multiply(a, b):\n",
        "  return a * b\n",
        "\n",
        "# Functions can be composed.\n",
        "square(multiply(3, 2))"
      ],
      "execution_count": 19,
      "outputs": [
        {
          "output_type": "execute_result",
          "data": {
            "text/plain": [
              "36"
            ]
          },
          "metadata": {},
          "execution_count": 19
        }
      ]
    },
    {
      "cell_type": "markdown",
      "metadata": {
        "id": "75-5SOk9iYSt"
      },
      "source": [
        "To improve code readability, it is sometimes useful to explicitly name the arguments"
      ]
    },
    {
      "cell_type": "code",
      "metadata": {
        "id": "wkIUuZHhidI0",
        "colab": {
          "base_uri": "https://localhost:8080/"
        },
        "outputId": "ec5312dc-2e4a-42a6-f0ad-7dcd55497192"
      },
      "source": [
        "square(multiply(a=3, b=2))"
      ],
      "execution_count": 20,
      "outputs": [
        {
          "output_type": "execute_result",
          "data": {
            "text/plain": [
              "36"
            ]
          },
          "metadata": {},
          "execution_count": 20
        }
      ]
    },
    {
      "cell_type": "markdown",
      "metadata": {
        "id": "LkpwbQEVMys2"
      },
      "source": [
        "## Exercises"
      ]
    },
    {
      "cell_type": "markdown",
      "metadata": {
        "id": "ASpVhol9ZXI0"
      },
      "source": [
        "**Exercise 1.** Using a conditional, write the [relu](https://en.wikipedia.org/wiki/Rectifier_(neural_networks)) function defined as follows\n",
        "\n",
        "$\\text{relu}(x) = \\left\\{\n",
        "   \\begin{array}{rl}\n",
        "     x, & \\text{if }  x \\ge 0 \\\\\n",
        "     0, & \\text{otherwise }.\n",
        "   \\end{array}\\right.$"
      ]
    },
    {
      "cell_type": "code",
      "metadata": {
        "id": "jlgyu65SaUvr"
      },
      "source": [
        "def relu(x):\n",
        "  # Write your function here\n",
        "  return\n",
        "\n",
        "relu(-3)"
      ],
      "execution_count": 21,
      "outputs": []
    },
    {
      "cell_type": "markdown",
      "metadata": {
        "id": "Y3so0ceoakIw"
      },
      "source": [
        "**Exercise 2.** Using a foor loop, write a function that computes the [Euclidean norm](https://en.wikipedia.org/wiki/Norm_(mathematics)#Euclidean_norm) of a vector, represented as a list."
      ]
    },
    {
      "cell_type": "code",
      "metadata": {
        "id": "-IH-BD41bI1u"
      },
      "source": [
        "def euclidean_norm(vector):\n",
        "  # Write your function here\n",
        "  return\n",
        "\n",
        "import numpy as np\n",
        "my_vector = [0.5, -1.2, 3.3, 4.5]\n",
        "# The result should be roughly 5.729746940310715\n",
        "euclidean_norm(my_vector)"
      ],
      "execution_count": 22,
      "outputs": []
    },
    {
      "cell_type": "markdown",
      "metadata": {
        "id": "SEXIh_e9cW3S"
      },
      "source": [
        "**Exercise 3.** Using a for loop and a conditional, write a function that returns the maximum value in a vector."
      ]
    },
    {
      "cell_type": "code",
      "metadata": {
        "id": "zd9ntMq0cb2e"
      },
      "source": [
        "def vector_maximum(vector):\n",
        "  # Write your function here\n",
        "  return"
      ],
      "execution_count": 23,
      "outputs": []
    },
    {
      "cell_type": "markdown",
      "metadata": {
        "id": "qPAZA4OMc6sT"
      },
      "source": [
        "**Bonus exercise.** if time permits, write a function that sorts a list in ascending order (from smaller to bigger) using the [bubble sort](https://en.wikipedia.org/wiki/Bubble_sort) algorithm."
      ]
    },
    {
      "cell_type": "code",
      "metadata": {
        "id": "sBokdJO4dGyf"
      },
      "source": [
        "def bubble_sort(my_list):\n",
        "  # Write your function here\n",
        "  return\n",
        "\n",
        "my_list = [1, -3, 3, 2]\n",
        "# Should return [-3, 1, 2, 3]\n",
        "bubble_sort(my_list)"
      ],
      "execution_count": 24,
      "outputs": []
    },
    {
      "cell_type": "markdown",
      "metadata": {
        "id": "jDxjvtEEM1vg"
      },
      "source": [
        "## Going further"
      ]
    },
    {
      "cell_type": "markdown",
      "metadata": {
        "id": "wRkmvzf-PdEp"
      },
      "source": [
        "Clearly, it is impossible to cover all the language features in this short introduction. To go further, we recommend the following resources:"
      ]
    },
    {
      "cell_type": "markdown",
      "metadata": {
        "id": "n8nbPoWclRlH"
      },
      "source": [
        "\n",
        "\n",
        "*   List of Python [tutorials](https://wiki.python.org/moin/BeginnersGuide/Programmers)\n",
        "* Four-hour [course](https://www.youtube.com/watch?v=rfscVS0vtbw) on Youtube\n",
        "\n"
      ]
    },
    {
      "cell_type": "markdown",
      "source": [
        "# Acknowledgement \n",
        "Modified from materials prepared by Mathieu Blondel."
      ],
      "metadata": {
        "id": "_e-mgPS63j9G"
      }
    },
    {
      "cell_type": "code",
      "source": [
        ""
      ],
      "metadata": {
        "id": "E_SHs7HZ3mtG"
      },
      "execution_count": 24,
      "outputs": []
    }
  ]
}