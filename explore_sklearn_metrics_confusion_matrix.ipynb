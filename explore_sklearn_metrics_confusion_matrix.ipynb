{
  "nbformat": 4,
  "nbformat_minor": 0,
  "metadata": {
    "colab": {
      "name": "explore_sklearn_metrics_confusion_matrix.ipynb",
      "provenance": [],
      "authorship_tag": "ABX9TyPqKYPc0Lt8oF5JhZ8IJakZ",
      "include_colab_link": true
    },
    "kernelspec": {
      "name": "python3",
      "display_name": "Python 3"
    },
    "language_info": {
      "name": "python"
    }
  },
  "cells": [
    {
      "cell_type": "markdown",
      "metadata": {
        "id": "view-in-github",
        "colab_type": "text"
      },
      "source": [
        "<a href=\"https://colab.research.google.com/github/hongqin/python-covid19-analysis-sandbox/blob/master/explore_sklearn_metrics_confusion_matrix.ipynb\" target=\"_parent\"><img src=\"https://colab.research.google.com/assets/colab-badge.svg\" alt=\"Open In Colab\"/></a>"
      ]
    },
    {
      "cell_type": "code",
      "execution_count": 7,
      "metadata": {
        "id": "jUn5JVSWT2BT"
      },
      "outputs": [],
      "source": [
        "from sklearn.metrics import *"
      ]
    },
    {
      "cell_type": "code",
      "source": [
        "y_true = [3, 3, 3, 2, 1, 2, 1]\n",
        "y_pred = [3, 2, 3, 2, 1, 1, 1]\n",
        "m = confusion_matrix(y_true, y_pred)\n",
        "print(m)"
      ],
      "metadata": {
        "colab": {
          "base_uri": "https://localhost:8080/"
        },
        "id": "dstu92vCT5fB",
        "outputId": "08a774ee-410d-44f1-e9cb-5cd5c7094939"
      },
      "execution_count": 8,
      "outputs": [
        {
          "output_type": "stream",
          "name": "stdout",
          "text": [
            "[[2 0 0]\n",
            " [1 1 0]\n",
            " [0 1 2]]\n"
          ]
        }
      ]
    },
    {
      "cell_type": "code",
      "source": [
        "y_true = [3, 3, 3, 2, 11, 2, 11, 11, 11, 11]\n",
        "y_pred = [3, 2, 3, 2, 2, 2,  11,  3,  11, 11]\n",
        "m = confusion_matrix(y_true, y_pred)\n",
        "print(m)"
      ],
      "metadata": {
        "colab": {
          "base_uri": "https://localhost:8080/"
        },
        "id": "PlnFOcvRUHnR",
        "outputId": "d353a96d-7df7-42f3-f911-2c1c4447a797"
      },
      "execution_count": 9,
      "outputs": [
        {
          "output_type": "stream",
          "name": "stdout",
          "text": [
            "[[2 0 0]\n",
            " [1 2 0]\n",
            " [1 1 3]]\n"
          ]
        }
      ]
    },
    {
      "cell_type": "code",
      "source": [
        "y_true = ['b', 'c', 'a', 'b', 'b', 'c', 'c', 'c']\n",
        "y_pred = ['c', 'a', 'a', 'a', 'b', 'c', 'c', 'c']\n",
        "print(set(y_true))\n",
        "print(set(y_pred))\n",
        "m = confusion_matrix(y_true, y_pred)\n",
        "print(m)"
      ],
      "metadata": {
        "colab": {
          "base_uri": "https://localhost:8080/"
        },
        "id": "4CveHixoUZ2a",
        "outputId": "bad64e3e-96da-41e0-b6c7-2ea3eda136d1"
      },
      "execution_count": 10,
      "outputs": [
        {
          "output_type": "stream",
          "name": "stdout",
          "text": [
            "{'b', 'a', 'c'}\n",
            "{'b', 'a', 'c'}\n",
            "[[1 0 0]\n",
            " [1 1 1]\n",
            " [1 0 3]]\n"
          ]
        }
      ]
    },
    {
      "cell_type": "code",
      "source": [
        "accuracy_score(y_true, y_pred)"
      ],
      "metadata": {
        "colab": {
          "base_uri": "https://localhost:8080/"
        },
        "id": "VnkAOdPEbSaz",
        "outputId": "360b0709-0795-4028-cc2f-47fc39c127e2"
      },
      "execution_count": 11,
      "outputs": [
        {
          "output_type": "execute_result",
          "data": {
            "text/plain": [
              "0.625"
            ]
          },
          "metadata": {},
          "execution_count": 11
        }
      ]
    },
    {
      "cell_type": "code",
      "source": [
        "y_true = ['L', 'GH', 'S', 'O', 'G', 'GR', 'V','L', 'GH', 'S', 'O', 'G', 'GR', 'V','L', 'GH', 'S', 'O', 'G', 'GR', 'V' ]\n",
        "y_pred = ['O', 'GH', 'S', 'O', 'L', 'GR', 'V','L', 'GR', 'S', 'O', 'O', 'GR', 'V','L', 'GH', 'S', 'O', 'GR', 'GR', 'V' ]\n",
        "print(set(y_true))\n",
        "order = list(set(y_pred))\n",
        "order.sort()\n",
        "print(order)\n",
        "m = confusion_matrix(y_true, y_pred)\n",
        "print(m)"
      ],
      "metadata": {
        "id": "Mrgc_4hYjMu7",
        "outputId": "eda2bbce-1a3e-45f0-d369-c7b03ed1d88e",
        "colab": {
          "base_uri": "https://localhost:8080/"
        }
      },
      "execution_count": 22,
      "outputs": [
        {
          "output_type": "stream",
          "name": "stdout",
          "text": [
            "{'O', 'S', 'L', 'GH', 'G', 'GR', 'V'}\n",
            "['GH', 'GR', 'L', 'O', 'S', 'V']\n",
            "[[0 0 1 1 1 0 0]\n",
            " [0 2 1 0 0 0 0]\n",
            " [0 0 3 0 0 0 0]\n",
            " [0 0 0 2 1 0 0]\n",
            " [0 0 0 0 3 0 0]\n",
            " [0 0 0 0 0 3 0]\n",
            " [0 0 0 0 0 0 3]]\n"
          ]
        }
      ]
    },
    {
      "cell_type": "code",
      "source": [
        ""
      ],
      "metadata": {
        "id": "f9-QPaadjMxv"
      },
      "execution_count": null,
      "outputs": []
    },
    {
      "cell_type": "code",
      "source": [
        ""
      ],
      "metadata": {
        "id": "EA4n12NcjM1m"
      },
      "execution_count": null,
      "outputs": []
    }
  ]
}