{
  "nbformat": 4,
  "nbformat_minor": 0,
  "metadata": {
    "colab": {
      "name": "explore_sklearn_metrics_confusion_matrix.ipynb",
      "provenance": [],
      "authorship_tag": "ABX9TyM98wx8H5KZA0oZv/M1++S6",
      "include_colab_link": true
    },
    "kernelspec": {
      "name": "python3",
      "display_name": "Python 3"
    },
    "language_info": {
      "name": "python"
    }
  },
  "cells": [
    {
      "cell_type": "markdown",
      "metadata": {
        "id": "view-in-github",
        "colab_type": "text"
      },
      "source": [
        "<a href=\"https://colab.research.google.com/github/hongqin/python-covid19-analysis-sandbox/blob/master/explore_sklearn_metrics_confusion_matrix.ipynb\" target=\"_parent\"><img src=\"https://colab.research.google.com/assets/colab-badge.svg\" alt=\"Open In Colab\"/></a>"
      ]
    },
    {
      "cell_type": "code",
      "execution_count": 1,
      "metadata": {
        "id": "jUn5JVSWT2BT"
      },
      "outputs": [],
      "source": [
        "from sklearn.metrics import confusion_matrix"
      ]
    },
    {
      "cell_type": "code",
      "source": [
        "y_true = [3, 3, 3, 2, 1, 2, 1]\n",
        "y_pred = [3, 2, 3, 2, 1, 1, 1]\n",
        "m = confusion_matrix(y_true, y_pred)\n",
        "print(m)"
      ],
      "metadata": {
        "colab": {
          "base_uri": "https://localhost:8080/"
        },
        "id": "dstu92vCT5fB",
        "outputId": "4cdc2b55-ea06-494a-b55c-8141b577c280"
      },
      "execution_count": 4,
      "outputs": [
        {
          "output_type": "stream",
          "name": "stdout",
          "text": [
            "[[2 0 0]\n",
            " [1 1 0]\n",
            " [0 1 2]]\n"
          ]
        }
      ]
    },
    {
      "cell_type": "code",
      "source": [
        "y_true = [3, 3, 3, 2, 11, 2, 11, 11, 11, 11]\n",
        "y_pred = [3, 2, 3, 2, 2, 2,  11,  3,  11, 11]\n",
        "m = confusion_matrix(y_true, y_pred)\n",
        "print(m)"
      ],
      "metadata": {
        "colab": {
          "base_uri": "https://localhost:8080/"
        },
        "id": "PlnFOcvRUHnR",
        "outputId": "2cdd13b6-0784-4140-8b15-e88ac1f5605d"
      },
      "execution_count": 7,
      "outputs": [
        {
          "output_type": "stream",
          "name": "stdout",
          "text": [
            "[[2 0 0]\n",
            " [1 2 0]\n",
            " [1 1 3]]\n"
          ]
        }
      ]
    },
    {
      "cell_type": "code",
      "source": [
        "y_true = ['b', 'c', 'a', 'b', 'b', 'c', 'c', 'c']\n",
        "y_pred = ['c', 'a', 'a', 'a', 'b', 'c', 'c', 'c']\n",
        "print(set(y_true))\n",
        "print(set(y_pred))\n",
        "m = confusion_matrix(y_true, y_pred)\n",
        "print(m)"
      ],
      "metadata": {
        "colab": {
          "base_uri": "https://localhost:8080/"
        },
        "id": "4CveHixoUZ2a",
        "outputId": "619375dd-4e72-40e6-ddc7-39960aaaee12"
      },
      "execution_count": 11,
      "outputs": [
        {
          "output_type": "stream",
          "name": "stdout",
          "text": [
            "{'a', 'b', 'c'}\n",
            "{'a', 'b', 'c'}\n",
            "[[1 0 0]\n",
            " [1 1 1]\n",
            " [1 0 3]]\n"
          ]
        }
      ]
    }
  ]
}