{
  "cells": [
    {
      "cell_type": "markdown",
      "metadata": {
        "id": "view-in-github",
        "colab_type": "text"
      },
      "source": [
        "<a href=\"https://colab.research.google.com/github/hongqin/Python-CoLab-bootcamp/blob/master/align2snv.ipynb\" target=\"_parent\"><img src=\"https://colab.research.google.com/assets/colab-badge.svg\" alt=\"Open In Colab\"/></a>"
      ]
    },
    {
      "cell_type": "code",
      "execution_count": null,
      "metadata": {
        "id": "9FD2qRJsRZRP",
        "outputId": "750b4e1d-b818-48b3-f571-7a14fda09dae",
        "colab": {
          "base_uri": "https://localhost:8080/"
        }
      },
      "outputs": [
        {
          "output_type": "stream",
          "name": "stdout",
          "text": [
            "Looking in indexes: https://pypi.org/simple, https://us-python.pkg.dev/colab-wheels/public/simple/\n",
            "Collecting Bio\n",
            "  Downloading bio-1.4.0-py3-none-any.whl (270 kB)\n",
            "\u001b[K     |████████████████████████████████| 270 kB 5.1 MB/s \n",
            "\u001b[?25hCollecting mygene\n",
            "  Downloading mygene-3.2.2-py2.py3-none-any.whl (5.4 kB)\n",
            "Requirement already satisfied: requests in /usr/local/lib/python3.7/dist-packages (from Bio) (2.23.0)\n",
            "Requirement already satisfied: tqdm in /usr/local/lib/python3.7/dist-packages (from Bio) (4.64.1)\n",
            "Collecting biopython>=1.79\n",
            "  Downloading biopython-1.79-cp37-cp37m-manylinux_2_17_x86_64.manylinux2014_x86_64.whl (2.6 MB)\n",
            "\u001b[K     |████████████████████████████████| 2.6 MB 7.7 MB/s \n",
            "\u001b[?25hRequirement already satisfied: numpy in /usr/local/lib/python3.7/dist-packages (from biopython>=1.79->Bio) (1.21.6)\n",
            "Collecting biothings-client>=0.2.6\n",
            "  Downloading biothings_client-0.2.6-py2.py3-none-any.whl (37 kB)\n",
            "Requirement already satisfied: urllib3!=1.25.0,!=1.25.1,<1.26,>=1.21.1 in /usr/local/lib/python3.7/dist-packages (from requests->Bio) (1.24.3)\n",
            "Requirement already satisfied: idna<3,>=2.5 in /usr/local/lib/python3.7/dist-packages (from requests->Bio) (2.10)\n",
            "Requirement already satisfied: certifi>=2017.4.17 in /usr/local/lib/python3.7/dist-packages (from requests->Bio) (2022.9.24)\n",
            "Requirement already satisfied: chardet<4,>=3.0.2 in /usr/local/lib/python3.7/dist-packages (from requests->Bio) (3.0.4)\n",
            "Installing collected packages: biothings-client, mygene, biopython, Bio\n",
            "Successfully installed Bio-1.4.0 biopython-1.79 biothings-client-0.2.6 mygene-3.2.2\n"
          ]
        }
      ],
      "source": [
        "! pip install Bio"
      ]
    },
    {
      "cell_type": "code",
      "execution_count": null,
      "metadata": {
        "id": "lp8OlzabRZRQ",
        "outputId": "fd51de00-6817-4424-8838-1ecbce52421f",
        "colab": {
          "base_uri": "https://localhost:8080/"
        }
      },
      "outputs": [
        {
          "output_type": "execute_result",
          "data": {
            "text/plain": [
              "['.config', 'msa_0613.fasta', 'metadata.tsv', 'sample_data']"
            ]
          },
          "metadata": {},
          "execution_count": 3
        }
      ],
      "source": [
        "import os\n",
        "os.listdir()"
      ]
    },
    {
      "cell_type": "code",
      "execution_count": null,
      "metadata": {
        "id": "N8U9TvpzRZRR"
      },
      "outputs": [],
      "source": [
        "debug = 1"
      ]
    },
    {
      "cell_type": "code",
      "execution_count": null,
      "metadata": {
        "id": "52R0xXc_RZRR",
        "outputId": "edd64857-9127-4569-d975-c1a255f4322c",
        "colab": {
          "base_uri": "https://localhost:8080/"
        }
      },
      "outputs": [
        {
          "output_type": "stream",
          "name": "stdout",
          "text": [
            "There are  1247 FASTA records\n"
          ]
        }
      ],
      "source": [
        "from Bio import SeqIO\n",
        "records = list(SeqIO.parse(\"msa_0613.fasta\", \"fasta\"))\n",
        "Total_number_of_strains = len(records)\n",
        "print(\"There are \", Total_number_of_strains, \"FASTA records\")"
      ]
    },
    {
      "cell_type": "code",
      "execution_count": null,
      "metadata": {
        "id": "rAQ-4O9iRZRR",
        "outputId": "e150c044-9bed-4dfd-f942-54645413c1d4",
        "colab": {
          "base_uri": "https://localhost:8080/"
        }
      },
      "outputs": [
        {
          "output_type": "stream",
          "name": "stdout",
          "text": [
            "After trimming, there are  100 FASTA records\n"
          ]
        }
      ],
      "source": [
        "if debug > 0:\n",
        "    records = records[:100]\n",
        "    Total_number_of_strains = len(records)\n",
        "    print(\"After trimming, there are \", Total_number_of_strains, \"FASTA records\")\n",
        "    "
      ]
    },
    {
      "cell_type": "code",
      "execution_count": null,
      "metadata": {
        "id": "5yqp76tMRZRS",
        "outputId": "830235cc-17c2-41b0-925f-1f0abe4cbf7f",
        "colab": {
          "base_uri": "https://localhost:8080/"
        }
      },
      "outputs": [
        {
          "output_type": "stream",
          "name": "stdout",
          "text": [
            "hCoV-19/Wuhan/WIV04/2019|EPI_ISL_402124|2019-12-30|China\n",
            "48740\n",
            "----------\n"
          ]
        }
      ],
      "source": [
        "print(records[0].id)  # first record\n",
        "print(len(records[0].seq))  # first record\n",
        "print(records[0].seq[1020:1030])  # first record"
      ]
    },
    {
      "cell_type": "code",
      "execution_count": null,
      "metadata": {
        "id": "L8wYW8osRZRS",
        "outputId": "0c22a739-d55e-4c8f-80d3-d40905c7f1d0",
        "colab": {
          "base_uri": "https://localhost:8080/"
        }
      },
      "outputs": [
        {
          "output_type": "execute_result",
          "data": {
            "text/plain": [
              "[SeqRecord(seq=Seq('------------------------------------------------------...---'), id='hCoV-19/Wuhan/WIV04/2019|EPI_ISL_402124|2019-12-30|China', name='hCoV-19/Wuhan/WIV04/2019|EPI_ISL_402124|2019-12-30|China', description='hCoV-19/Wuhan/WIV04/2019|EPI_ISL_402124|2019-12-30|China', dbxrefs=[]),\n",
              " SeqRecord(seq=Seq('------------------------------------------------------...---'), id='hCoV-19/USA/NY-NYUMC389/2020|EPI_ISL_430416|2020-04-13|NorthAmerica', name='hCoV-19/USA/NY-NYUMC389/2020|EPI_ISL_430416|2020-04-13|NorthAmerica', description='hCoV-19/USA/NY-NYUMC389/2020|EPI_ISL_430416|2020-04-13|NorthAmerica', dbxrefs=[]),\n",
              " SeqRecord(seq=Seq('------------------------------------------------------...---'), id='hCoV-19/Poland/PL_P27/2020|EPI_ISL_455440|2020-03-27|Europe', name='hCoV-19/Poland/PL_P27/2020|EPI_ISL_455440|2020-03-27|Europe', description='hCoV-19/Poland/PL_P27/2020|EPI_ISL_455440|2020-03-27|Europe', dbxrefs=[])]"
            ]
          },
          "metadata": {},
          "execution_count": 12
        }
      ],
      "source": [
        "records[0:3]"
      ]
    },
    {
      "cell_type": "code",
      "execution_count": null,
      "metadata": {
        "id": "0xKHuEVMRZRS"
      },
      "outputs": [],
      "source": [
        "from collections import Counter\n",
        "\n",
        "def get_nucleotid_count_dict( position_in, records_in): \n",
        "    seq_buf_in = ''\n",
        "    for i in range(len(records_in)):\n",
        "        seq_buf_in = seq_buf_in + records[i].seq[position_in:(position_in+1)]\n",
        "        #print(records[i].seq[pos:(pos+1)])\n",
        "    d_in = dict( Counter(seq_buf_in))  # convert to dictionary\n",
        "    print(\"position_in\", position_in, \"d_in\", d_in )\n",
        "    return (d_in)"
      ]
    },
    {
      "cell_type": "code",
      "execution_count": null,
      "metadata": {
        "id": "Ua9jgfrWRZRS",
        "outputId": "0aed7587-32b3-4112-9e6b-42b769d883cf",
        "colab": {
          "base_uri": "https://localhost:8080/"
        }
      },
      "outputs": [
        {
          "output_type": "stream",
          "name": "stdout",
          "text": [
            "position_in 3600 d_in {'C': 100}\n",
            "position_in 3601 d_in {'G': 100}\n",
            "position_in 3602 d_in {'G': 100}\n",
            "position_in 3603 d_in {'G': 100}\n",
            "position_in 3604 d_in {'C': 100}\n",
            "position_in 3605 d_in {'G': 100}\n",
            "position_in 3606 d_in {'A': 100}\n",
            "position_in 3607 d_in {'T': 100}\n",
            "position_in 3608 d_in {'T': 100}\n",
            "position_in 3609 d_in {'T': 100}\n",
            "position_in 3610 d_in {'T': 100}\n",
            "position_in 3611 d_in {'G': 100}\n",
            "position_in 3612 d_in {'T': 100}\n",
            "position_in 3613 d_in {'T': 100}\n",
            "position_in 3614 d_in {'A': 100}\n",
            "position_in 3615 d_in {'A': 100}\n",
            "position_in 3616 d_in {'A': 100}\n",
            "position_in 3617 d_in {'G': 100}\n",
            "position_in 3618 d_in {'C': 100}\n",
            "position_in 3619 d_in {'C': 100}\n",
            "position_in 3620 d_in {'A': 100}\n",
            "position_in 3621 d_in {'C': 100}\n",
            "position_in 3622 d_in {'T': 100}\n",
            "position_in 3623 d_in {'T': 100}\n",
            "position_in 3624 d_in {'G': 100}\n",
            "position_in 3625 d_in {'C': 100}\n",
            "position_in 3626 d_in {'G': 100}\n",
            "position_in 3627 d_in {'A': 100}\n",
            "position_in 3628 d_in {'A': 100}\n",
            "position_in 3629 d_in {'T': 100}\n",
            "position_in 3630 d_in {'T': 100}\n",
            "position_in 3631 d_in {'T': 100}\n",
            "position_in 3632 d_in {'T': 100}\n",
            "position_in 3633 d_in {'G': 100}\n",
            "position_in 3634 d_in {'T': 100}\n",
            "position_in 3635 d_in {'G': 100}\n",
            "position_in 3636 d_in {'G': 100}\n",
            "position_in 3637 d_in {'C': 100}\n",
            "position_in 3638 d_in {'A': 100}\n",
            "position_in 3639 d_in {'C': 99, 'T': 1}\n",
            "position_in 3640 d_in {'T': 100}\n",
            "position_in 3641 d_in {'G': 100}\n",
            "position_in 3642 d_in {'A': 100}\n",
            "position_in 3643 d_in {'G': 100}\n",
            "position_in 3644 d_in {'A': 100}\n",
            "position_in 3645 d_in {'A': 100}\n",
            "position_in 3646 d_in {'T': 100}\n",
            "position_in 3647 d_in {'T': 100}\n",
            "position_in 3648 d_in {'T': 100}\n",
            "position_in 3649 d_in {'G': 99, 'N': 1}\n",
            "position_in 3650 d_in {'A': 98, 'N': 2}\n",
            "position_in 3651 d_in {'C': 98, 'N': 2}\n",
            "position_in 3652 d_in {'T': 98, 'N': 2}\n",
            "position_in 3653 d_in {'A': 98, 'N': 2}\n",
            "position_in 3654 d_in {'A': 98, 'N': 2}\n",
            "position_in 3655 d_in {'A': 98, 'N': 2}\n",
            "position_in 3656 d_in {'G': 98, 'N': 2}\n",
            "position_in 3657 d_in {'A': 98, 'N': 2}\n",
            "position_in 3658 d_in {'A': 98, 'N': 2}\n",
            "position_in 3659 d_in {'G': 98, 'N': 2}\n",
            "position_in 3660 d_in {'G': 98, 'N': 2}\n",
            "position_in 3661 d_in {'T': 98, 'N': 2}\n",
            "position_in 3662 d_in {'G': 98, 'N': 2}\n",
            "position_in 3663 d_in {'C': 98, 'N': 2}\n",
            "position_in 3664 d_in {'C': 98, 'N': 2}\n",
            "position_in 3665 d_in {'A': 98, 'N': 2}\n",
            "position_in 3666 d_in {'C': 98, 'N': 2}\n",
            "position_in 3667 d_in {'T': 98, 'N': 2}\n",
            "position_in 3668 d_in {'A': 98, 'N': 2}\n",
            "position_in 3669 d_in {'C': 98, 'N': 2}\n",
            "position_in 3670 d_in {'T': 98, 'N': 2}\n",
            "position_in 3671 d_in {'T': 98, 'N': 2}\n",
            "position_in 3672 d_in {'G': 98, 'N': 2}\n",
            "position_in 3673 d_in {'T': 98, 'N': 2}\n",
            "position_in 3674 d_in {'G': 98, 'N': 2}\n",
            "position_in 3675 d_in {'G': 99, 'N': 1}\n",
            "position_in 3676 d_in {'T': 99, 'N': 1}\n",
            "position_in 3677 d_in {'T': 99, 'N': 1}\n",
            "position_in 3678 d_in {'A': 99, 'N': 1}\n",
            "position_in 3679 d_in {'C': 99, 'N': 1}\n",
            "position_in 3680 d_in {'T': 99, 'N': 1}\n",
            "position_in 3681 d_in {'T': 99, 'N': 1}\n",
            "position_in 3682 d_in {'A': 99, 'N': 1}\n",
            "position_in 3683 d_in {'C': 99, 'N': 1}\n",
            "position_in 3684 d_in {'C': 99, 'N': 1}\n",
            "position_in 3685 d_in {'C': 98, 'T': 1, 'N': 1}\n",
            "position_in 3686 d_in {'C': 99, 'N': 1}\n",
            "position_in 3687 d_in {'-': 100}\n",
            "position_in 3688 d_in {'A': 99, 'N': 1}\n",
            "position_in 3689 d_in {'A': 99, 'N': 1}\n",
            "position_in 3690 d_in {'A': 99, 'N': 1}\n",
            "position_in 3691 d_in {'A': 99, 'N': 1}\n",
            "position_in 3692 d_in {'T': 99, 'N': 1}\n",
            "position_in 3693 d_in {'G': 99, 'N': 1}\n",
            "position_in 3694 d_in {'C': 99, 'N': 1}\n",
            "position_in 3695 d_in {'T': 99, 'N': 1}\n",
            "position_in 3696 d_in {'G': 99, 'N': 1}\n",
            "position_in 3697 d_in {'T': 99, 'N': 1}\n",
            "position_in 3698 d_in {'T': 99, 'N': 1}\n",
            "position_in 3699 d_in {'G': 100}\n",
            "position_in 3700 d_in {'T': 100}\n",
            "position_in 3701 d_in {'T': 100}\n",
            "position_in 3702 d_in {'A': 100}\n",
            "position_in 3703 d_in {'A': 100}\n",
            "position_in 3704 d_in {'A': 100}\n",
            "position_in 3705 d_in {'A': 100}\n",
            "position_in 3706 d_in {'T': 99, 'C': 1}\n",
            "position_in 3707 d_in {'T': 100}\n",
            "position_in 3708 d_in {'T': 100}\n",
            "position_in 3709 d_in {'A': 100}\n",
            "position_in 3710 d_in {'T': 100}\n",
            "position_in 3711 d_in {'T': 100}\n",
            "position_in 3712 d_in {'G': 100}\n",
            "position_in 3713 d_in {'T': 100}\n",
            "position_in 3714 d_in {'C': 100}\n",
            "position_in 3715 d_in {'C': 100}\n",
            "position_in 3716 d_in {'A': 100}\n",
            "position_in 3717 d_in {'G': 100}\n",
            "position_in 3718 d_in {'C': 100}\n",
            "position_in 3719 d_in {'A': 100}\n",
            "position_in 3720 d_in {'T': 100}\n",
            "position_in 3721 d_in {'G': 100}\n",
            "position_in 3722 d_in {'T': 100}\n",
            "position_in 3723 d_in {'C': 100}\n",
            "position_in 3724 d_in {'A': 100}\n",
            "position_in 3725 d_in {'C': 100}\n",
            "position_in 3726 d_in {'A': 100}\n",
            "position_in 3727 d_in {'A': 100}\n",
            "position_in 3728 d_in {'T': 100}\n",
            "position_in 3729 d_in {'T': 100}\n",
            "position_in 3730 d_in {'C': 100}\n",
            "position_in 3731 d_in {'A': 100}\n",
            "position_in 3732 d_in {'G': 100}\n",
            "position_in 3733 d_in {'A': 100}\n",
            "position_in 3734 d_in {'A': 100}\n",
            "position_in 3735 d_in {'G': 99, 'A': 1}\n",
            "position_in 3736 d_in {'T': 100}\n",
            "position_in 3737 d_in {'A': 100}\n",
            "position_in 3738 d_in {'G': 100}\n",
            "position_in 3739 d_in {'G': 100}\n",
            "position_in 3740 d_in {'A': 100}\n",
            "position_in 3741 d_in {'C': 100}\n",
            "position_in 3742 d_in {'C': 100}\n",
            "position_in 3743 d_in {'T': 100}\n",
            "position_in 3744 d_in {'G': 100}\n",
            "position_in 3745 d_in {'A': 100}\n",
            "position_in 3746 d_in {'G': 100}\n",
            "position_in 3747 d_in {'C': 100}\n",
            "position_in 3748 d_in {'A': 100}\n",
            "position_in 3749 d_in {'T': 100}\n",
            "position_in 3750 d_in {'A': 100}\n",
            "position_in 3751 d_in {'G': 100}\n",
            "position_in 3752 d_in {'T': 100}\n",
            "position_in 3753 d_in {'C': 100}\n",
            "position_in 3754 d_in {'T': 100}\n",
            "position_in 3755 d_in {'T': 100}\n",
            "position_in 3756 d_in {'G': 100}\n",
            "position_in 3757 d_in {'C': 100}\n",
            "position_in 3758 d_in {'C': 100}\n",
            "position_in 3759 d_in {'G': 100}\n",
            "position_in 3760 d_in {'A': 100}\n",
            "position_in 3761 d_in {'A': 100}\n",
            "position_in 3762 d_in {'T': 100}\n",
            "position_in 3763 d_in {'A': 100}\n",
            "position_in 3764 d_in {'C': 100}\n",
            "position_in 3765 d_in {'C': 99, 'T': 1}\n",
            "position_in 3766 d_in {'A': 100}\n",
            "position_in 3767 d_in {'T': 100}\n",
            "position_in 3768 d_in {'A': 100}\n",
            "position_in 3769 d_in {'A': 100}\n",
            "position_in 3770 d_in {'T': 100}\n",
            "position_in 3771 d_in {'G': 100}\n",
            "position_in 3772 d_in {'A': 100}\n",
            "position_in 3773 d_in {'A': 100}\n",
            "position_in 3774 d_in {'T': 100}\n",
            "position_in 3775 d_in {'C': 100}\n",
            "position_in 3776 d_in {'T': 100}\n",
            "position_in 3777 d_in {'G': 100}\n",
            "position_in 3778 d_in {'G': 98, 'A': 2}\n",
            "position_in 3779 d_in {'C': 100}\n",
            "position_in 3780 d_in {'T': 100}\n",
            "position_in 3781 d_in {'T': 100}\n",
            "position_in 3782 d_in {'G': 100}\n",
            "position_in 3783 d_in {'A': 100}\n",
            "position_in 3784 d_in {'A': 100}\n",
            "position_in 3785 d_in {'A': 100}\n",
            "position_in 3786 d_in {'A': 100}\n",
            "position_in 3787 d_in {'C': 100}\n",
            "position_in 3788 d_in {'C': 100}\n",
            "position_in 3789 d_in {'A': 100}\n",
            "position_in 3790 d_in {'T': 100}\n",
            "position_in 3791 d_in {'T': 100}\n",
            "position_in 3792 d_in {'C': 100}\n",
            "position_in 3793 d_in {'T': 100}\n",
            "position_in 3794 d_in {'T': 100}\n",
            "position_in 3795 d_in {'C': 100}\n",
            "position_in 3796 d_in {'G': 100}\n",
            "position_in 3797 d_in {'T': 100}\n",
            "position_in 3798 d_in {'A': 99, 'N': 1}\n",
            "position_in 3799 d_in {'A': 100}\n"
          ]
        }
      ],
      "source": [
        "\n",
        "mutations2 = [] # a reporting list\n",
        "\n",
        "# run the entire data set\n",
        "#mutations2 = [ get_nucleotid_count_dict( pos, records) for pos in range( len(records[0].seq)) ]  \n",
        "\n",
        "# run 100-200 position\n",
        "start = 3600\n",
        "mutations2 = [ get_nucleotid_count_dict( pos, records) for pos in range(start, start+200, 1)]  \n"
      ]
    },
    {
      "cell_type": "code",
      "execution_count": null,
      "metadata": {
        "id": "5M0Xa9cURZRT"
      },
      "outputs": [],
      "source": []
    },
    {
      "cell_type": "code",
      "execution_count": null,
      "metadata": {
        "id": "duxicHMuRZRT",
        "outputId": "b3c8f7f0-dcd6-4b34-d721-bc03c9987563",
        "colab": {
          "base_uri": "https://localhost:8080/"
        }
      },
      "outputs": [
        {
          "output_type": "execute_result",
          "data": {
            "text/plain": [
              "200"
            ]
          },
          "metadata": {},
          "execution_count": 15
        }
      ],
      "source": [
        "len(mutations2)"
      ]
    },
    {
      "cell_type": "code",
      "execution_count": null,
      "metadata": {
        "id": "KYy5PF4-RZRT",
        "outputId": "4b6e779d-1d10-4198-ab29-fd439ed8e83d",
        "colab": {
          "base_uri": "https://localhost:8080/"
        }
      },
      "outputs": [
        {
          "output_type": "execute_result",
          "data": {
            "text/plain": [
              "dict_keys(['C'])"
            ]
          },
          "metadata": {},
          "execution_count": 16
        }
      ],
      "source": [
        "mutations2[0].keys()"
      ]
    },
    {
      "cell_type": "code",
      "execution_count": null,
      "metadata": {
        "id": "Kn3YIP5LRZRT",
        "outputId": "93533eed-eb67-4352-8a6c-05fe6047b43f",
        "colab": {
          "base_uri": "https://localhost:8080/"
        }
      },
      "outputs": [
        {
          "output_type": "stream",
          "name": "stdout",
          "text": [
            "39 [1, 99] 0.010101010101010102\n",
            "49 [1, 99] 0.010101010101010102\n",
            "50 [2, 98] 0.02040816326530612\n",
            "51 [2, 98] 0.02040816326530612\n",
            "52 [2, 98] 0.02040816326530612\n",
            "53 [2, 98] 0.02040816326530612\n",
            "54 [2, 98] 0.02040816326530612\n",
            "55 [2, 98] 0.02040816326530612\n",
            "56 [2, 98] 0.02040816326530612\n",
            "57 [2, 98] 0.02040816326530612\n",
            "58 [2, 98] 0.02040816326530612\n",
            "59 [2, 98] 0.02040816326530612\n",
            "60 [2, 98] 0.02040816326530612\n",
            "61 [2, 98] 0.02040816326530612\n",
            "62 [2, 98] 0.02040816326530612\n",
            "63 [2, 98] 0.02040816326530612\n",
            "64 [2, 98] 0.02040816326530612\n",
            "65 [2, 98] 0.02040816326530612\n",
            "66 [2, 98] 0.02040816326530612\n",
            "67 [2, 98] 0.02040816326530612\n",
            "68 [2, 98] 0.02040816326530612\n",
            "69 [2, 98] 0.02040816326530612\n",
            "70 [2, 98] 0.02040816326530612\n",
            "71 [2, 98] 0.02040816326530612\n",
            "72 [2, 98] 0.02040816326530612\n",
            "73 [2, 98] 0.02040816326530612\n",
            "74 [2, 98] 0.02040816326530612\n",
            "75 [1, 99] 0.010101010101010102\n",
            "76 [1, 99] 0.010101010101010102\n",
            "77 [1, 99] 0.010101010101010102\n",
            "78 [1, 99] 0.010101010101010102\n",
            "79 [1, 99] 0.010101010101010102\n",
            "80 [1, 99] 0.010101010101010102\n",
            "81 [1, 99] 0.010101010101010102\n",
            "82 [1, 99] 0.010101010101010102\n",
            "83 [1, 99] 0.010101010101010102\n",
            "84 [1, 99] 0.010101010101010102\n",
            "85 [1, 1, 98] 0.01020408163265306\n",
            "86 [1, 99] 0.010101010101010102\n",
            "88 [1, 99] 0.010101010101010102\n",
            "89 [1, 99] 0.010101010101010102\n",
            "90 [1, 99] 0.010101010101010102\n",
            "91 [1, 99] 0.010101010101010102\n",
            "92 [1, 99] 0.010101010101010102\n",
            "93 [1, 99] 0.010101010101010102\n",
            "94 [1, 99] 0.010101010101010102\n",
            "95 [1, 99] 0.010101010101010102\n",
            "96 [1, 99] 0.010101010101010102\n",
            "97 [1, 99] 0.010101010101010102\n",
            "98 [1, 99] 0.010101010101010102\n",
            "106 [1, 99] 0.010101010101010102\n",
            "135 [1, 99] 0.010101010101010102\n",
            "165 [1, 99] 0.010101010101010102\n",
            "178 [2, 98] 0.02040816326530612\n",
            "198 [1, 99] 0.010101010101010102\n"
          ]
        }
      ],
      "source": [
        "# Find out major mutations\n",
        "mutations = mutations2 #keep old code running\n",
        "\n",
        "major_mutation_indice = []\n",
        "mutation_freq_cutoff = 0.01 \n",
        "debug = 1\n",
        "\n",
        "for i in range(len(mutations)): \n",
        "    if (debug >1 ): \n",
        "            print(\"****\", i, \"****\" ) # The 2nd to last is the 2nd largest. The last one is the largest value\n",
        "    d = mutations[i]\n",
        "    # print(d.values())\n",
        "    freqs = list(d.values())\n",
        "    freqs.sort()  #this seems to change order of freqs\n",
        "    if ( len(d)> 1) :\n",
        "        if (( freqs[-2] / freqs[-1] ) > mutation_freq_cutoff ) : \n",
        "            major_mutation_indice.append(i)\n",
        "            if (debug >0 ): \n",
        "                print(i, freqs,  freqs[-2] / freqs[-1] ) # The 2nd to last is the 2nd largest. The last one is the largest value"
      ]
    },
    {
      "cell_type": "code",
      "execution_count": null,
      "metadata": {
        "id": "DyBZMZltRZRU",
        "outputId": "85d2e2d1-9c64-47af-d791-b658a604f90a",
        "colab": {
          "base_uri": "https://localhost:8080/"
        }
      },
      "outputs": [
        {
          "output_type": "execute_result",
          "data": {
            "text/plain": [
              "55"
            ]
          },
          "metadata": {},
          "execution_count": 18
        }
      ],
      "source": [
        "len(major_mutation_indice)"
      ]
    },
    {
      "cell_type": "code",
      "execution_count": null,
      "metadata": {
        "id": "c41sEqVbRZRU"
      },
      "outputs": [],
      "source": [
        "def get_ATCG(d_in):\n",
        "    d_atcg = {'A':0, 'T':0, 'C':0, 'G':0, 'N':0, '-':0}\n",
        "    for k in d_in.keys():\n",
        "        d_atcg[k] = d[k]\n",
        "    return d_atcg"
      ]
    },
    {
      "cell_type": "code",
      "execution_count": null,
      "metadata": {
        "id": "xSiUQJMdRZRU",
        "outputId": "6687fef1-7492-46fd-fbc9-53e34f29561f",
        "colab": {
          "base_uri": "https://localhost:8080/"
        }
      },
      "outputs": [
        {
          "output_type": "execute_result",
          "data": {
            "text/plain": [
              "[39,\n",
              " 49,\n",
              " 50,\n",
              " 51,\n",
              " 52,\n",
              " 53,\n",
              " 54,\n",
              " 55,\n",
              " 56,\n",
              " 57,\n",
              " 58,\n",
              " 59,\n",
              " 60,\n",
              " 61,\n",
              " 62,\n",
              " 63,\n",
              " 64,\n",
              " 65,\n",
              " 66,\n",
              " 67,\n",
              " 68,\n",
              " 69,\n",
              " 70,\n",
              " 71,\n",
              " 72,\n",
              " 73,\n",
              " 74,\n",
              " 75,\n",
              " 76,\n",
              " 77,\n",
              " 78,\n",
              " 79,\n",
              " 80,\n",
              " 81,\n",
              " 82,\n",
              " 83,\n",
              " 84,\n",
              " 85,\n",
              " 86,\n",
              " 88,\n",
              " 89,\n",
              " 90,\n",
              " 91,\n",
              " 92,\n",
              " 93,\n",
              " 94,\n",
              " 95,\n",
              " 96,\n",
              " 97,\n",
              " 98,\n",
              " 106,\n",
              " 135,\n",
              " 165,\n",
              " 178,\n",
              " 198]"
            ]
          },
          "metadata": {},
          "execution_count": 20
        }
      ],
      "source": [
        "major_mutation_indice"
      ]
    },
    {
      "cell_type": "code",
      "execution_count": null,
      "metadata": {
        "id": "EBENZMgJRZRU"
      },
      "outputs": [],
      "source": [
        "major_mutaions_dict = [  {pos: mutations[pos]} for pos in major_mutation_indice] "
      ]
    },
    {
      "cell_type": "code",
      "execution_count": null,
      "metadata": {
        "id": "vLzTBYLVRZRV",
        "outputId": "f445f752-ded5-4f79-f0c1-44b3147fb69c",
        "colab": {
          "base_uri": "https://localhost:8080/"
        }
      },
      "outputs": [
        {
          "output_type": "execute_result",
          "data": {
            "text/plain": [
              "[{39: {'C': 99, 'T': 1}},\n",
              " {49: {'G': 99, 'N': 1}},\n",
              " {50: {'A': 98, 'N': 2}},\n",
              " {51: {'C': 98, 'N': 2}},\n",
              " {52: {'T': 98, 'N': 2}},\n",
              " {53: {'A': 98, 'N': 2}},\n",
              " {54: {'A': 98, 'N': 2}},\n",
              " {55: {'A': 98, 'N': 2}},\n",
              " {56: {'G': 98, 'N': 2}},\n",
              " {57: {'A': 98, 'N': 2}},\n",
              " {58: {'A': 98, 'N': 2}},\n",
              " {59: {'G': 98, 'N': 2}},\n",
              " {60: {'G': 98, 'N': 2}},\n",
              " {61: {'T': 98, 'N': 2}},\n",
              " {62: {'G': 98, 'N': 2}},\n",
              " {63: {'C': 98, 'N': 2}},\n",
              " {64: {'C': 98, 'N': 2}},\n",
              " {65: {'A': 98, 'N': 2}},\n",
              " {66: {'C': 98, 'N': 2}},\n",
              " {67: {'T': 98, 'N': 2}},\n",
              " {68: {'A': 98, 'N': 2}},\n",
              " {69: {'C': 98, 'N': 2}},\n",
              " {70: {'T': 98, 'N': 2}},\n",
              " {71: {'T': 98, 'N': 2}},\n",
              " {72: {'G': 98, 'N': 2}},\n",
              " {73: {'T': 98, 'N': 2}},\n",
              " {74: {'G': 98, 'N': 2}},\n",
              " {75: {'G': 99, 'N': 1}},\n",
              " {76: {'T': 99, 'N': 1}},\n",
              " {77: {'T': 99, 'N': 1}},\n",
              " {78: {'A': 99, 'N': 1}},\n",
              " {79: {'C': 99, 'N': 1}},\n",
              " {80: {'T': 99, 'N': 1}},\n",
              " {81: {'T': 99, 'N': 1}},\n",
              " {82: {'A': 99, 'N': 1}},\n",
              " {83: {'C': 99, 'N': 1}},\n",
              " {84: {'C': 99, 'N': 1}},\n",
              " {85: {'C': 98, 'T': 1, 'N': 1}},\n",
              " {86: {'C': 99, 'N': 1}},\n",
              " {88: {'A': 99, 'N': 1}},\n",
              " {89: {'A': 99, 'N': 1}},\n",
              " {90: {'A': 99, 'N': 1}},\n",
              " {91: {'A': 99, 'N': 1}},\n",
              " {92: {'T': 99, 'N': 1}},\n",
              " {93: {'G': 99, 'N': 1}},\n",
              " {94: {'C': 99, 'N': 1}},\n",
              " {95: {'T': 99, 'N': 1}},\n",
              " {96: {'G': 99, 'N': 1}},\n",
              " {97: {'T': 99, 'N': 1}},\n",
              " {98: {'T': 99, 'N': 1}},\n",
              " {106: {'T': 99, 'C': 1}},\n",
              " {135: {'G': 99, 'A': 1}},\n",
              " {165: {'C': 99, 'T': 1}},\n",
              " {178: {'G': 98, 'A': 2}},\n",
              " {198: {'A': 99, 'N': 1}}]"
            ]
          },
          "metadata": {},
          "execution_count": 22
        }
      ],
      "source": [
        "major_mutaions_dict"
      ]
    },
    {
      "cell_type": "markdown",
      "metadata": {
        "id": "hWPVIqUVRZRV"
      },
      "source": [
        "\n",
        "# Read the meta information, pick only rows in the alignments, and reorder based on the alignment\n",
        "The meta information csv file contain more records than the download alighment of human virus seqs. It includes viruses isolated from animals. \n"
      ]
    },
    {
      "cell_type": "code",
      "execution_count": null,
      "metadata": {
        "id": "X7_Z2ziURZRV"
      },
      "outputs": [],
      "source": [
        "import pandas as pd\n"
      ]
    },
    {
      "cell_type": "code",
      "execution_count": null,
      "metadata": {
        "id": "lZnZZgluRZRW",
        "outputId": "dbb13999-4766-48a4-fce5-f7fea0f764c8",
        "colab": {
          "base_uri": "https://localhost:8080/"
        }
      },
      "outputs": [
        {
          "output_type": "execute_result",
          "data": {
            "text/plain": [
              "46581"
            ]
          },
          "metadata": {},
          "execution_count": 26
        }
      ],
      "source": [
        "metaTb = pd.read_csv(\"metadata.tsv\", delimiter=\"\\t\")\n",
        "len(metaTb)"
      ]
    },
    {
      "cell_type": "code",
      "execution_count": null,
      "metadata": {
        "id": "e6opgIFFRZRW",
        "outputId": "994288a0-8c55-44c7-b040-cc656f5c7702",
        "colab": {
          "base_uri": "https://localhost:8080/"
        }
      },
      "outputs": [
        {
          "output_type": "execute_result",
          "data": {
            "text/plain": [
              "46536"
            ]
          },
          "metadata": {},
          "execution_count": 27
        }
      ],
      "source": [
        "metaTb2 = metaTb.loc[ metaTb['host'] == \"Human\" ]\n",
        "len(metaTb2)"
      ]
    },
    {
      "cell_type": "code",
      "execution_count": null,
      "metadata": {
        "id": "7r6PdSBPRZRW",
        "outputId": "bd3c53b6-e51b-44ff-8a2f-74224e79457a",
        "colab": {
          "base_uri": "https://localhost:8080/"
        }
      },
      "outputs": [
        {
          "output_type": "stream",
          "name": "stdout",
          "text": [
            "hCoV-19/Wuhan/WIV04/2019|EPI_ISL_402124|2019-12-30|China\n"
          ]
        }
      ],
      "source": [
        "print(records[0].id)  # first record"
      ]
    },
    {
      "cell_type": "code",
      "execution_count": null,
      "metadata": {
        "id": "DwZ59QWJRZRW",
        "outputId": "5ff09bce-c876-4214-d2a5-6092ddc1313b",
        "colab": {
          "base_uri": "https://localhost:8080/"
        }
      },
      "outputs": [
        {
          "output_type": "execute_result",
          "data": {
            "text/plain": [
              "['hCoV-19/Wuhan/WIV04/2019', 'EPI_ISL_402124', '2019-12-30', 'China']"
            ]
          },
          "metadata": {},
          "execution_count": 29
        }
      ],
      "source": [
        "records[0].id.split(\"|\")"
      ]
    },
    {
      "cell_type": "code",
      "execution_count": null,
      "metadata": {
        "id": "rfvs3RZbRZRW",
        "outputId": "64fce582-5553-4385-8e9d-0e46eaafcb44",
        "colab": {
          "base_uri": "https://localhost:8080/",
          "height": 35
        }
      },
      "outputs": [
        {
          "output_type": "execute_result",
          "data": {
            "text/plain": [
              "'EPI_ISL_402124'"
            ],
            "application/vnd.google.colaboratory.intrinsic+json": {
              "type": "string"
            }
          },
          "metadata": {},
          "execution_count": 30
        }
      ],
      "source": [
        "records[0].id.split(\"|\")[1]"
      ]
    },
    {
      "cell_type": "code",
      "execution_count": null,
      "metadata": {
        "id": "uvuFmL8hRZRX",
        "outputId": "ad10a738-2ed9-450a-a017-aa8b3e6cb020",
        "colab": {
          "base_uri": "https://localhost:8080/"
        }
      },
      "outputs": [
        {
          "output_type": "execute_result",
          "data": {
            "text/plain": [
              "['hCoV-19/Scotland/GCVR-1739FD/2020', 'EPI_ISL_459138', '2020-04-07', 'Europe']"
            ]
          },
          "metadata": {},
          "execution_count": 31
        }
      ],
      "source": [
        "#IDs_in_msa = [records[i].id.split(\"|\")[1] for i in range(len(records))]\n",
        "records[72].description.split(\"|\")"
      ]
    },
    {
      "cell_type": "code",
      "execution_count": null,
      "metadata": {
        "id": "AEoKZ3jnRZRX",
        "outputId": "609d4602-6342-4f03-ac0e-4e588d3ed4c8",
        "colab": {
          "base_uri": "https://localhost:8080/"
        }
      },
      "outputs": [
        {
          "output_type": "execute_result",
          "data": {
            "text/plain": [
              "100"
            ]
          },
          "metadata": {},
          "execution_count": 32
        }
      ],
      "source": [
        "IDs_in_msa = list(str(' ') * len(records))\n",
        "len(IDs_in_msa)"
      ]
    },
    {
      "cell_type": "code",
      "execution_count": null,
      "metadata": {
        "id": "EQVQcb3XRZRX",
        "outputId": "e8232682-c5bc-441d-9f20-ae4fc6b2bb93",
        "colab": {
          "base_uri": "https://localhost:8080/"
        }
      },
      "outputs": [
        {
          "output_type": "stream",
          "name": "stdout",
          "text": [
            "0\n",
            "1\n",
            "2\n",
            "3\n",
            "4\n",
            "5\n",
            "6\n",
            "7\n",
            "8\n",
            "9\n",
            "10\n",
            "buffB: ['hCoV-19/Northern Ireland/NIRE-FC7B7/2020', 'EPI_ISL_459378', '2020-04-22', 'Europe']\n",
            "11\n",
            "12\n",
            "13\n",
            "14\n",
            "15\n",
            "16\n",
            "17\n",
            "18\n",
            "19\n",
            "20\n",
            "21\n",
            "22\n",
            "23\n",
            "24\n",
            "25\n",
            "26\n",
            "27\n",
            "28\n",
            "29\n",
            "30\n",
            "31\n",
            "32\n",
            "33\n",
            "34\n",
            "35\n",
            "36\n",
            "37\n",
            "38\n",
            "39\n",
            "40\n",
            "41\n",
            "42\n",
            "43\n",
            "44\n",
            "45\n",
            "buffB: ['hCoV-19/Hong Kong/HKPU1_2101/2020', 'EPI_ISL_417176', '2020-01-21', 'Asia']\n",
            "46\n",
            "47\n",
            "48\n",
            "49\n",
            "50\n",
            "51\n",
            "52\n",
            "53\n",
            "54\n",
            "55\n",
            "56\n",
            "57\n",
            "58\n",
            "59\n",
            "60\n",
            "61\n",
            "62\n",
            "63\n",
            "64\n",
            "65\n",
            "66\n",
            "67\n",
            "68\n",
            "69\n",
            "70\n",
            "71\n",
            "72\n",
            "73\n",
            "74\n",
            "75\n",
            "76\n",
            "77\n",
            "78\n",
            "buffB: ['hCoV-19/New Zealand/20VR2475/2020', 'EPI_ISL_456379', '2020-04-15', 'Oceania']\n",
            "79\n",
            "80\n",
            "81\n",
            "82\n",
            "83\n",
            "84\n",
            "85\n",
            "86\n",
            "87\n",
            "buffB: ['hCoV-19/Hong Kong/HKU-907b/2020', 'EPI_ISL_434568', '2020-01-29', 'Asia']\n",
            "88\n",
            "buffB: ['hCoV-19/New Zealand/20VR1927/2020', 'EPI_ISL_456311', '2020-04-03', 'Oceania']\n",
            "89\n",
            "buffB: ['hCoV-19/Saudi Arabia/KAUST-Makkah166/2020', 'EPI_ISL_437698', '2020-04-09', 'Asia']\n",
            "90\n",
            "91\n",
            "92\n",
            "93\n",
            "94\n",
            "95\n",
            "96\n",
            "97\n",
            "98\n",
            "99\n"
          ]
        }
      ],
      "source": [
        "import re\n",
        "\n",
        "for i in range(len(records)):\n",
        "    print(i)\n",
        "    buffA = records[i].id.split(\"|\")\n",
        "    #print(buffA)\n",
        "    if (len(buffA)> 1):\n",
        "        if buffA[1][0:7] == 'EPI_ISL': \n",
        "            IDs_in_msa[i] =  buffA[1]\n",
        "    else:\n",
        "        buffB = records[i].description.split(\"|\")\n",
        "        print(\"buffB:\", buffB)\n",
        "        if (len(buffB)> 1):\n",
        "            if buffB[1][0:7] == 'EPI_ISL': \n",
        "                IDs_in_msa[i] =  buffB[1]"
      ]
    },
    {
      "cell_type": "code",
      "execution_count": null,
      "metadata": {
        "id": "mfvN2hi5RZRX",
        "outputId": "1f38c92d-4c1f-4fe8-c376-5aca2d92ed60",
        "colab": {
          "base_uri": "https://localhost:8080/"
        }
      },
      "outputs": [
        {
          "output_type": "stream",
          "name": "stdout",
          "text": [
            "EPI_ISL_402124\n",
            "ID: hCoV-19/Wuhan/WIV04/2019|EPI_ISL_402124|2019-12-30|China\n",
            "Name: hCoV-19/Wuhan/WIV04/2019|EPI_ISL_402124|2019-12-30|China\n",
            "Description: hCoV-19/Wuhan/WIV04/2019|EPI_ISL_402124|2019-12-30|China\n",
            "Number of features: 0\n",
            "Seq('------------------------------------------------------...---')\n",
            "EPI_ISL_459138\n",
            "ID: hCoV-19/Scotland/GCVR-1739FD/2020|EPI_ISL_459138|2020-04-07|Europe\n",
            "Name: hCoV-19/Scotland/GCVR-1739FD/2020|EPI_ISL_459138|2020-04-07|Europe\n",
            "Description: hCoV-19/Scotland/GCVR-1739FD/2020|EPI_ISL_459138|2020-04-07|Europe\n",
            "Number of features: 0\n",
            "Seq('------------------------------------------------------...---')\n"
          ]
        }
      ],
      "source": [
        "#visual check some entries, passed. \n",
        "print(IDs_in_msa[0])\n",
        "print(records[0])\n",
        "print(IDs_in_msa[72])\n",
        "print(records[72])"
      ]
    },
    {
      "cell_type": "code",
      "execution_count": null,
      "metadata": {
        "id": "IwkezUBERZRX"
      },
      "outputs": [],
      "source": [
        "df = pd.DataFrame(IDs_in_msa)\n",
        "df.columns = ['gisaid_epi_isl']\n",
        "df.to_csv(\"IDs_in_msa.csv\")"
      ]
    },
    {
      "cell_type": "code",
      "execution_count": null,
      "metadata": {
        "id": "ZjgBj6_aRZRX",
        "outputId": "1d574593-c6a2-49f2-e05b-e0fdd1d09392",
        "colab": {
          "base_uri": "https://localhost:8080/"
        }
      },
      "outputs": [
        {
          "output_type": "execute_result",
          "data": {
            "text/plain": [
              "False"
            ]
          },
          "metadata": {},
          "execution_count": 36
        }
      ],
      "source": [
        "#now try to pick only rows in metaTb2 info based on alignment IDs\n",
        "metaTb2['gisaid_epi_isl'][0] == IDs_in_msa[0]"
      ]
    },
    {
      "cell_type": "code",
      "execution_count": null,
      "metadata": {
        "id": "eFJSWJfmRZRY"
      },
      "outputs": [],
      "source": [
        "metaMSA = pd.merge(df, metaTb2, on='gisaid_epi_isl', how='left')"
      ]
    },
    {
      "cell_type": "code",
      "execution_count": null,
      "metadata": {
        "id": "IhGe1LKzRZRY",
        "outputId": "62e67c4a-bd63-496e-9a85-d80a843760ff",
        "colab": {
          "base_uri": "https://localhost:8080/"
        }
      },
      "outputs": [
        {
          "output_type": "stream",
          "name": "stdout",
          "text": [
            "EPI_ISL_402124\n",
            "ID: hCoV-19/Wuhan/WIV04/2019|EPI_ISL_402124|2019-12-30|China\n",
            "Name: hCoV-19/Wuhan/WIV04/2019|EPI_ISL_402124|2019-12-30|China\n",
            "Description: hCoV-19/Wuhan/WIV04/2019|EPI_ISL_402124|2019-12-30|China\n",
            "Number of features: 0\n",
            "Seq('------------------------------------------------------...---')\n",
            "EPI_ISL_459138\n",
            "ID: hCoV-19/Scotland/GCVR-1739FD/2020|EPI_ISL_459138|2020-04-07|Europe\n",
            "Name: hCoV-19/Scotland/GCVR-1739FD/2020|EPI_ISL_459138|2020-04-07|Europe\n",
            "Description: hCoV-19/Scotland/GCVR-1739FD/2020|EPI_ISL_459138|2020-04-07|Europe\n",
            "Number of features: 0\n",
            "Seq('------------------------------------------------------...---')\n"
          ]
        }
      ],
      "source": [
        "# visual check the merged meta table with MSA records. Passed. \n",
        "print(metaMSA.iloc[0][0])\n",
        "print(records[0])\n",
        "\n",
        "print(metaMSA.iloc[72][0])\n",
        "print(records[72])\n"
      ]
    },
    {
      "cell_type": "code",
      "execution_count": null,
      "metadata": {
        "id": "qWEJ-oI-RZRY",
        "outputId": "d161215b-27e9-4c17-e94f-aa559e05db07",
        "colab": {
          "base_uri": "https://localhost:8080/",
          "height": 1000
        }
      },
      "outputs": [
        {
          "output_type": "execute_result",
          "data": {
            "text/plain": [
              "    gisaid_epi_isl                    strain virus genbank_accession  \\\n",
              "0   EPI_ISL_402124          Wuhan/WIV04/2019  ncov          MN996528   \n",
              "1   EPI_ISL_430416      USA/NY-NYUMC389/2020  ncov                 ?   \n",
              "2   EPI_ISL_455440        Poland/PL_P27/2020  ncov                 ?   \n",
              "3   EPI_ISL_456977     Scotland/EDB5128/2020  ncov                 ?   \n",
              "4   EPI_ISL_425577  England/NOTT-10E696/2020  ncov                 ?   \n",
              "..             ...                       ...   ...               ...   \n",
              "95  EPI_ISL_447956  England/CAMB-1AD004/2020  ncov                 ?   \n",
              "96  EPI_ISL_416373      Shanghai/SH0070/2020  ncov                 ?   \n",
              "97  EPI_ISL_458790  England/BRIS-128951/2020  ncov                 ?   \n",
              "98  EPI_ISL_424122  England/20129161104/2020  ncov                 ?   \n",
              "99  EPI_ISL_441547   England/CAMB-7C685/2020  ncov                 ?   \n",
              "\n",
              "          date         region         country     division   location  \\\n",
              "0   2019-12-30           Asia           China        Hubei      Wuhan   \n",
              "1   2020-04-13  North America             USA     New York  Manhattan   \n",
              "2   2020-03-27         Europe          Poland  Mazowieckie      Plock   \n",
              "3   2020-05-17         Europe  United Kingdom     Scotland        NaN   \n",
              "4   2020-03-24         Europe  United Kingdom      England        NaN   \n",
              "..         ...            ...             ...          ...        ...   \n",
              "95  2020-04-30         Europe  United Kingdom      England        NaN   \n",
              "96  2020-02-07           Asia           China     Shanghai        NaN   \n",
              "97  2020-04-14         Europe  United Kingdom      England        NaN   \n",
              "98  2020-03-12         Europe  United Kingdom      England        NaN   \n",
              "99  2020-04-06         Europe  United Kingdom      England        NaN   \n",
              "\n",
              "   region_exposure  ...     sex pangolin_lineage GISAID_clade  \\\n",
              "0             Asia  ...  Female                B            L   \n",
              "1    North America  ...  Female              B.1           GH   \n",
              "2           Europe  ...  Female              B.1           GH   \n",
              "3           Europe  ...       ?            B.1.5            G   \n",
              "4           Europe  ...  Female           B.1.34            G   \n",
              "..             ...  ...     ...              ...          ...   \n",
              "95          Europe  ...       ?              B.1           GH   \n",
              "96            Asia  ...  Female              B.4            O   \n",
              "97          Europe  ...       ?           B.1.72            G   \n",
              "98          Europe  ...    Male                B            O   \n",
              "99          Europe  ...       ?              B.1            G   \n",
              "\n",
              "                                      originating_lab  \\\n",
              "0                            Wuhan Jinyintan Hospital   \n",
              "1                                  NYU Langone Health   \n",
              "2   1. ViroGenetics - BSL3 Laboratory of Virology,...   \n",
              "3   Virology Department, Royal Infirmary of Edinbu...   \n",
              "4   Queens Medical Centre, Clinical Microbiology D...   \n",
              "..                                                ...   \n",
              "95   Department of Pathology, University of Cambridge   \n",
              "96  Shanghai Public Health Clinical Center, Shangh...   \n",
              "97  PHE South West Regional Laboratory, National I...   \n",
              "98  Respiratory Virus Unit, Microbiology Services ...   \n",
              "99   Department of Pathology, University of Cambridge   \n",
              "\n",
              "                                       submitting_lab  \\\n",
              "0   Wuhan Institute of Virology, Chinese Academy o...   \n",
              "1   Departments of Pathology and Medicine, New Yor...   \n",
              "2   1. ViroGenetics - BSL3 Laboratory of Virology,...   \n",
              "3            COVID-19 Genomics UK (COG-UK) Consortium   \n",
              "4            COVID-19 Genomics UK (COG-UK) Consortium   \n",
              "..                                                ...   \n",
              "95           COVID-19 Genomics UK (COG-UK) Consortium   \n",
              "96  National Research Center for Translational Med...   \n",
              "97  Wellcome Sanger Institute for the COVID-19 Gen...   \n",
              "98  Respiratory Virus Unit, Microbiology Services ...   \n",
              "99  Wellcome Sanger Institute for the COVID-19 Gen...   \n",
              "\n",
              "                         authors                     url  \\\n",
              "0                Peng Zhou et al  https://www.gisaid.org   \n",
              "1   Maria Aguero-Rosenfeld et al  https://www.gisaid.org   \n",
              "2         Katarzyna Pancer et al  https://www.gisaid.org   \n",
              "3                 McHugh M et al  https://www.gisaid.org   \n",
              "4              Gemma Clark et al  https://www.gisaid.org   \n",
              "..                           ...                     ...   \n",
              "95         Luke W Meredith et al  https://www.gisaid.org   \n",
              "96           Shengyue Wang et al  https://www.gisaid.org   \n",
              "97     Stephanie Hutchings et al  https://www.gisaid.org   \n",
              "98          Monica Galiano et al  https://www.gisaid.org   \n",
              "99         Luke W Meredith et al  https://www.gisaid.org   \n",
              "\n",
              "                                                title  \\\n",
              "0                                                   ?   \n",
              "1                                                   ?   \n",
              "2                                                   ?   \n",
              "3   Preliminary analysis of SARS-CoV-2 importation...   \n",
              "4   Preliminary analysis of SARS-CoV-2 importation...   \n",
              "..                                                ...   \n",
              "95  Preliminary analysis of SARS-CoV-2 importation...   \n",
              "96                                                  ?   \n",
              "97                                                  ?   \n",
              "98  Preliminary analysis of SARS-CoV-2 importation...   \n",
              "99  Preliminary analysis of SARS-CoV-2 importation...   \n",
              "\n",
              "                                            paper_url date_submitted  \n",
              "0                                                   ?     2020-01-11  \n",
              "1                                                   ?     2020-04-26  \n",
              "2                                                   ?     2020-05-29  \n",
              "3   https://virological.org/t/preliminary-analysis...     2020-06-02  \n",
              "4   https://virological.org/t/preliminary-analysis...     2020-04-14  \n",
              "..                                                ...            ...  \n",
              "95  https://virological.org/t/preliminary-analysis...     2020-05-19  \n",
              "96                                                  ?     2020-03-20  \n",
              "97                                                  ?     2020-06-04  \n",
              "98  https://virological.org/t/preliminary-analysis...     2020-04-12  \n",
              "99  https://virological.org/t/preliminary-analysis...     2020-05-12  \n",
              "\n",
              "[100 rows x 26 columns]"
            ],
            "text/html": [
              "\n",
              "  <div id=\"df-c4cdd436-9119-4031-982e-2fa69a1935e9\">\n",
              "    <div class=\"colab-df-container\">\n",
              "      <div>\n",
              "<style scoped>\n",
              "    .dataframe tbody tr th:only-of-type {\n",
              "        vertical-align: middle;\n",
              "    }\n",
              "\n",
              "    .dataframe tbody tr th {\n",
              "        vertical-align: top;\n",
              "    }\n",
              "\n",
              "    .dataframe thead th {\n",
              "        text-align: right;\n",
              "    }\n",
              "</style>\n",
              "<table border=\"1\" class=\"dataframe\">\n",
              "  <thead>\n",
              "    <tr style=\"text-align: right;\">\n",
              "      <th></th>\n",
              "      <th>gisaid_epi_isl</th>\n",
              "      <th>strain</th>\n",
              "      <th>virus</th>\n",
              "      <th>genbank_accession</th>\n",
              "      <th>date</th>\n",
              "      <th>region</th>\n",
              "      <th>country</th>\n",
              "      <th>division</th>\n",
              "      <th>location</th>\n",
              "      <th>region_exposure</th>\n",
              "      <th>...</th>\n",
              "      <th>sex</th>\n",
              "      <th>pangolin_lineage</th>\n",
              "      <th>GISAID_clade</th>\n",
              "      <th>originating_lab</th>\n",
              "      <th>submitting_lab</th>\n",
              "      <th>authors</th>\n",
              "      <th>url</th>\n",
              "      <th>title</th>\n",
              "      <th>paper_url</th>\n",
              "      <th>date_submitted</th>\n",
              "    </tr>\n",
              "  </thead>\n",
              "  <tbody>\n",
              "    <tr>\n",
              "      <th>0</th>\n",
              "      <td>EPI_ISL_402124</td>\n",
              "      <td>Wuhan/WIV04/2019</td>\n",
              "      <td>ncov</td>\n",
              "      <td>MN996528</td>\n",
              "      <td>2019-12-30</td>\n",
              "      <td>Asia</td>\n",
              "      <td>China</td>\n",
              "      <td>Hubei</td>\n",
              "      <td>Wuhan</td>\n",
              "      <td>Asia</td>\n",
              "      <td>...</td>\n",
              "      <td>Female</td>\n",
              "      <td>B</td>\n",
              "      <td>L</td>\n",
              "      <td>Wuhan Jinyintan Hospital</td>\n",
              "      <td>Wuhan Institute of Virology, Chinese Academy o...</td>\n",
              "      <td>Peng Zhou et al</td>\n",
              "      <td>https://www.gisaid.org</td>\n",
              "      <td>?</td>\n",
              "      <td>?</td>\n",
              "      <td>2020-01-11</td>\n",
              "    </tr>\n",
              "    <tr>\n",
              "      <th>1</th>\n",
              "      <td>EPI_ISL_430416</td>\n",
              "      <td>USA/NY-NYUMC389/2020</td>\n",
              "      <td>ncov</td>\n",
              "      <td>?</td>\n",
              "      <td>2020-04-13</td>\n",
              "      <td>North America</td>\n",
              "      <td>USA</td>\n",
              "      <td>New York</td>\n",
              "      <td>Manhattan</td>\n",
              "      <td>North America</td>\n",
              "      <td>...</td>\n",
              "      <td>Female</td>\n",
              "      <td>B.1</td>\n",
              "      <td>GH</td>\n",
              "      <td>NYU Langone Health</td>\n",
              "      <td>Departments of Pathology and Medicine, New Yor...</td>\n",
              "      <td>Maria Aguero-Rosenfeld et al</td>\n",
              "      <td>https://www.gisaid.org</td>\n",
              "      <td>?</td>\n",
              "      <td>?</td>\n",
              "      <td>2020-04-26</td>\n",
              "    </tr>\n",
              "    <tr>\n",
              "      <th>2</th>\n",
              "      <td>EPI_ISL_455440</td>\n",
              "      <td>Poland/PL_P27/2020</td>\n",
              "      <td>ncov</td>\n",
              "      <td>?</td>\n",
              "      <td>2020-03-27</td>\n",
              "      <td>Europe</td>\n",
              "      <td>Poland</td>\n",
              "      <td>Mazowieckie</td>\n",
              "      <td>Plock</td>\n",
              "      <td>Europe</td>\n",
              "      <td>...</td>\n",
              "      <td>Female</td>\n",
              "      <td>B.1</td>\n",
              "      <td>GH</td>\n",
              "      <td>1. ViroGenetics - BSL3 Laboratory of Virology,...</td>\n",
              "      <td>1. ViroGenetics - BSL3 Laboratory of Virology,...</td>\n",
              "      <td>Katarzyna Pancer et al</td>\n",
              "      <td>https://www.gisaid.org</td>\n",
              "      <td>?</td>\n",
              "      <td>?</td>\n",
              "      <td>2020-05-29</td>\n",
              "    </tr>\n",
              "    <tr>\n",
              "      <th>3</th>\n",
              "      <td>EPI_ISL_456977</td>\n",
              "      <td>Scotland/EDB5128/2020</td>\n",
              "      <td>ncov</td>\n",
              "      <td>?</td>\n",
              "      <td>2020-05-17</td>\n",
              "      <td>Europe</td>\n",
              "      <td>United Kingdom</td>\n",
              "      <td>Scotland</td>\n",
              "      <td>NaN</td>\n",
              "      <td>Europe</td>\n",
              "      <td>...</td>\n",
              "      <td>?</td>\n",
              "      <td>B.1.5</td>\n",
              "      <td>G</td>\n",
              "      <td>Virology Department, Royal Infirmary of Edinbu...</td>\n",
              "      <td>COVID-19 Genomics UK (COG-UK) Consortium</td>\n",
              "      <td>McHugh M et al</td>\n",
              "      <td>https://www.gisaid.org</td>\n",
              "      <td>Preliminary analysis of SARS-CoV-2 importation...</td>\n",
              "      <td>https://virological.org/t/preliminary-analysis...</td>\n",
              "      <td>2020-06-02</td>\n",
              "    </tr>\n",
              "    <tr>\n",
              "      <th>4</th>\n",
              "      <td>EPI_ISL_425577</td>\n",
              "      <td>England/NOTT-10E696/2020</td>\n",
              "      <td>ncov</td>\n",
              "      <td>?</td>\n",
              "      <td>2020-03-24</td>\n",
              "      <td>Europe</td>\n",
              "      <td>United Kingdom</td>\n",
              "      <td>England</td>\n",
              "      <td>NaN</td>\n",
              "      <td>Europe</td>\n",
              "      <td>...</td>\n",
              "      <td>Female</td>\n",
              "      <td>B.1.34</td>\n",
              "      <td>G</td>\n",
              "      <td>Queens Medical Centre, Clinical Microbiology D...</td>\n",
              "      <td>COVID-19 Genomics UK (COG-UK) Consortium</td>\n",
              "      <td>Gemma Clark et al</td>\n",
              "      <td>https://www.gisaid.org</td>\n",
              "      <td>Preliminary analysis of SARS-CoV-2 importation...</td>\n",
              "      <td>https://virological.org/t/preliminary-analysis...</td>\n",
              "      <td>2020-04-14</td>\n",
              "    </tr>\n",
              "    <tr>\n",
              "      <th>...</th>\n",
              "      <td>...</td>\n",
              "      <td>...</td>\n",
              "      <td>...</td>\n",
              "      <td>...</td>\n",
              "      <td>...</td>\n",
              "      <td>...</td>\n",
              "      <td>...</td>\n",
              "      <td>...</td>\n",
              "      <td>...</td>\n",
              "      <td>...</td>\n",
              "      <td>...</td>\n",
              "      <td>...</td>\n",
              "      <td>...</td>\n",
              "      <td>...</td>\n",
              "      <td>...</td>\n",
              "      <td>...</td>\n",
              "      <td>...</td>\n",
              "      <td>...</td>\n",
              "      <td>...</td>\n",
              "      <td>...</td>\n",
              "      <td>...</td>\n",
              "    </tr>\n",
              "    <tr>\n",
              "      <th>95</th>\n",
              "      <td>EPI_ISL_447956</td>\n",
              "      <td>England/CAMB-1AD004/2020</td>\n",
              "      <td>ncov</td>\n",
              "      <td>?</td>\n",
              "      <td>2020-04-30</td>\n",
              "      <td>Europe</td>\n",
              "      <td>United Kingdom</td>\n",
              "      <td>England</td>\n",
              "      <td>NaN</td>\n",
              "      <td>Europe</td>\n",
              "      <td>...</td>\n",
              "      <td>?</td>\n",
              "      <td>B.1</td>\n",
              "      <td>GH</td>\n",
              "      <td>Department of Pathology, University of Cambridge</td>\n",
              "      <td>COVID-19 Genomics UK (COG-UK) Consortium</td>\n",
              "      <td>Luke W Meredith et al</td>\n",
              "      <td>https://www.gisaid.org</td>\n",
              "      <td>Preliminary analysis of SARS-CoV-2 importation...</td>\n",
              "      <td>https://virological.org/t/preliminary-analysis...</td>\n",
              "      <td>2020-05-19</td>\n",
              "    </tr>\n",
              "    <tr>\n",
              "      <th>96</th>\n",
              "      <td>EPI_ISL_416373</td>\n",
              "      <td>Shanghai/SH0070/2020</td>\n",
              "      <td>ncov</td>\n",
              "      <td>?</td>\n",
              "      <td>2020-02-07</td>\n",
              "      <td>Asia</td>\n",
              "      <td>China</td>\n",
              "      <td>Shanghai</td>\n",
              "      <td>NaN</td>\n",
              "      <td>Asia</td>\n",
              "      <td>...</td>\n",
              "      <td>Female</td>\n",
              "      <td>B.4</td>\n",
              "      <td>O</td>\n",
              "      <td>Shanghai Public Health Clinical Center, Shangh...</td>\n",
              "      <td>National Research Center for Translational Med...</td>\n",
              "      <td>Shengyue Wang et al</td>\n",
              "      <td>https://www.gisaid.org</td>\n",
              "      <td>?</td>\n",
              "      <td>?</td>\n",
              "      <td>2020-03-20</td>\n",
              "    </tr>\n",
              "    <tr>\n",
              "      <th>97</th>\n",
              "      <td>EPI_ISL_458790</td>\n",
              "      <td>England/BRIS-128951/2020</td>\n",
              "      <td>ncov</td>\n",
              "      <td>?</td>\n",
              "      <td>2020-04-14</td>\n",
              "      <td>Europe</td>\n",
              "      <td>United Kingdom</td>\n",
              "      <td>England</td>\n",
              "      <td>NaN</td>\n",
              "      <td>Europe</td>\n",
              "      <td>...</td>\n",
              "      <td>?</td>\n",
              "      <td>B.1.72</td>\n",
              "      <td>G</td>\n",
              "      <td>PHE South West Regional Laboratory, National I...</td>\n",
              "      <td>Wellcome Sanger Institute for the COVID-19 Gen...</td>\n",
              "      <td>Stephanie Hutchings et al</td>\n",
              "      <td>https://www.gisaid.org</td>\n",
              "      <td>?</td>\n",
              "      <td>?</td>\n",
              "      <td>2020-06-04</td>\n",
              "    </tr>\n",
              "    <tr>\n",
              "      <th>98</th>\n",
              "      <td>EPI_ISL_424122</td>\n",
              "      <td>England/20129161104/2020</td>\n",
              "      <td>ncov</td>\n",
              "      <td>?</td>\n",
              "      <td>2020-03-12</td>\n",
              "      <td>Europe</td>\n",
              "      <td>United Kingdom</td>\n",
              "      <td>England</td>\n",
              "      <td>NaN</td>\n",
              "      <td>Europe</td>\n",
              "      <td>...</td>\n",
              "      <td>Male</td>\n",
              "      <td>B</td>\n",
              "      <td>O</td>\n",
              "      <td>Respiratory Virus Unit, Microbiology Services ...</td>\n",
              "      <td>Respiratory Virus Unit, Microbiology Services ...</td>\n",
              "      <td>Monica Galiano et al</td>\n",
              "      <td>https://www.gisaid.org</td>\n",
              "      <td>Preliminary analysis of SARS-CoV-2 importation...</td>\n",
              "      <td>https://virological.org/t/preliminary-analysis...</td>\n",
              "      <td>2020-04-12</td>\n",
              "    </tr>\n",
              "    <tr>\n",
              "      <th>99</th>\n",
              "      <td>EPI_ISL_441547</td>\n",
              "      <td>England/CAMB-7C685/2020</td>\n",
              "      <td>ncov</td>\n",
              "      <td>?</td>\n",
              "      <td>2020-04-06</td>\n",
              "      <td>Europe</td>\n",
              "      <td>United Kingdom</td>\n",
              "      <td>England</td>\n",
              "      <td>NaN</td>\n",
              "      <td>Europe</td>\n",
              "      <td>...</td>\n",
              "      <td>?</td>\n",
              "      <td>B.1</td>\n",
              "      <td>G</td>\n",
              "      <td>Department of Pathology, University of Cambridge</td>\n",
              "      <td>Wellcome Sanger Institute for the COVID-19 Gen...</td>\n",
              "      <td>Luke W Meredith et al</td>\n",
              "      <td>https://www.gisaid.org</td>\n",
              "      <td>Preliminary analysis of SARS-CoV-2 importation...</td>\n",
              "      <td>https://virological.org/t/preliminary-analysis...</td>\n",
              "      <td>2020-05-12</td>\n",
              "    </tr>\n",
              "  </tbody>\n",
              "</table>\n",
              "<p>100 rows × 26 columns</p>\n",
              "</div>\n",
              "      <button class=\"colab-df-convert\" onclick=\"convertToInteractive('df-c4cdd436-9119-4031-982e-2fa69a1935e9')\"\n",
              "              title=\"Convert this dataframe to an interactive table.\"\n",
              "              style=\"display:none;\">\n",
              "        \n",
              "  <svg xmlns=\"http://www.w3.org/2000/svg\" height=\"24px\"viewBox=\"0 0 24 24\"\n",
              "       width=\"24px\">\n",
              "    <path d=\"M0 0h24v24H0V0z\" fill=\"none\"/>\n",
              "    <path d=\"M18.56 5.44l.94 2.06.94-2.06 2.06-.94-2.06-.94-.94-2.06-.94 2.06-2.06.94zm-11 1L8.5 8.5l.94-2.06 2.06-.94-2.06-.94L8.5 2.5l-.94 2.06-2.06.94zm10 10l.94 2.06.94-2.06 2.06-.94-2.06-.94-.94-2.06-.94 2.06-2.06.94z\"/><path d=\"M17.41 7.96l-1.37-1.37c-.4-.4-.92-.59-1.43-.59-.52 0-1.04.2-1.43.59L10.3 9.45l-7.72 7.72c-.78.78-.78 2.05 0 2.83L4 21.41c.39.39.9.59 1.41.59.51 0 1.02-.2 1.41-.59l7.78-7.78 2.81-2.81c.8-.78.8-2.07 0-2.86zM5.41 20L4 18.59l7.72-7.72 1.47 1.35L5.41 20z\"/>\n",
              "  </svg>\n",
              "      </button>\n",
              "      \n",
              "  <style>\n",
              "    .colab-df-container {\n",
              "      display:flex;\n",
              "      flex-wrap:wrap;\n",
              "      gap: 12px;\n",
              "    }\n",
              "\n",
              "    .colab-df-convert {\n",
              "      background-color: #E8F0FE;\n",
              "      border: none;\n",
              "      border-radius: 50%;\n",
              "      cursor: pointer;\n",
              "      display: none;\n",
              "      fill: #1967D2;\n",
              "      height: 32px;\n",
              "      padding: 0 0 0 0;\n",
              "      width: 32px;\n",
              "    }\n",
              "\n",
              "    .colab-df-convert:hover {\n",
              "      background-color: #E2EBFA;\n",
              "      box-shadow: 0px 1px 2px rgba(60, 64, 67, 0.3), 0px 1px 3px 1px rgba(60, 64, 67, 0.15);\n",
              "      fill: #174EA6;\n",
              "    }\n",
              "\n",
              "    [theme=dark] .colab-df-convert {\n",
              "      background-color: #3B4455;\n",
              "      fill: #D2E3FC;\n",
              "    }\n",
              "\n",
              "    [theme=dark] .colab-df-convert:hover {\n",
              "      background-color: #434B5C;\n",
              "      box-shadow: 0px 1px 3px 1px rgba(0, 0, 0, 0.15);\n",
              "      filter: drop-shadow(0px 1px 2px rgba(0, 0, 0, 0.3));\n",
              "      fill: #FFFFFF;\n",
              "    }\n",
              "  </style>\n",
              "\n",
              "      <script>\n",
              "        const buttonEl =\n",
              "          document.querySelector('#df-c4cdd436-9119-4031-982e-2fa69a1935e9 button.colab-df-convert');\n",
              "        buttonEl.style.display =\n",
              "          google.colab.kernel.accessAllowed ? 'block' : 'none';\n",
              "\n",
              "        async function convertToInteractive(key) {\n",
              "          const element = document.querySelector('#df-c4cdd436-9119-4031-982e-2fa69a1935e9');\n",
              "          const dataTable =\n",
              "            await google.colab.kernel.invokeFunction('convertToInteractive',\n",
              "                                                     [key], {});\n",
              "          if (!dataTable) return;\n",
              "\n",
              "          const docLinkHtml = 'Like what you see? Visit the ' +\n",
              "            '<a target=\"_blank\" href=https://colab.research.google.com/notebooks/data_table.ipynb>data table notebook</a>'\n",
              "            + ' to learn more about interactive tables.';\n",
              "          element.innerHTML = '';\n",
              "          dataTable['output_type'] = 'display_data';\n",
              "          await google.colab.output.renderOutput(dataTable, element);\n",
              "          const docLink = document.createElement('div');\n",
              "          docLink.innerHTML = docLinkHtml;\n",
              "          element.appendChild(docLink);\n",
              "        }\n",
              "      </script>\n",
              "    </div>\n",
              "  </div>\n",
              "  "
            ]
          },
          "metadata": {},
          "execution_count": 39
        }
      ],
      "source": [
        "metaMSA\n"
      ]
    },
    {
      "cell_type": "markdown",
      "metadata": {
        "id": "GSDR_O_XRZRY"
      },
      "source": [
        "#  Add alignment position of major mutations as columns in the merged meta file"
      ]
    },
    {
      "cell_type": "code",
      "execution_count": null,
      "metadata": {
        "id": "Xv34TAkuRZRY",
        "outputId": "f11c5e09-f82c-4b12-825c-b5008827aea0"
      },
      "outputs": [
        {
          "data": {
            "text/plain": [
              "198"
            ]
          },
          "execution_count": 48,
          "metadata": {},
          "output_type": "execute_result"
        }
      ],
      "source": [
        "major_mutation_indice[-1] #last position"
      ]
    },
    {
      "cell_type": "code",
      "execution_count": null,
      "metadata": {
        "id": "DYk4BQFcRZRY",
        "outputId": "b97fe16e-96da-47d7-b058-b2c8fd383953"
      },
      "outputs": [
        {
          "name": "stdout",
          "output_type": "stream",
          "text": [
            "pos 39 ['-', '-', '-', '-', '-', '-', '-', '-', '-', '-']\n",
            "len 100\n",
            "pos 49 ['-', '-', '-', '-', '-', '-', '-', '-', '-', '-']\n",
            "len 100\n",
            "pos 50 ['-', '-', '-', '-', '-', '-', '-', '-', '-', '-']\n",
            "len 100\n",
            "pos 51 ['-', '-', '-', '-', '-', '-', '-', '-', '-', '-']\n",
            "len 100\n",
            "pos 52 ['-', '-', '-', '-', '-', '-', '-', '-', '-', '-']\n",
            "len 100\n",
            "pos 53 ['-', '-', '-', '-', '-', '-', '-', '-', '-', '-']\n",
            "len 100\n",
            "pos 54 ['-', '-', '-', '-', '-', '-', '-', '-', '-', '-']\n",
            "len 100\n",
            "pos 55 ['-', '-', '-', '-', '-', '-', '-', '-', '-', '-']\n",
            "len 100\n",
            "pos 56 ['-', '-', '-', '-', '-', '-', '-', '-', '-', '-']\n",
            "len 100\n",
            "pos 57 ['-', '-', '-', '-', '-', '-', '-', '-', '-', '-']\n",
            "len 100\n",
            "pos 58 ['-', '-', '-', '-', '-', '-', '-', '-', '-', '-']\n",
            "len 100\n",
            "pos 59 ['-', '-', '-', '-', '-', '-', '-', '-', '-', '-']\n",
            "len 100\n",
            "pos 60 ['-', '-', '-', '-', '-', '-', '-', '-', '-', '-']\n",
            "len 100\n",
            "pos 61 ['-', '-', '-', '-', '-', '-', '-', '-', '-', '-']\n",
            "len 100\n",
            "pos 62 ['-', '-', '-', '-', '-', '-', '-', '-', '-', '-']\n",
            "len 100\n",
            "pos 63 ['-', '-', '-', '-', '-', '-', '-', '-', '-', '-']\n",
            "len 100\n",
            "pos 64 ['-', '-', '-', '-', '-', '-', '-', '-', '-', '-']\n",
            "len 100\n",
            "pos 65 ['-', '-', '-', '-', '-', '-', '-', '-', '-', '-']\n",
            "len 100\n",
            "pos 66 ['-', '-', '-', '-', '-', '-', '-', '-', '-', '-']\n",
            "len 100\n",
            "pos 67 ['-', '-', '-', '-', '-', '-', '-', '-', '-', '-']\n",
            "len 100\n",
            "pos 68 ['-', '-', '-', '-', '-', '-', '-', '-', '-', '-']\n",
            "len 100\n",
            "pos 69 ['-', '-', '-', '-', '-', '-', '-', '-', '-', '-']\n",
            "len 100\n",
            "pos 70 ['-', '-', '-', '-', '-', '-', '-', '-', '-', '-']\n",
            "len 100\n",
            "pos 71 ['-', '-', '-', '-', '-', '-', '-', '-', '-', '-']\n",
            "len 100\n",
            "pos 72 ['-', '-', '-', '-', '-', '-', '-', '-', '-', '-']\n",
            "len 100\n",
            "pos 73 ['-', '-', '-', '-', '-', '-', '-', '-', '-', '-']\n",
            "len 100\n",
            "pos 74 ['-', '-', '-', '-', '-', '-', '-', '-', '-', '-']\n",
            "len 100\n",
            "pos 75 ['-', '-', '-', '-', '-', '-', '-', '-', '-', '-']\n",
            "len 100\n",
            "pos 76 ['-', '-', '-', '-', '-', '-', '-', '-', '-', '-']\n",
            "len 100\n",
            "pos 77 ['-', '-', '-', '-', '-', '-', '-', '-', '-', '-']\n",
            "len 100\n",
            "pos 78 ['-', '-', '-', '-', '-', '-', '-', '-', '-', '-']\n",
            "len 100\n",
            "pos 79 ['-', '-', '-', '-', '-', '-', '-', '-', '-', '-']\n",
            "len 100\n",
            "pos 80 ['-', '-', '-', '-', '-', '-', '-', '-', '-', '-']\n",
            "len 100\n",
            "pos 81 ['-', '-', '-', '-', '-', '-', '-', '-', '-', '-']\n",
            "len 100\n",
            "pos 82 ['-', '-', '-', '-', '-', '-', '-', '-', '-', '-']\n",
            "len 100\n",
            "pos 83 ['-', '-', '-', '-', '-', '-', '-', '-', '-', '-']\n",
            "len 100\n",
            "pos 84 ['-', '-', '-', '-', '-', '-', '-', '-', '-', '-']\n",
            "len 100\n",
            "pos 85 ['-', '-', '-', '-', '-', '-', '-', '-', '-', '-']\n",
            "len 100\n",
            "pos 86 ['-', '-', '-', '-', '-', '-', '-', '-', '-', '-']\n",
            "len 100\n",
            "pos 88 ['-', '-', '-', '-', '-', '-', '-', '-', '-', '-']\n",
            "len 100\n",
            "pos 89 ['-', '-', '-', '-', '-', '-', '-', '-', '-', '-']\n",
            "len 100\n",
            "pos 90 ['-', '-', '-', '-', '-', '-', '-', '-', '-', '-']\n",
            "len 100\n",
            "pos 91 ['-', '-', '-', '-', '-', '-', '-', '-', '-', '-']\n",
            "len 100\n",
            "pos 92 ['-', '-', '-', '-', '-', '-', '-', '-', '-', '-']\n",
            "len 100\n",
            "pos 93 ['-', '-', '-', '-', '-', '-', '-', '-', '-', '-']\n",
            "len 100\n",
            "pos 94 ['-', '-', '-', '-', '-', '-', '-', '-', '-', '-']\n",
            "len 100\n",
            "pos 95 ['-', '-', '-', '-', '-', '-', '-', '-', '-', '-']\n",
            "len 100\n",
            "pos 96 ['-', '-', '-', '-', '-', '-', '-', '-', '-', '-']\n",
            "len 100\n",
            "pos 97 ['-', '-', '-', '-', '-', '-', '-', '-', '-', '-']\n",
            "len 100\n",
            "pos 98 ['-', '-', '-', '-', '-', '-', '-', '-', '-', '-']\n",
            "len 100\n",
            "pos 106 ['-', '-', '-', '-', '-', '-', '-', '-', '-', '-']\n",
            "len 100\n",
            "pos 135 ['-', '-', '-', '-', '-', '-', '-', '-', '-', '-']\n",
            "len 100\n",
            "pos 165 ['-', '-', '-', '-', '-', '-', '-', '-', '-', '-']\n",
            "len 100\n",
            "pos 178 ['-', '-', '-', '-', '-', '-', '-', '-', '-', '-']\n",
            "len 100\n",
            "pos 198 ['-', '-', '-', '-', '-', '-', '-', '-', '-', '-']\n",
            "len 100\n"
          ]
        }
      ],
      "source": [
        "#for pos in [0, 130, 131, 132]:   \n",
        "\n",
        "for pos in major_mutation_indice:\n",
        "    seq_buf_list = []\n",
        "    for i in range(len(records)): \n",
        "        seq_buf_list = seq_buf_list + list(records[i].seq[pos:(pos+1)]) \n",
        "    print(\"pos\", pos, seq_buf_list[0:10])\n",
        "    print( \"len\", len(seq_buf_list))\n",
        "    metaMSA[str(pos)] = seq_buf_list"
      ]
    },
    {
      "cell_type": "code",
      "execution_count": null,
      "metadata": {
        "id": "ab2EP9XERZRZ",
        "outputId": "893387d7-86d9-4c6d-aeb8-faa59a58b407"
      },
      "outputs": [
        {
          "data": {
            "text/html": [
              "<div>\n",
              "<style scoped>\n",
              "    .dataframe tbody tr th:only-of-type {\n",
              "        vertical-align: middle;\n",
              "    }\n",
              "\n",
              "    .dataframe tbody tr th {\n",
              "        vertical-align: top;\n",
              "    }\n",
              "\n",
              "    .dataframe thead th {\n",
              "        text-align: right;\n",
              "    }\n",
              "</style>\n",
              "<table border=\"1\" class=\"dataframe\">\n",
              "  <thead>\n",
              "    <tr style=\"text-align: right;\">\n",
              "      <th></th>\n",
              "      <th>gisaid_epi_isl</th>\n",
              "      <th>strain</th>\n",
              "      <th>virus</th>\n",
              "      <th>genbank_accession</th>\n",
              "      <th>date</th>\n",
              "      <th>region</th>\n",
              "      <th>country</th>\n",
              "      <th>division</th>\n",
              "      <th>location</th>\n",
              "      <th>region_exposure</th>\n",
              "      <th>...</th>\n",
              "      <th>94</th>\n",
              "      <th>95</th>\n",
              "      <th>96</th>\n",
              "      <th>97</th>\n",
              "      <th>98</th>\n",
              "      <th>106</th>\n",
              "      <th>135</th>\n",
              "      <th>165</th>\n",
              "      <th>178</th>\n",
              "      <th>198</th>\n",
              "    </tr>\n",
              "  </thead>\n",
              "  <tbody>\n",
              "    <tr>\n",
              "      <th>0</th>\n",
              "      <td>EPI_ISL_402124</td>\n",
              "      <td>Wuhan/WIV04/2019</td>\n",
              "      <td>ncov</td>\n",
              "      <td>MN996528</td>\n",
              "      <td>2019-12-30</td>\n",
              "      <td>Asia</td>\n",
              "      <td>China</td>\n",
              "      <td>Hubei</td>\n",
              "      <td>Wuhan</td>\n",
              "      <td>Asia</td>\n",
              "      <td>...</td>\n",
              "      <td>-</td>\n",
              "      <td>-</td>\n",
              "      <td>-</td>\n",
              "      <td>-</td>\n",
              "      <td>-</td>\n",
              "      <td>-</td>\n",
              "      <td>-</td>\n",
              "      <td>-</td>\n",
              "      <td>-</td>\n",
              "      <td>-</td>\n",
              "    </tr>\n",
              "    <tr>\n",
              "      <th>1</th>\n",
              "      <td>EPI_ISL_430416</td>\n",
              "      <td>USA/NY-NYUMC389/2020</td>\n",
              "      <td>ncov</td>\n",
              "      <td>?</td>\n",
              "      <td>2020-04-13</td>\n",
              "      <td>North America</td>\n",
              "      <td>USA</td>\n",
              "      <td>New York</td>\n",
              "      <td>Manhattan</td>\n",
              "      <td>North America</td>\n",
              "      <td>...</td>\n",
              "      <td>-</td>\n",
              "      <td>-</td>\n",
              "      <td>-</td>\n",
              "      <td>-</td>\n",
              "      <td>-</td>\n",
              "      <td>-</td>\n",
              "      <td>-</td>\n",
              "      <td>-</td>\n",
              "      <td>-</td>\n",
              "      <td>-</td>\n",
              "    </tr>\n",
              "    <tr>\n",
              "      <th>2</th>\n",
              "      <td>EPI_ISL_455440</td>\n",
              "      <td>Poland/PL_P27/2020</td>\n",
              "      <td>ncov</td>\n",
              "      <td>?</td>\n",
              "      <td>2020-03-27</td>\n",
              "      <td>Europe</td>\n",
              "      <td>Poland</td>\n",
              "      <td>Mazowieckie</td>\n",
              "      <td>Plock</td>\n",
              "      <td>Europe</td>\n",
              "      <td>...</td>\n",
              "      <td>-</td>\n",
              "      <td>-</td>\n",
              "      <td>-</td>\n",
              "      <td>-</td>\n",
              "      <td>-</td>\n",
              "      <td>-</td>\n",
              "      <td>-</td>\n",
              "      <td>-</td>\n",
              "      <td>-</td>\n",
              "      <td>-</td>\n",
              "    </tr>\n",
              "    <tr>\n",
              "      <th>3</th>\n",
              "      <td>EPI_ISL_456977</td>\n",
              "      <td>Scotland/EDB5128/2020</td>\n",
              "      <td>ncov</td>\n",
              "      <td>?</td>\n",
              "      <td>2020-05-17</td>\n",
              "      <td>Europe</td>\n",
              "      <td>United Kingdom</td>\n",
              "      <td>Scotland</td>\n",
              "      <td>NaN</td>\n",
              "      <td>Europe</td>\n",
              "      <td>...</td>\n",
              "      <td>-</td>\n",
              "      <td>-</td>\n",
              "      <td>-</td>\n",
              "      <td>-</td>\n",
              "      <td>-</td>\n",
              "      <td>-</td>\n",
              "      <td>-</td>\n",
              "      <td>-</td>\n",
              "      <td>-</td>\n",
              "      <td>-</td>\n",
              "    </tr>\n",
              "    <tr>\n",
              "      <th>4</th>\n",
              "      <td>EPI_ISL_425577</td>\n",
              "      <td>England/NOTT-10E696/2020</td>\n",
              "      <td>ncov</td>\n",
              "      <td>?</td>\n",
              "      <td>2020-03-24</td>\n",
              "      <td>Europe</td>\n",
              "      <td>United Kingdom</td>\n",
              "      <td>England</td>\n",
              "      <td>NaN</td>\n",
              "      <td>Europe</td>\n",
              "      <td>...</td>\n",
              "      <td>-</td>\n",
              "      <td>-</td>\n",
              "      <td>-</td>\n",
              "      <td>-</td>\n",
              "      <td>-</td>\n",
              "      <td>-</td>\n",
              "      <td>-</td>\n",
              "      <td>-</td>\n",
              "      <td>-</td>\n",
              "      <td>-</td>\n",
              "    </tr>\n",
              "    <tr>\n",
              "      <th>...</th>\n",
              "      <td>...</td>\n",
              "      <td>...</td>\n",
              "      <td>...</td>\n",
              "      <td>...</td>\n",
              "      <td>...</td>\n",
              "      <td>...</td>\n",
              "      <td>...</td>\n",
              "      <td>...</td>\n",
              "      <td>...</td>\n",
              "      <td>...</td>\n",
              "      <td>...</td>\n",
              "      <td>...</td>\n",
              "      <td>...</td>\n",
              "      <td>...</td>\n",
              "      <td>...</td>\n",
              "      <td>...</td>\n",
              "      <td>...</td>\n",
              "      <td>...</td>\n",
              "      <td>...</td>\n",
              "      <td>...</td>\n",
              "      <td>...</td>\n",
              "    </tr>\n",
              "    <tr>\n",
              "      <th>95</th>\n",
              "      <td>EPI_ISL_447956</td>\n",
              "      <td>England/CAMB-1AD004/2020</td>\n",
              "      <td>ncov</td>\n",
              "      <td>?</td>\n",
              "      <td>2020-04-30</td>\n",
              "      <td>Europe</td>\n",
              "      <td>United Kingdom</td>\n",
              "      <td>England</td>\n",
              "      <td>NaN</td>\n",
              "      <td>Europe</td>\n",
              "      <td>...</td>\n",
              "      <td>-</td>\n",
              "      <td>-</td>\n",
              "      <td>-</td>\n",
              "      <td>-</td>\n",
              "      <td>-</td>\n",
              "      <td>-</td>\n",
              "      <td>-</td>\n",
              "      <td>-</td>\n",
              "      <td>-</td>\n",
              "      <td>-</td>\n",
              "    </tr>\n",
              "    <tr>\n",
              "      <th>96</th>\n",
              "      <td>EPI_ISL_416373</td>\n",
              "      <td>Shanghai/SH0070/2020</td>\n",
              "      <td>ncov</td>\n",
              "      <td>?</td>\n",
              "      <td>2020-02-07</td>\n",
              "      <td>Asia</td>\n",
              "      <td>China</td>\n",
              "      <td>Shanghai</td>\n",
              "      <td>NaN</td>\n",
              "      <td>Asia</td>\n",
              "      <td>...</td>\n",
              "      <td>-</td>\n",
              "      <td>-</td>\n",
              "      <td>-</td>\n",
              "      <td>-</td>\n",
              "      <td>-</td>\n",
              "      <td>-</td>\n",
              "      <td>-</td>\n",
              "      <td>-</td>\n",
              "      <td>-</td>\n",
              "      <td>-</td>\n",
              "    </tr>\n",
              "    <tr>\n",
              "      <th>97</th>\n",
              "      <td>EPI_ISL_458790</td>\n",
              "      <td>England/BRIS-128951/2020</td>\n",
              "      <td>ncov</td>\n",
              "      <td>?</td>\n",
              "      <td>2020-04-14</td>\n",
              "      <td>Europe</td>\n",
              "      <td>United Kingdom</td>\n",
              "      <td>England</td>\n",
              "      <td>NaN</td>\n",
              "      <td>Europe</td>\n",
              "      <td>...</td>\n",
              "      <td>-</td>\n",
              "      <td>-</td>\n",
              "      <td>-</td>\n",
              "      <td>-</td>\n",
              "      <td>-</td>\n",
              "      <td>-</td>\n",
              "      <td>-</td>\n",
              "      <td>-</td>\n",
              "      <td>-</td>\n",
              "      <td>-</td>\n",
              "    </tr>\n",
              "    <tr>\n",
              "      <th>98</th>\n",
              "      <td>EPI_ISL_424122</td>\n",
              "      <td>England/20129161104/2020</td>\n",
              "      <td>ncov</td>\n",
              "      <td>?</td>\n",
              "      <td>2020-03-12</td>\n",
              "      <td>Europe</td>\n",
              "      <td>United Kingdom</td>\n",
              "      <td>England</td>\n",
              "      <td>NaN</td>\n",
              "      <td>Europe</td>\n",
              "      <td>...</td>\n",
              "      <td>-</td>\n",
              "      <td>-</td>\n",
              "      <td>-</td>\n",
              "      <td>-</td>\n",
              "      <td>-</td>\n",
              "      <td>-</td>\n",
              "      <td>-</td>\n",
              "      <td>-</td>\n",
              "      <td>-</td>\n",
              "      <td>-</td>\n",
              "    </tr>\n",
              "    <tr>\n",
              "      <th>99</th>\n",
              "      <td>EPI_ISL_441547</td>\n",
              "      <td>England/CAMB-7C685/2020</td>\n",
              "      <td>ncov</td>\n",
              "      <td>?</td>\n",
              "      <td>2020-04-06</td>\n",
              "      <td>Europe</td>\n",
              "      <td>United Kingdom</td>\n",
              "      <td>England</td>\n",
              "      <td>NaN</td>\n",
              "      <td>Europe</td>\n",
              "      <td>...</td>\n",
              "      <td>-</td>\n",
              "      <td>-</td>\n",
              "      <td>-</td>\n",
              "      <td>-</td>\n",
              "      <td>-</td>\n",
              "      <td>-</td>\n",
              "      <td>-</td>\n",
              "      <td>-</td>\n",
              "      <td>-</td>\n",
              "      <td>-</td>\n",
              "    </tr>\n",
              "  </tbody>\n",
              "</table>\n",
              "<p>100 rows × 81 columns</p>\n",
              "</div>"
            ],
            "text/plain": [
              "    gisaid_epi_isl                    strain virus genbank_accession  \\\n",
              "0   EPI_ISL_402124          Wuhan/WIV04/2019  ncov          MN996528   \n",
              "1   EPI_ISL_430416      USA/NY-NYUMC389/2020  ncov                 ?   \n",
              "2   EPI_ISL_455440        Poland/PL_P27/2020  ncov                 ?   \n",
              "3   EPI_ISL_456977     Scotland/EDB5128/2020  ncov                 ?   \n",
              "4   EPI_ISL_425577  England/NOTT-10E696/2020  ncov                 ?   \n",
              "..             ...                       ...   ...               ...   \n",
              "95  EPI_ISL_447956  England/CAMB-1AD004/2020  ncov                 ?   \n",
              "96  EPI_ISL_416373      Shanghai/SH0070/2020  ncov                 ?   \n",
              "97  EPI_ISL_458790  England/BRIS-128951/2020  ncov                 ?   \n",
              "98  EPI_ISL_424122  England/20129161104/2020  ncov                 ?   \n",
              "99  EPI_ISL_441547   England/CAMB-7C685/2020  ncov                 ?   \n",
              "\n",
              "          date         region         country     division   location  \\\n",
              "0   2019-12-30           Asia           China        Hubei      Wuhan   \n",
              "1   2020-04-13  North America             USA     New York  Manhattan   \n",
              "2   2020-03-27         Europe          Poland  Mazowieckie      Plock   \n",
              "3   2020-05-17         Europe  United Kingdom     Scotland        NaN   \n",
              "4   2020-03-24         Europe  United Kingdom      England        NaN   \n",
              "..         ...            ...             ...          ...        ...   \n",
              "95  2020-04-30         Europe  United Kingdom      England        NaN   \n",
              "96  2020-02-07           Asia           China     Shanghai        NaN   \n",
              "97  2020-04-14         Europe  United Kingdom      England        NaN   \n",
              "98  2020-03-12         Europe  United Kingdom      England        NaN   \n",
              "99  2020-04-06         Europe  United Kingdom      England        NaN   \n",
              "\n",
              "   region_exposure  ... 94 95 96  97 98 106 135 165 178 198  \n",
              "0             Asia  ...  -  -  -   -  -   -   -   -   -   -  \n",
              "1    North America  ...  -  -  -   -  -   -   -   -   -   -  \n",
              "2           Europe  ...  -  -  -   -  -   -   -   -   -   -  \n",
              "3           Europe  ...  -  -  -   -  -   -   -   -   -   -  \n",
              "4           Europe  ...  -  -  -   -  -   -   -   -   -   -  \n",
              "..             ...  ... .. .. ..  .. ..  ..  ..  ..  ..  ..  \n",
              "95          Europe  ...  -  -  -   -  -   -   -   -   -   -  \n",
              "96            Asia  ...  -  -  -   -  -   -   -   -   -   -  \n",
              "97          Europe  ...  -  -  -   -  -   -   -   -   -   -  \n",
              "98          Europe  ...  -  -  -   -  -   -   -   -   -   -  \n",
              "99          Europe  ...  -  -  -   -  -   -   -   -   -   -  \n",
              "\n",
              "[100 rows x 81 columns]"
            ]
          },
          "execution_count": 50,
          "metadata": {},
          "output_type": "execute_result"
        }
      ],
      "source": [
        "metaMSA"
      ]
    },
    {
      "cell_type": "code",
      "execution_count": null,
      "metadata": {
        "id": "htpP725cRZRZ"
      },
      "outputs": [],
      "source": [
        "metaMSA.to_csv(\"metadata_demo_MSA.csv\")"
      ]
    },
    {
      "cell_type": "code",
      "execution_count": null,
      "metadata": {
        "id": "VkU_fTmcRZRZ"
      },
      "outputs": [],
      "source": []
    },
    {
      "cell_type": "code",
      "execution_count": null,
      "metadata": {
        "id": "T7saRkTuRZRZ"
      },
      "outputs": [],
      "source": []
    }
  ],
  "metadata": {
    "kernelspec": {
      "display_name": "Python 3",
      "language": "python",
      "name": "python3"
    },
    "language_info": {
      "codemirror_mode": {
        "name": "ipython",
        "version": 3
      },
      "file_extension": ".py",
      "mimetype": "text/x-python",
      "name": "python",
      "nbconvert_exporter": "python",
      "pygments_lexer": "ipython3",
      "version": "3.7.7"
    },
    "colab": {
      "provenance": [],
      "include_colab_link": true
    }
  },
  "nbformat": 4,
  "nbformat_minor": 0
}